{
 "cells": [
  {
   "cell_type": "code",
   "execution_count": 10,
   "id": "c6b7306d",
   "metadata": {},
   "outputs": [
    {
     "ename": "ERROR",
     "evalue": "Error in library(psych): there is no package called ‘psych’\n",
     "output_type": "error",
     "traceback": [
      "Error in library(psych): there is no package called ‘psych’\nTraceback:\n",
      "1. library(psych)"
     ]
    }
   ],
   "source": [
    "#Lectute 6 jupyter notebook\n",
    "#Lecture6 \n",
    "#-------------------------------------------\n",
    "#install needed R packages\n",
    "#you will learn this in Sections\n",
    "#you only need to install them once then only call them using library()\n",
    "#-------------------------------------------\n",
    "#for reading escell data file install the package below\n",
    "#install.packages(\"readxl\")\n",
    "#for summary stats install below\n",
    "#install.packages(\"psych\")\n",
    "#for scatter plots etc install ggplot2\n",
    "#install.packages(\"ggplot2\")\n",
    "#install haven\n",
    "#install.packages(\"haven\")\n",
    "#install.packages(\"data.table\")\n",
    "#install.packages(\"dplyr\")\n",
    "#install.packages(\"foreign\")\n",
    "#call them in\n"
   ]
  },
  {
   "cell_type": "code",
   "execution_count": null,
   "id": "d9359dff",
   "metadata": {},
   "outputs": [],
   "source": [
    "#call in the needed packages\n",
    "library(readxl)\n",
    "library(psych)\n",
    "library(ggplot2)\n",
    "library(haven)\n",
    "library(data.table)\n",
    "library(dplyr)\n",
    "library(foreign)\n",
    "#-------------------------------------------\n",
    "#set your working directory\n",
    "#-------------------------------------------\n",
    "#setwd(\"/Users/sberto/Desktop/\")\n",
    "#setwd(\"/Users/sofiavillas-boas/Dropbox/EEP118_Spring2023/Lectures/Lecture6\")\n"
   ]
  },
  {
   "cell_type": "code",
   "execution_count": null,
   "id": "889f44ab",
   "metadata": {},
   "outputs": [],
   "source": [
    "\n",
    "#-------------------------------------------\n",
    "#1. Read in data and see the top rows to see column names etc\n",
    "#-------------------------------------------\n",
    "#read in Lecture6 data set\n",
    "#read in a Stata dataset\n",
    "my_data <- read_dta(\"Lecture6.dta\")\n",
    "#and see the top of the data set to browse the variables in the different columns\n",
    "head(my_data)"
   ]
  },
  {
   "cell_type": "code",
   "execution_count": null,
   "id": "fcc631b2",
   "metadata": {},
   "outputs": [],
   "source": [
    "#-------------------------------------------\n",
    "#summary stats of data\n",
    "#-------------------------------------------\n",
    "describe(my_data,skew=FALSE)"
   ]
  },
  {
   "cell_type": "code",
   "execution_count": null,
   "id": "a7950306",
   "metadata": {},
   "outputs": [],
   "source": [
    "#------------------------------------------\n",
    "#generate log of wage to be the depedent variable\n",
    "my_data$lwage<-log(my_data$wage)\n",
    "#summary stats of log wage\n",
    "describe(my_data$lwage, skew=FALSE)"
   ]
  },
  {
   "cell_type": "code",
   "execution_count": null,
   "id": "2372ca71",
   "metadata": {},
   "outputs": [],
   "source": [
    "#reg0\n",
    "reg0<-lm(lwage ~ educ+exper+female+services,my_data)\n",
    "summary(reg0)"
   ]
  },
  {
   "cell_type": "code",
   "execution_count": null,
   "id": "aa022ee1",
   "metadata": {},
   "outputs": [],
   "source": [
    "#reg1\n",
    "reg1<-lm(lwage ~ educ+exper+female,my_data)\n",
    "summary(reg1)"
   ]
  },
  {
   "cell_type": "code",
   "execution_count": null,
   "id": "af9a466f",
   "metadata": {},
   "outputs": [],
   "source": [
    "#reg2\n",
    "reg2<-lm(lwage ~ educ+exper,my_data)\n",
    "summary(reg2)"
   ]
  },
  {
   "cell_type": "code",
   "execution_count": null,
   "id": "8631c40a",
   "metadata": {},
   "outputs": [],
   "source": [
    "#reg3\n",
    "reg3<-lm(lwage ~ educ,my_data)\n",
    "summary(reg3)"
   ]
  },
  {
   "cell_type": "code",
   "execution_count": null,
   "id": "c43216d8",
   "metadata": {},
   "outputs": [],
   "source": [
    "#what do you see as you add more variables reg3 to reg 2, for example, what happens to the R squared?\n",
    "summary(reg2)\n",
    "summary(reg3)"
   ]
  },
  {
   "cell_type": "code",
   "execution_count": null,
   "id": "bfc7ddfb",
   "metadata": {},
   "outputs": [],
   "source": [
    "#-----------------------------------------------------------------------------------------------\n",
    "#run regressions \n",
    "#-----------------------------------------------------------------------------------------------\n",
    "reg1<-lm(lwage ~ educ+exper+female,my_data)\n",
    "summary(reg1)\n",
    "\n",
    "#we ran Lecture6.R, and estimated a 34.3597% female wage gap\n",
    "#we estimated the model lwage=beta0+ educ beta1+ exper beta2+ female beta3 + epsilon\n",
    "\n",
    "\n",
    "#see what happens when we add  non white to the education estimated parameter and R squared\n",
    "#add non white\n",
    "reg6<-lm(lwage ~ educ+exper+female+nonwhite,my_data)\n",
    "summary(reg6)"
   ]
  },
  {
   "cell_type": "code",
   "execution_count": null,
   "id": "f7eb7d65",
   "metadata": {},
   "outputs": [],
   "source": [
    "\n",
    "#Extra,  suggestion, see wage gap for non white and female\n",
    "#you would create a variable that is non white AND female, that is the product\n",
    "#of non white indicator and the female indicator\n",
    "\n",
    "my_data$nonwhiteFemale<-my_data$nonwhite*my_data$female\n",
    "reg7<-lm(lwage ~ educ+exper+female+nonwhite+nonwhiteFemale,my_data)\n",
    "summary(reg7)"
   ]
  },
  {
   "cell_type": "code",
   "execution_count": null,
   "id": "dc266dd5",
   "metadata": {},
   "outputs": [],
   "source": [
    "#what variable would you create to estimate whether there are educ marginal effect on lwage\n",
    "my_data$feduc<-my_data$educ*my_data$female\n",
    "\n",
    "reg7extra<-lm(lwage ~ educ+exper+female+feduc,my_data)\n",
    "summary(reg7extra)"
   ]
  }
 ],
 "metadata": {
  "kernelspec": {
   "display_name": "R",
   "language": "R",
   "name": "ir"
  },
  "language_info": {
   "codemirror_mode": "r",
   "file_extension": ".r",
   "mimetype": "text/x-r-source",
   "name": "R",
   "pygments_lexer": "r",
   "version": "4.2.1"
  }
 },
 "nbformat": 4,
 "nbformat_minor": 5
}
