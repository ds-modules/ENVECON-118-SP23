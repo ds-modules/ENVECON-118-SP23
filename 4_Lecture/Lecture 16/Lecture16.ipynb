{
 "cells": [
  {
   "cell_type": "markdown",
   "id": "45202013-e314-41d5-902d-700884645657",
   "metadata": {},
   "source": [
    "## Lecture 16 EEP118"
   ]
  },
  {
   "cell_type": "code",
   "execution_count": null,
   "id": "2a63d91f-6d11-4908-8254-399c7a23a5e3",
   "metadata": {},
   "outputs": [],
   "source": [
    "#Lecture16.R\n",
    "#LECTURE 16\n",
    "\n",
    "\n",
    "\n",
    "# Load the 'pacman' package\n",
    "library(pacman) \n",
    "#packages to use load them now using the pacman \"manager\"\n",
    "p_load(dplyr, haven, readr) \n",
    "#Another great feature of p_load(): if you try to load a package that is not installed on your machine, p_load() install the package for you, rather than throwing an error. For instance, let’s install and load one final package named ggplot2. \n",
    "p_load(ggplot2)\n",
    "\n",
    "pacman::p_load(lfe, lmtest, haven, sandwich, tidyverse)\n",
    "# lfe for running fixed effects regression\n",
    "# lmtest for displaying robust SE in output table\n",
    "# haven for loading in dta files\n",
    "# sandwich for producing robust Var-Cov matrix\n",
    "# tidyverse for manipulating data and producing plots"
   ]
  },
  {
   "cell_type": "code",
   "execution_count": null,
   "id": "90010501-22f1-4455-8ae6-408d7f42c0a1",
   "metadata": {},
   "outputs": [],
   "source": [
    "\n",
    "#set scientific display off, thank you Roy\n",
    "options(scipen=999)\n",
    "\n",
    "#read in a Stata dataset\n",
    "mydata <- read_dta(\"Lecture16.dta\")\n",
    "head(mydata)"
   ]
  },
  {
   "cell_type": "code",
   "execution_count": null,
   "id": "61907303-8304-4d0f-bc02-c334a119d9eb",
   "metadata": {},
   "outputs": [],
   "source": [
    "#generate category education variable\n",
    "mydata$cateduc=1\n",
    "mydata$cateduc[mydata$educ==12]<-2\n",
    "mydata$cateduc[mydata$educ>12]<-3\n",
    "\n",
    "#summary stats variables\n",
    "summary(mydata)"
   ]
  },
  {
   "cell_type": "markdown",
   "id": "6b1fb12b-875b-4bee-ae49-4e051b0570c0",
   "metadata": {},
   "source": [
    "### *1. ESTIMATE DIFFERENCE IN MEANS BETWEEN MALE AND FEMALE"
   ]
  },
  {
   "cell_type": "code",
   "execution_count": null,
   "id": "cf000c30-9bff-4497-ae8f-51befc27974a",
   "metadata": {},
   "outputs": [],
   "source": [
    "#*1. ESTIMATE DIFFERENCE IN MEANS BETWEEN MALE AND FEMALE\n",
    "\n",
    "summary(mydata$wage[which(mydata$female==1)])\n",
    "summary(mydata$wage[which(mydata$female==0)])\n",
    "\n",
    "#standard errors of the data\n",
    "sdfemale<-sd(mydata$wage[which(mydata$female==1)])\n",
    "sdmale<-sd(mydata$wage[which(mydata$female==0)])\n",
    "sdfemale\n",
    "sdmale\n",
    "\n",
    "#number of observations\n",
    "nfemale<-n_perc(mydata$female==1)\n",
    "nmale<-n_perc(mydata$female==0)\n",
    "nfemale\n",
    "nmale"
   ]
  },
  {
   "cell_type": "code",
   "execution_count": null,
   "id": "28e167e3-cdce-4949-82f7-dc1e014b2648",
   "metadata": {},
   "outputs": [],
   "source": [
    "# t test difference in means\n",
    "\n",
    "t.test(mydata$wage~mydata$female)\n"
   ]
  },
  {
   "cell_type": "markdown",
   "id": "2dca2acb-b69a-4791-8991-00db09b81392",
   "metadata": {},
   "source": [
    "graph of wage by female indicator"
   ]
  },
  {
   "cell_type": "code",
   "execution_count": null,
   "id": "5908f6c1-54cd-4fc4-90f9-6f062864559f",
   "metadata": {},
   "outputs": [],
   "source": [
    "ggplot(mydata, aes(x = factor(female), y = wage))+ \n",
    "  stat_summary(fun.y=\"mean\", geom=\"bar\")"
   ]
  },
  {
   "cell_type": "markdown",
   "id": "75ada17d-3f02-4ed2-9a64-241799b416ff",
   "metadata": {},
   "source": [
    "### *2. DISTRIBUTION OF WAGE BY GENDER\n"
   ]
  },
  {
   "cell_type": "code",
   "execution_count": null,
   "id": "e322ec87-126b-4162-a40f-bc0edd3fbb89",
   "metadata": {},
   "outputs": [],
   "source": [
    "\n",
    "ggplot(mydata,aes(x=wage)) + \n",
    "  geom_histogram(data=subset(mydata,female == 1),fill = \"red\", alpha = 0.2) +\n",
    "  geom_histogram(data=subset(mydata,female == 0),fill = \"blue\", alpha = 0.2)\n",
    "\n"
   ]
  },
  {
   "cell_type": "code",
   "execution_count": null,
   "id": "875f1c4d-efe9-4a86-818c-da984e10d58a",
   "metadata": {},
   "outputs": [],
   "source": [
    "#linear model\n",
    "two<-lm(wage~female,mydata)\n",
    "summary(two)"
   ]
  },
  {
   "cell_type": "markdown",
   "id": "c5fc9e53-b31f-4a24-ac8f-4c43980d9c60",
   "metadata": {},
   "source": [
    "### 3. DO WOMEN HAVE DIFFERENT CHARACTERISTICS THAT MATTER FOR WAGE?"
   ]
  },
  {
   "cell_type": "code",
   "execution_count": null,
   "id": "af7f02fd-f338-422a-b5e8-402ae0d79b81",
   "metadata": {},
   "outputs": [],
   "source": [
    "\n",
    "\n",
    "###graph average wages for different educaiton levels\n",
    "\n",
    "mydata$wage_female=mydata$wage\n",
    "mydata$wage_female[mydata$female==0]<-0\n",
    "\n",
    "mydata$wage_male=mydata$wage\n",
    "mydata$wage_male[mydata$female==1]<-0\n",
    "\n",
    "mydata <- mydata %>% \n",
    "  group_by(educ,female) %>% \n",
    "  mutate(meanwage = mean(wage))\n",
    "\n",
    "\n",
    "ggplot(mydata,aes(y = meanwage,x = educ,color = as.factor(female))) + \n",
    "  geom_line() \n",
    "\n"
   ]
  },
  {
   "cell_type": "markdown",
   "id": "8449d5e4-8a05-4c2f-96a1-71334f708e9d",
   "metadata": {},
   "source": [
    "#### #Discrimination, even after controlling for difference in characteristics:  "
   ]
  },
  {
   "cell_type": "code",
   "execution_count": null,
   "id": "24aa7f94-2c00-4fe9-ac5f-020a50246ada",
   "metadata": {},
   "outputs": [],
   "source": [
    "#Discrimination, even after controlling for difference in characteristics:  \n",
    "#Additive female effect\n",
    "\n",
    "three<-lm(wage~female+educ+exper+services+profocc, mydata)\n",
    "summary(three)\n",
    "\n",
    "four<-lm(wage~female, mydata)\n",
    "summary(four)\n"
   ]
  },
  {
   "cell_type": "markdown",
   "id": "bd66b810-f47d-4ed9-be40-a2528e9c374b",
   "metadata": {},
   "source": [
    "### *4. ARE THERE DIFFERENTIAL RETURNS TO EDUCATION FOR MEN AND WOMEN?"
   ]
  },
  {
   "cell_type": "code",
   "execution_count": null,
   "id": "dca9d90b-6539-4f4c-af33-6d8dbf811e0a",
   "metadata": {},
   "outputs": [],
   "source": [
    "\n",
    "#generate interaction\n",
    "mydata$femeduc=mydata$female*mydata$educ\n",
    "\n",
    "five<-lm(wage~female+educ+femeduc, mydata)\n",
    "summary(five)\n"
   ]
  },
  {
   "cell_type": "code",
   "execution_count": null,
   "id": "8f3dc293-7c1f-43f0-9142-ad48b8e63166",
   "metadata": {},
   "outputs": [],
   "source": [
    "#generate predictions\n",
    "mydata$wagehat<-predict(lm(wage~female+educ+femeduc, mydata))"
   ]
  },
  {
   "cell_type": "markdown",
   "id": "374e450a-6706-42e1-a57b-b419f15aad57",
   "metadata": {},
   "source": [
    "### plot them the wages for female and non female and also the predictions"
   ]
  },
  {
   "cell_type": "code",
   "execution_count": null,
   "id": "b76ec9b2-248e-4b15-880f-54f6647308c6",
   "metadata": {},
   "outputs": [],
   "source": [
    "\n",
    "\n",
    "#mydata$trfem=mydata$wagehat\n",
    "#mydata$trfem[mydata$female==0]<-0\n",
    "\n",
    "#mydata$trmale=mydata$wagehat\n",
    "#mydata$trmale[mydata$female==1]<-0\n",
    "\n",
    "ggplot(mydata, aes(x=educ, y=wage, color=as.factor(female))) +\n",
    "  geom_point() + \n",
    "  geom_smooth(method=lm, se=FALSE, fullrange=TRUE)\n",
    "\n"
   ]
  },
  {
   "cell_type": "markdown",
   "id": "6e467965-40e8-4901-8559-8811c5f4fa42",
   "metadata": {},
   "source": [
    "### #* Finally, is there a WEST COAST DIFFERENTIAL EFFECT ON MEN' AND WOMEN'S WAGES?"
   ]
  },
  {
   "cell_type": "code",
   "execution_count": null,
   "id": "6e73b01e-f4bc-4f9d-8d6a-dfb116f35740",
   "metadata": {},
   "outputs": [],
   "source": [
    "#* Finally, is there a WEST COAST DIFFERENTIAL EFFECT ON MEN' AND WOMEN'S WAGES?\n",
    "summary(mydata$west)\n",
    "\n",
    "mydata$femwest=mydata$female*mydata$west\n",
    "\n",
    "five<-lm(wage~female+west+femwest+educ+exper,mydata)\n",
    "summary(five)"
   ]
  }
 ],
 "metadata": {
  "kernelspec": {
   "display_name": "R",
   "language": "R",
   "name": "ir"
  },
  "language_info": {
   "codemirror_mode": "r",
   "file_extension": ".r",
   "mimetype": "text/x-r-source",
   "name": "R",
   "pygments_lexer": "r",
   "version": "4.2.1"
  }
 },
 "nbformat": 4,
 "nbformat_minor": 5
}
