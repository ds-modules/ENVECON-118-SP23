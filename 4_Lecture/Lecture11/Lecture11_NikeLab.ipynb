{
 "cells": [
  {
   "cell_type": "markdown",
   "metadata": {},
   "source": [
    "# Lecture 11 - EEP 118 Spring 2023¶ \n",
    "Nike Zion Williamsons' shoe explosion\n"
   ]
  },
  {
   "cell_type": "markdown",
   "metadata": {},
   "source": [
    "This is the notebook for Lecture 11 where we will estimate the effect of a Nike show destruction during an NCAA basketball game on Nike prices, before and after the shoe falls apart on national television.\n",
    "\n",
    "Can we reject the null hypothesis that Zion’s shoe explosion was not correlated with a change in Nike Stock prices at 5 % significance level, or at 1 % significance? \n",
    "\n",
    "Research Strategy: Collect Data on hourly Nike Stock Prices  on Feb 20th (pre shoe explosion) and on Feb 21 (next day after shoe explosion) of 2019\n",
    "\n",
    "\n",
    "\n",
    "To run, hit the `i>|Run` button on top middle bar and keep hitting and it will run line by line,\n",
    "\n",
    "OR\n",
    "\n",
    "To run a line that starts with In [ ]:  highlight the content and hit CONTROL ENTER at same time"
   ]
  },
  {
   "cell_type": "code",
   "execution_count": null,
   "metadata": {},
   "outputs": [],
   "source": [
    "# Load the 'pacman' package\n",
    "library(pacman) \n",
    "#packages to use load them now using the pacman \"manager\"\n",
    "p_load(dplyr, haven, readr) \n",
    "#Another great feature of p_load(): if you try to load a package that is not installed on your machine, p_load() install the package for you, rather than throwing an error. For instance, let’s install and load one final package named ggplot2. \n",
    "p_load(ggplot2)\n",
    "pacman::p_load(lfe, lmtest, haven, sandwich, tidyverse)\n",
    "# lfe for running fixed effects regression\n",
    "# lmtest for displaying robust SE in output table\n",
    "# haven for loading in dta files\n",
    "\n",
    "#set scientific display off, thank you Roy\n",
    "options(scipen=999)\n"
   ]
  },
  {
   "cell_type": "code",
   "execution_count": null,
   "metadata": {},
   "outputs": [],
   "source": [
    "#-------------------------------------------\n",
    "#1. Read in data and see the top rows to see column names etc\n",
    "#-------------------------------------------\n",
    "#read in a Stata dataset\n",
    "StockData <- read_dta(\"Lecture11_stockPricesn.dta\")\n",
    "head(StockData)"
   ]
  },
  {
   "cell_type": "code",
   "execution_count": null,
   "metadata": {},
   "outputs": [],
   "source": [
    "##Renaming first four columns columns\n",
    "colnames(StockData) <- c(\"Hour\", \"Nike\", \"Adidas\", \"UnderArmour\")"
   ]
  },
  {
   "cell_type": "code",
   "execution_count": null,
   "metadata": {},
   "outputs": [],
   "source": [
    "##Defining Post \"Shoe Explodes\" Dummy\n",
    "StockData$PostExplosion <- as.numeric(StockData$Hour >= 9)\n",
    "#see the bottom rows of the dataset\n",
    "tail(StockData)"
   ]
  },
  {
   "cell_type": "markdown",
   "metadata": {},
   "source": [
    "scatter plot for nike stock prices with explosion marked"
   ]
  },
  {
   "cell_type": "code",
   "execution_count": null,
   "metadata": {},
   "outputs": [],
   "source": [
    "NikePlot <- ggplot(StockData, aes(x = Hour, y = Nike))\n",
    "#NikePlot <- NikePlot + geom_smooth(se=FALSE) + geom_point() + geom_line(color=\"black\") + geom_vline(xintercept=8.5, colour=\"Red\")\n",
    "NikePlot <- NikePlot + geom_point() + geom_line(color=\"black\") + geom_vline(xintercept=8.5, colour=\"Red\")\n",
    "NikePlot <- NikePlot + theme_bw() + theme(plot.title = element_text(hjust = 0.5)) + \n",
    "  scale_x_continuous(breaks=(seq(1,16,4)), labels=c(\"9am\", \"1pm\", \"9am\", \"1pm\"))\n",
    "NikePlot <- NikePlot + xlab(\"Hour\") + ylab(\"Stock Price\") + ggtitle(\"Nike Stock Price: February 20-21, 2019\")\n",
    "NikePlot"
   ]
  },
  {
   "cell_type": "markdown",
   "metadata": {},
   "source": [
    "Summary Stats"
   ]
  },
  {
   "cell_type": "code",
   "execution_count": null,
   "metadata": {},
   "outputs": [],
   "source": [
    "#one way\n",
    "library(psych)\n",
    "describeBy(StockData$Nike, StockData$PostExplosion)\n",
    "#library(doBy)\n",
    "#summaryBy(Nike ~ PostExplosion, data = StockData,\n",
    "#          FUN = function(x) { c(m = mean(x), s = sd(x)) } )\n",
    "# produces mpg.m wt.m mpg.s wt.s for each\n",
    "#  level of PostExplosion"
   ]
  },
  {
   "cell_type": "markdown",
   "metadata": {},
   "source": [
    "Regression of stock price on hourly trend and explosion indicator"
   ]
  },
  {
   "cell_type": "code",
   "execution_count": null,
   "metadata": {},
   "outputs": [],
   "source": [
    "#regression\n",
    "regLecture11 <- lm(Nike ~ Hour+PostExplosion,StockData)\n",
    "#show output\n",
    "summary(regLecture11)"
   ]
  },
  {
   "cell_type": "markdown",
   "metadata": {},
   "source": [
    "What do we see above? Interpretation, controlling for an hourly trend (Hour),  the explosion is correlated with a significant drop of Nike Stock prices (coefficient on post explosion is -1.27, and is statistically significant from zero, at 5%, 1%, 0.001 % signif the p value is 0.0000244=2.44e-05.\n",
    "\n",
    "If you want to know if -1.27 dollars is a big drop, compare it to the baseline average of 84.61 (the constant estimate).\n",
    "\n",
    "So  -1.27/84.61 is about - 0.015, or   -1.5%  drop\n",
    "\n"
   ]
  },
  {
   "cell_type": "markdown",
   "metadata": {},
   "source": [
    "How to get estimated parameters bata_hat b0_hat, b1_hat, b2_hat and also Generate Predicted stock price of nike using b0 and b1 and b2 estimates of the regression you estimated"
   ]
  },
  {
   "cell_type": "code",
   "execution_count": null,
   "metadata": {},
   "outputs": [],
   "source": [
    "#how to extract the coeff from the regression above?\n",
    "#R stores that in recLecture11\n",
    "#as a variable called regLecture11$coefficients\n",
    "\n",
    "#all of them into beta_hat vector:\n",
    "beta_hat<-regLecture11$coefficients\n",
    "beta_hat\n",
    "\n",
    "#estimate of a constant is the first one in the coefficients\n",
    "regLecture11$coefficients[1]\n",
    "\n",
    "#estimate of explosion parameter is the third one in the coefficients:\n",
    "regLecture11$coefficients[3]\n",
    "\n",
    "#and it also has the fitted values and add them as an additional column to the dataframe of data\n",
    "StockData$Yhat<-regLecture11$fitted.values\n",
    "\n",
    "#create predictions as a separate column of data called Yhat\n",
    "Yhat<-regLecture11$fitted.values\n",
    "#or Nikehat\n",
    "Nikehat<-regLecture11$fitted.values"
   ]
  },
  {
   "cell_type": "markdown",
   "metadata": {},
   "source": [
    "Another way to get predictions, multiply coeff and x's "
   ]
  },
  {
   "cell_type": "code",
   "execution_count": null,
   "metadata": {},
   "outputs": [],
   "source": [
    "StockData$Nikeprediction<- regLecture11$coefficients[1]+ regLecture11$coefficients[2]*StockData$Hour+ regLecture11$coefficients[3]*StockData$PostExplosion\n",
    "#look at the column Nikeprediction in StockData frame. It is equal to Yhat defined above"
   ]
  },
  {
   "cell_type": "markdown",
   "metadata": {},
   "source": [
    "Generate the Log of Nike stock price by hour from the original data and add as an additional column to the dataframe called StockData"
   ]
  },
  {
   "cell_type": "code",
   "execution_count": null,
   "metadata": {},
   "outputs": [],
   "source": [
    "#generate log\n",
    "StockData$NikeLog<-log(StockData$Nike)"
   ]
  },
  {
   "cell_type": "markdown",
   "metadata": {},
   "source": [
    "We can get and interpret the regression estimates of the log price regression now.  In fact, that way we get the percent change due to the explosion directly from the coefficient of the postExplosion variable,  from the regression of log prices on a constant, hour, and post explosion"
   ]
  },
  {
   "cell_type": "code",
   "execution_count": null,
   "metadata": {},
   "outputs": [],
   "source": [
    "#regression in logs\n",
    "regLecture11Log <- lm(NikeLog ~ Hour+PostExplosion,StockData)\n",
    "#show output\n",
    "summary(regLecture11Log)"
   ]
  },
  {
   "cell_type": "markdown",
   "metadata": {},
   "source": [
    "What do we see above? Interpretation, controlling for an hourly trend (Hour), the explosion is correlated with a significant drop of log of Nike Stock prices (coefficient on post explosion is -0.015, and is statistically significant from zero, at 5%, 1%, 0.001 % signif the p value is 0.0000248=2.48e-05. A change in the log of -0.015 in the change in the Nike price of - 1.5%\n",
    "\n",
    "beta_hat post explosion=-0.015 corresponds to a -1.5% drop in the Nike price."
   ]
  },
  {
   "cell_type": "markdown",
   "metadata": {},
   "source": [
    "THIS is a before and AFTER analysis, we can say if we find statistical evidence \n",
    "in favor of explosion being correlated with a change in Nike stock or not, \n",
    "all else constant. But we cannot say it CAUSED the change in price.\n",
    "\n",
    "Later in class, where we are going towards is CAUSALITY!\n",
    "\n",
    "Research Strategy: Collect Data on hourly Nike and UA and Adidas Stock Prices  on Feb 20 and 21 \n",
    "\n",
    "That is, get data also for a control group that captures anything else that could have happened to stock prices for sports companies from 20 and 21 of Feb that had nothing to do with the explosion, e.g. get stock prices for Adidas and Under Armour.\n",
    "\n",
    "FIRST : Check if Adidas and Under Armour, or average of (UA and Adidas),  stock prices were trending similarly to Nike stock prices before the explosion\n",
    "\n",
    "Then we have a good counterfactual, Of what would have happened in Feb 21 relative to Feb 20 to Nike if there was no explosion (using the change in average (UA and Adidas) stock prices as that control change)\n",
    "\n",
    "Then the causal effect of the explosion on Nike on Feb 21 is change in Nike MINUS change in average(UA and Adidas). We call this Difference in Differences. \n",
    "\n",
    "See the youtube of (NikeLab folder).\n",
    "\n",
    "I will return at end of semester to do the rest with you all, and see in the next slide a blog post  on my complete Econometric analysis  Nike Lab. \n",
    "\n",
    "With Scott Kaplan, who is starting this Fall as an Assistant Professor in Economics at the U. S. Naval academy. He graduated from EEP, then will graduate this year with a PhD in ARE \n",
    "\n",
    "https://www.scottkaplan.org/post/the-explosion-heard-around-the-college-basketball-world\n",
    "\n",
    "The video of this Lecture11 portion – Nike Lab, is here on Youtube, by yours truly\n",
    "https://youtu.be/eWE_vEEZhS0\n",
    "\n",
    "\n"
   ]
  }
 ],
 "metadata": {
  "kernelspec": {
   "display_name": "R",
   "language": "R",
   "name": "ir"
  },
  "language_info": {
   "codemirror_mode": "r",
   "file_extension": ".r",
   "mimetype": "text/x-r-source",
   "name": "R",
   "pygments_lexer": "r",
   "version": "4.2.1"
  }
 },
 "nbformat": 4,
 "nbformat_minor": 4
}
