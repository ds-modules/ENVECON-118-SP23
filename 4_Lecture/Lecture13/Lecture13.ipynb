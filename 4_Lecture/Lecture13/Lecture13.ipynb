{
 "cells": [
  {
   "cell_type": "markdown",
   "id": "35ada569-515b-461e-91d7-5f86d19472b8",
   "metadata": {},
   "source": [
    "Lecture 12- Spring 2023\n",
    "Villas-Boas\n",
    "\n",
    "This notebook does the following:\n",
    "\n",
    "Measuring amenities, hedonic model\n",
    "\n",
    "Standardizing\n",
    "\n",
    "Functional forms\n",
    "\n",
    "Selection x var, models, adjusted R squared\n",
    "\n",
    "Study Ch 6.1 + 6.3\n",
    "\n",
    "Today starts the material after the Midterm\n",
    "\n",
    "---------\n",
    "Midterm review topics posted on bcourses, with tables for midterm\n",
    "Practice Midterm posted, with solutions and formula sheet posted\n",
    "Quiz 3 includes material for midterm, has been posted. Quiz 4 already material for after midterm\n",
    "\n"
   ]
  },
  {
   "cell_type": "code",
   "execution_count": 24,
   "id": "d1c5f5f6-4926-408e-aecd-84907b8afce4",
   "metadata": {},
   "outputs": [],
   "source": [
    "# Load the 'pacman' package\n",
    "library(pacman) \n",
    "#packages to use load them now using the pacman \"manager\"\n",
    "p_load(dplyr, haven, readr) \n",
    "#Another great feature of p_load(): if you try to load a package that is not installed on your machine, p_load() install the package for you, rather than throwing an error. For instance, let’s install and load one final package named ggplot2. \n",
    "p_load(ggplot2)\n",
    "\n",
    "pacman::p_load(lfe, lmtest, haven, sandwich, tidyverse)\n",
    "pacman::p_load(lfe, lmtest, haven, sandwich, tidyverse,psych,car)\n",
    "# lfe for running fixed effects regression\n",
    "# lmtest for displaying robust SE in output table\n",
    "# haven for loading in dta files\n",
    "# sandwich for producing robust Var-Cov matrix\n",
    "# tidyverse for manipulating data and producing plots"
   ]
  },
  {
   "cell_type": "code",
   "execution_count": 15,
   "id": "bb849103",
   "metadata": {},
   "outputs": [],
   "source": [
    "#set scientific display off, thank you Roy\n",
    "options(scipen=999)"
   ]
  },
  {
   "cell_type": "code",
   "execution_count": 16,
   "id": "374492e7-7ae3-461c-a19e-db22081b78cc",
   "metadata": {},
   "outputs": [
    {
     "data": {
      "text/html": [
       "<table class=\"dataframe\">\n",
       "<caption>A tibble: 6 × 12</caption>\n",
       "<thead>\n",
       "\t<tr><th scope=col>price</th><th scope=col>crime</th><th scope=col>nox</th><th scope=col>rooms</th><th scope=col>dist</th><th scope=col>radial</th><th scope=col>proptax</th><th scope=col>stratio</th><th scope=col>ppoverty</th><th scope=col>lprice</th><th scope=col>lnox</th><th scope=col>lproptax</th></tr>\n",
       "\t<tr><th scope=col>&lt;dbl&gt;</th><th scope=col>&lt;dbl&gt;</th><th scope=col>&lt;dbl&gt;</th><th scope=col>&lt;dbl&gt;</th><th scope=col>&lt;dbl&gt;</th><th scope=col>&lt;dbl&gt;</th><th scope=col>&lt;dbl&gt;</th><th scope=col>&lt;dbl&gt;</th><th scope=col>&lt;dbl&gt;</th><th scope=col>&lt;dbl&gt;</th><th scope=col>&lt;dbl&gt;</th><th scope=col>&lt;dbl&gt;</th></tr>\n",
       "</thead>\n",
       "<tbody>\n",
       "\t<tr><td>24000</td><td>0.006</td><td>5.38</td><td>6.57</td><td>4.09</td><td>1</td><td>29.6</td><td>15.3</td><td>4.98</td><td>10.085809</td><td>1.682688</td><td>5.690360</td></tr>\n",
       "\t<tr><td>21599</td><td>0.027</td><td>4.69</td><td>6.42</td><td>4.97</td><td>2</td><td>24.2</td><td>17.8</td><td>9.14</td><td> 9.980402</td><td>1.545433</td><td>5.488938</td></tr>\n",
       "\t<tr><td>34700</td><td>0.027</td><td>4.69</td><td>7.18</td><td>4.97</td><td>2</td><td>24.2</td><td>17.8</td><td>4.03</td><td>10.454495</td><td>1.545433</td><td>5.488938</td></tr>\n",
       "\t<tr><td>33400</td><td>0.032</td><td>4.58</td><td>7.00</td><td>6.06</td><td>3</td><td>22.2</td><td>18.7</td><td>2.94</td><td>10.416311</td><td>1.521699</td><td>5.402678</td></tr>\n",
       "\t<tr><td>36199</td><td>0.069</td><td>4.58</td><td>7.15</td><td>6.06</td><td>3</td><td>22.2</td><td>18.7</td><td>5.33</td><td>10.496787</td><td>1.521699</td><td>5.402678</td></tr>\n",
       "\t<tr><td>28701</td><td>0.030</td><td>4.58</td><td>6.43</td><td>6.06</td><td>3</td><td>22.2</td><td>18.7</td><td>5.21</td><td>10.264688</td><td>1.521699</td><td>5.402678</td></tr>\n",
       "</tbody>\n",
       "</table>\n"
      ],
      "text/latex": [
       "A tibble: 6 × 12\n",
       "\\begin{tabular}{llllllllllll}\n",
       " price & crime & nox & rooms & dist & radial & proptax & stratio & ppoverty & lprice & lnox & lproptax\\\\\n",
       " <dbl> & <dbl> & <dbl> & <dbl> & <dbl> & <dbl> & <dbl> & <dbl> & <dbl> & <dbl> & <dbl> & <dbl>\\\\\n",
       "\\hline\n",
       "\t 24000 & 0.006 & 5.38 & 6.57 & 4.09 & 1 & 29.6 & 15.3 & 4.98 & 10.085809 & 1.682688 & 5.690360\\\\\n",
       "\t 21599 & 0.027 & 4.69 & 6.42 & 4.97 & 2 & 24.2 & 17.8 & 9.14 &  9.980402 & 1.545433 & 5.488938\\\\\n",
       "\t 34700 & 0.027 & 4.69 & 7.18 & 4.97 & 2 & 24.2 & 17.8 & 4.03 & 10.454495 & 1.545433 & 5.488938\\\\\n",
       "\t 33400 & 0.032 & 4.58 & 7.00 & 6.06 & 3 & 22.2 & 18.7 & 2.94 & 10.416311 & 1.521699 & 5.402678\\\\\n",
       "\t 36199 & 0.069 & 4.58 & 7.15 & 6.06 & 3 & 22.2 & 18.7 & 5.33 & 10.496787 & 1.521699 & 5.402678\\\\\n",
       "\t 28701 & 0.030 & 4.58 & 6.43 & 6.06 & 3 & 22.2 & 18.7 & 5.21 & 10.264688 & 1.521699 & 5.402678\\\\\n",
       "\\end{tabular}\n"
      ],
      "text/markdown": [
       "\n",
       "A tibble: 6 × 12\n",
       "\n",
       "| price &lt;dbl&gt; | crime &lt;dbl&gt; | nox &lt;dbl&gt; | rooms &lt;dbl&gt; | dist &lt;dbl&gt; | radial &lt;dbl&gt; | proptax &lt;dbl&gt; | stratio &lt;dbl&gt; | ppoverty &lt;dbl&gt; | lprice &lt;dbl&gt; | lnox &lt;dbl&gt; | lproptax &lt;dbl&gt; |\n",
       "|---|---|---|---|---|---|---|---|---|---|---|---|\n",
       "| 24000 | 0.006 | 5.38 | 6.57 | 4.09 | 1 | 29.6 | 15.3 | 4.98 | 10.085809 | 1.682688 | 5.690360 |\n",
       "| 21599 | 0.027 | 4.69 | 6.42 | 4.97 | 2 | 24.2 | 17.8 | 9.14 |  9.980402 | 1.545433 | 5.488938 |\n",
       "| 34700 | 0.027 | 4.69 | 7.18 | 4.97 | 2 | 24.2 | 17.8 | 4.03 | 10.454495 | 1.545433 | 5.488938 |\n",
       "| 33400 | 0.032 | 4.58 | 7.00 | 6.06 | 3 | 22.2 | 18.7 | 2.94 | 10.416311 | 1.521699 | 5.402678 |\n",
       "| 36199 | 0.069 | 4.58 | 7.15 | 6.06 | 3 | 22.2 | 18.7 | 5.33 | 10.496787 | 1.521699 | 5.402678 |\n",
       "| 28701 | 0.030 | 4.58 | 6.43 | 6.06 | 3 | 22.2 | 18.7 | 5.21 | 10.264688 | 1.521699 | 5.402678 |\n",
       "\n"
      ],
      "text/plain": [
       "  price crime nox  rooms dist radial proptax stratio ppoverty lprice   \n",
       "1 24000 0.006 5.38 6.57  4.09 1      29.6    15.3    4.98     10.085809\n",
       "2 21599 0.027 4.69 6.42  4.97 2      24.2    17.8    9.14      9.980402\n",
       "3 34700 0.027 4.69 7.18  4.97 2      24.2    17.8    4.03     10.454495\n",
       "4 33400 0.032 4.58 7.00  6.06 3      22.2    18.7    2.94     10.416311\n",
       "5 36199 0.069 4.58 7.15  6.06 3      22.2    18.7    5.33     10.496787\n",
       "6 28701 0.030 4.58 6.43  6.06 3      22.2    18.7    5.21     10.264688\n",
       "  lnox     lproptax\n",
       "1 1.682688 5.690360\n",
       "2 1.545433 5.488938\n",
       "3 1.545433 5.488938\n",
       "4 1.521699 5.402678\n",
       "5 1.521699 5.402678\n",
       "6 1.521699 5.402678"
      ]
     },
     "metadata": {},
     "output_type": "display_data"
    }
   ],
   "source": [
    "#read in a Stata dataset\n",
    "my_data <- read_dta(\"Lecture13HPRICE2.dta\")\n",
    "head(my_data)"
   ]
  },
  {
   "cell_type": "markdown",
   "id": "b8eb553a-caf2-451f-91d0-6dc927345d6d",
   "metadata": {},
   "source": [
    "\n",
    " \n",
    " \n",
    " Source:  D. Harrison and D.L. Rubinfeld (1978), \"Hedonic Housing Prices and the Demand for Clean Air,\" \n",
    "Journal of Environmental Economics and Management 5, 81-102. (data Lecture13Hprice2.dta in bcourses)\n",
    "Unit of analysis census tract in the Boston area – Most data 1970 U.S. Census.  \n",
    "The data below were obtained by merging/ matching average house prices and characteristics by census tract \n",
    "(1 to 6 ) with crime (census) levels  and pollution (variable 7) levels from another source.\n",
    "1. price           median housing price, $\n",
    "2. crime           crimes committed per capita\n",
    "3. ppoverty         % of people in poverty'\n",
    "4. rooms           avg number of rooms per house\n",
    "5. dist            weighted dist. to 5 employ centers\n",
    "6. stratio         average student-teacher ratio\n",
    "7. nox             nitrous oxide, parts per 100 million.  (EPA standard 5.3)\n"
   ]
  },
  {
   "cell_type": "code",
   "execution_count": 17,
   "id": "1ff3b772-080d-4626-b0ca-7b29702f5e7d",
   "metadata": {},
   "outputs": [
    {
     "ename": "ERROR",
     "evalue": "Error in describe(my_data): could not find function \"describe\"\n",
     "output_type": "error",
     "traceback": [
      "Error in describe(my_data): could not find function \"describe\"\nTraceback:\n"
     ]
    }
   ],
   "source": [
    "#***summary stats of the data : price nox crime dist rooms ppoverty stratio\n",
    "\n",
    "#summary stats of data \n",
    "#one way describes all data:\n",
    "describe(my_data)"
   ]
  },
  {
   "cell_type": "code",
   "execution_count": 18,
   "id": "e39a5231-1121-4df0-b30c-b71f7a16e2d3",
   "metadata": {},
   "outputs": [
    {
     "ename": "ERROR",
     "evalue": "Error in describe(data2): could not find function \"describe\"\n",
     "output_type": "error",
     "traceback": [
      "Error in describe(data2): could not find function \"describe\"\nTraceback:\n"
     ]
    }
   ],
   "source": [
    "#to describe only a subset\n",
    "data2<-cbind(my_data$price,my_data$nox,my_data$crime,my_data$dist,my_data$rooms,my_data$ppoverty,my_data$stratio)\n",
    "\n",
    "##Renaming first four columns columns\n",
    "colnames(data2) <- c(\"price\", \"nox\", \"crime\", \"dist\", \"rooms\", \"ppoverty\", \"stratio\")\n",
    "\n",
    "describe(data2)"
   ]
  },
  {
   "cell_type": "code",
   "execution_count": 19,
   "id": "2a2eb499-4319-4d02-b838-f9258c7700cc",
   "metadata": {},
   "outputs": [
    {
     "data": {
      "image/png": "[encoded data removed]",
      "text/plain": [
       "Plot with title “Nox”"
      ]
     },
     "metadata": {
      "image/png": {
       "height": 420,
       "width": 420
      }
     },
     "output_type": "display_data"
    }
   ],
   "source": [
    "#box plot of NOX\n",
    "boxplot(my_data$nox, main=\"Nox\" ) \n",
    "# box plot for 'nox'\n",
    "\n",
    "#/*NOX: the variable in measured in parts per 100 mill (pp100m)  nitrogen dioxide\n",
    "#The   EPA official annual standard is 5.3 ppm\n",
    "#https://www3.epa.gov/ttn/naaqs/standards/nox/s_nox_history.html \n",
    "#*/\n",
    "#  /*REVIEW for MIDTERM: What do you see in terms of the data standard deviation\n",
    "\n",
    "#and Max Min of annual NOX in US census tracts?  \n",
    "#  Variable |        Obs        Mean    Std. Dev.       Min        Max\n",
    "#nox |        506    5.549783    1.158395       3.85       8.71\n",
    "#What is the average NOX among the data census tracts? What is standard error of the average?\n",
    "#  average 5.549783   std dev of average is 1.158395/square_root(506)\n",
    "#*/\n",
    "  "
   ]
  },
  {
   "cell_type": "code",
   "execution_count": 20,
   "id": "20d94da3-6191-415d-959a-cf8f38ed15fe",
   "metadata": {},
   "outputs": [
    {
     "data": {
      "text/plain": [
       "\n",
       "Call:\n",
       "lm(formula = price ~ nox + crime + dist + rooms + ppoverty + \n",
       "    stratio, data = my_data)\n",
       "\n",
       "Residuals:\n",
       "     Min       1Q   Median       3Q      Max \n",
       "-13163.8  -3004.4   -761.9   1872.2  28594.3 \n",
       "\n",
       "Coefficients:\n",
       "            Estimate Std. Error t value             Pr(>|t|)    \n",
       "(Intercept) 34431.70    4732.08   7.276     0.00000000000134 ***\n",
       "nox         -1757.66     331.46  -5.303     0.00000017173215 ***\n",
       "crime         -80.58      30.48  -2.644              0.00846 ** \n",
       "dist        -1202.37     170.50  -7.052     0.00000000000591 ***\n",
       "rooms        4412.58     415.85  10.611 < 0.0000000000000002 ***\n",
       "ppoverty     -519.77      48.42 -10.735 < 0.0000000000000002 ***\n",
       "stratio      -998.83     115.82  -8.624 < 0.0000000000000002 ***\n",
       "---\n",
       "Signif. codes:  0 ‘***’ 0.001 ‘**’ 0.01 ‘*’ 0.05 ‘.’ 0.1 ‘ ’ 1\n",
       "\n",
       "Residual standard error: 5040 on 499 degrees of freedom\n",
       "Multiple R-squared:  0.704,\tAdjusted R-squared:  0.7005 \n",
       "F-statistic: 197.8 on 6 and 499 DF,  p-value: < 0.00000000000000022\n"
      ]
     },
     "metadata": {},
     "output_type": "display_data"
    }
   ],
   "source": [
    "reg13 <- lm(price~nox+crime+dist+rooms+ppoverty+stratio, my_data)\n",
    "summary(reg13)"
   ]
  },
  {
   "cell_type": "markdown",
   "id": "86e65a7a-9e26-4ea7-8cc7-3a227f4a3424",
   "metadata": {},
   "source": [
    "What do you see in the output of regression above\n",
    "\n",
    "One particulate increase in nox ceteris paribus, and  price drops by 1757 dollars\n",
    "One more crime per capita ceteris paribus, and housing price drops by 80 dollars\n",
    "\n",
    "Do, for yourself, a review for midterm, t test? significance ? pvalues?"
   ]
  },
  {
   "cell_type": "code",
   "execution_count": 21,
   "id": "20a07233-e65f-47db-9d19-bc94aeb1ec4a",
   "metadata": {},
   "outputs": [
    {
     "data": {
      "text/html": [
       "<table class=\"dataframe\">\n",
       "<caption>A matrix: 1 × 7 of type dbl</caption>\n",
       "<thead>\n",
       "\t<tr><th scope=col>sx1</th><th scope=col>sx2</th><th scope=col>sx3</th><th scope=col>sx4</th><th scope=col>sx5</th><th scope=col>sx6</th><th scope=col>sx7</th></tr>\n",
       "</thead>\n",
       "<tbody>\n",
       "\t<tr><td>0</td><td>-0.2210981</td><td>-0.07516394</td><td>-0.2749917</td><td>0.3366601</td><td>-0.4085311</td><td>-0.2349146</td></tr>\n",
       "</tbody>\n",
       "</table>\n"
      ],
      "text/latex": [
       "A matrix: 1 × 7 of type dbl\n",
       "\\begin{tabular}{lllllll}\n",
       " sx1 & sx2 & sx3 & sx4 & sx5 & sx6 & sx7\\\\\n",
       "\\hline\n",
       "\t 0 & -0.2210981 & -0.07516394 & -0.2749917 & 0.3366601 & -0.4085311 & -0.2349146\\\\\n",
       "\\end{tabular}\n"
      ],
      "text/markdown": [
       "\n",
       "A matrix: 1 × 7 of type dbl\n",
       "\n",
       "| sx1 | sx2 | sx3 | sx4 | sx5 | sx6 | sx7 |\n",
       "|---|---|---|---|---|---|---|\n",
       "| 0 | -0.2210981 | -0.07516394 | -0.2749917 | 0.3366601 | -0.4085311 | -0.2349146 |\n",
       "\n"
      ],
      "text/plain": [
       "     sx1 sx2        sx3         sx4        sx5       sx6        sx7       \n",
       "[1,] 0   -0.2210981 -0.07516394 -0.2749917 0.3366601 -0.4085311 -0.2349146"
      ]
     },
     "metadata": {},
     "output_type": "display_data"
    }
   ],
   "source": [
    "#New-------------------------\n",
    "#But how do we compare the importance of these two factors  that have different means and ranges?\n",
    "#  Crime 0 to 89 average 3.6  \n",
    "#nox average 5.5 pp 100 mill and from 3.8 to 8.71?\n",
    "\n",
    "#standardize the coefficients then, lets write a function\n",
    "#coefficients:\n",
    "b <- reg13$coef\n",
    "X<-cbind(1,my_data$nox,my_data$crime,my_data$dist,my_data$rooms,my_data$ppoverty,my_data$stratio)\n",
    "sx1<-sd(X[,1])\n",
    "sx2<-sd(X[,2])\n",
    "sx3<-sd(X[,3])\n",
    "sx4<-sd(X[,4])\n",
    "sx5<-sd(X[,5])\n",
    "sx6<-sd(X[,6])\n",
    "sx7<-sd(X[,7])\n",
    "sx<-cbind(sx1,sx2,sx3,sx4,sx5,sx6,sx7)\n",
    "sy<-sd(my_data$price)\n",
    "beta <- b * sx/sy\n",
    "#pring standardized betas:\n",
    "beta"
   ]
  },
  {
   "cell_type": "markdown",
   "id": "819cce4a-54a8-462a-826e-82fd9d40326c",
   "metadata": {},
   "source": [
    "From the above results we see that\n",
    "\n",
    "One std dev increase in Nox ceteris paribus, and  price drops by 0.22 standard dev\n",
    "\n",
    "One std dev increase in crime ceteris paribus, and housing price drops by 0.075 std dev\n",
    "\n",
    "This is how we compare the importance of these two factors  that have different means and ranges, \n",
    "using Z scores and interpreting the standardized betas"
   ]
  },
  {
   "cell_type": "code",
   "execution_count": 22,
   "id": "f59a6e5c-f2ce-4125-86f9-c0976048a5ed",
   "metadata": {},
   "outputs": [
    {
     "data": {
      "text/plain": [
       "\n",
       "Call:\n",
       "lm(formula = lprice ~ lnox + rooms + ppoverty + ldist, data = my_data)\n",
       "\n",
       "Residuals:\n",
       "    Min      1Q  Median      3Q     Max \n",
       "-0.9985 -0.1154 -0.0124  0.1128  1.0021 \n",
       "\n",
       "Coefficients:\n",
       "            Estimate Std. Error t value             Pr(>|t|)    \n",
       "(Intercept) 10.76614    0.25285  42.579 < 0.0000000000000002 ***\n",
       "lnox        -0.59334    0.10424  -5.692     0.00000002138236 ***\n",
       "rooms        0.13537    0.01863   7.265     0.00000000000143 ***\n",
       "ppoverty    -0.03490    0.00216 -16.161 < 0.0000000000000002 ***\n",
       "ldist       -0.19174    0.03788  -5.062     0.00000058438597 ***\n",
       "---\n",
       "Signif. codes:  0 ‘***’ 0.001 ‘**’ 0.01 ‘*’ 0.05 ‘.’ 0.1 ‘ ’ 1\n",
       "\n",
       "Residual standard error: 0.2312 on 501 degrees of freedom\n",
       "Multiple R-squared:  0.6834,\tAdjusted R-squared:  0.6809 \n",
       "F-statistic: 270.4 on 4 and 501 DF,  p-value: < 0.00000000000000022\n"
      ]
     },
     "metadata": {},
     "output_type": "display_data"
    },
    {
     "data": {
      "text/plain": [
       "\n",
       "Call:\n",
       "lm(formula = lprice ~ nox + crime + dist + dist2 + rooms + ppoverty + \n",
       "    stratio, data = my_data)\n",
       "\n",
       "Residuals:\n",
       "     Min       1Q   Median       3Q      Max \n",
       "-0.72953 -0.10903 -0.01039  0.10005  0.83580 \n",
       "\n",
       "Coefficients:\n",
       "             Estimate Std. Error t value             Pr(>|t|)    \n",
       "(Intercept) 11.220529   0.211784  52.981 < 0.0000000000000002 ***\n",
       "nox         -0.098098   0.014850  -6.606 0.000000000101772783 ***\n",
       "crime       -0.010501   0.001249  -8.411 0.000000000000000433 ***\n",
       "dist        -0.122620   0.024146  -5.078 0.000000539002084613 ***\n",
       "dist2        0.006774   0.002030   3.337              0.00091 ***\n",
       "rooms        0.113690   0.016665   6.822 0.000000000026135585 ***\n",
       "ppoverty    -0.028510   0.001944 -14.668 < 0.0000000000000002 ***\n",
       "stratio     -0.038550   0.004643  -8.302 0.000000000000000969 ***\n",
       "---\n",
       "Signif. codes:  0 ‘***’ 0.001 ‘**’ 0.01 ‘*’ 0.05 ‘.’ 0.1 ‘ ’ 1\n",
       "\n",
       "Residual standard error: 0.2019 on 498 degrees of freedom\n",
       "Multiple R-squared:  0.7599,\tAdjusted R-squared:  0.7565 \n",
       "F-statistic: 225.2 on 7 and 498 DF,  p-value: < 0.00000000000000022\n"
      ]
     },
     "metadata": {},
     "output_type": "display_data"
    }
   ],
   "source": [
    "\n",
    "\n",
    "#logs specification? log of distance\n",
    "\n",
    "lprice<-log(my_data$price)\n",
    "ldist<-log(my_data$dist)\n",
    "lnox<-log(my_data$nox)\n",
    "\n",
    "reg13log<-lm(lprice~lnox+rooms+ppoverty+ldist,my_data)\n",
    "summary(reg13log)\n",
    "\n",
    "\n",
    "#regress log price distance and distance squared specification \n",
    "my_data$dist2<-my_data$dist*my_data$dist\n",
    "reg13sq<-lm(lprice~nox+crime+dist+dist2+rooms+ppoverty+stratio, my_data)\n",
    "summary(reg13sq)\n",
    "\n"
   ]
  },
  {
   "cell_type": "markdown",
   "id": "56f74548-9eba-466e-b7aa-a1a66767d430",
   "metadata": {},
   "source": [
    "What do you see? \n",
    "Which MODEL REGRESSION do we choose in this case?\n",
    " \n",
    "#Adj R squared with ldist  0.68\n",
    "#Adj R squared with dist and dist2    0.7565\n",
    "\n",
    "#so you would choose the one with dist and dist 2 \n",
    "#instead of the one with log distance, because it has the higher adjusted R squared"
   ]
  },
  {
   "cell_type": "markdown",
   "id": "6459235e-4dc1-44bb-b30b-4d2172b7b2dd",
   "metadata": {},
   "source": [
    "Take away\n",
    "\n",
    "if same y and different X's then use adjusted R2 like in this lecture\n",
    "\n",
    "how do we select between a regression of price on nox or a regression of log price on nox?\n",
    "different method for model selection, in a future lecture\n",
    "\n"
   ]
  },
  {
   "cell_type": "code",
   "execution_count": null,
   "id": "36bca06a-5fc6-4071-938e-d6b90d92c90b",
   "metadata": {},
   "outputs": [],
   "source": []
  }
 ],
 "metadata": {
  "kernelspec": {
   "display_name": "R",
   "language": "R",
   "name": "ir"
  },
  "language_info": {
   "codemirror_mode": "r",
   "file_extension": ".r",
   "mimetype": "text/x-r-source",
   "name": "R",
   "pygments_lexer": "r",
   "version": "4.2.1"
  }
 },
 "nbformat": 4,
 "nbformat_minor": 5
}
