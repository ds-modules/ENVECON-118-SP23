{
 "cells": [
  {
   "cell_type": "markdown",
   "id": "35ada569-515b-461e-91d7-5f86d19472b8",
   "metadata": {},
   "source": [
    "#Lecture 7- Spring 2023\n",
    "#Villas-Boas\n",
    "\n",
    "#Lecture 7 EEO 118 Spring 2023\n",
    "\n",
    "#if in your computer change into your working directory\n",
    "#change directory\n",
    "#-------------------------------------------\n",
    "#set your working directory\n",
    "#-------------------------------------------\n",
    "#setwd(\"/Users/sberto/Desktop/\")\n",
    "#setwd(\"/Users/sofiavillas-boas/Dropbox/EEP118_Spring2023/Lectures/Lecture7\")"
   ]
  },
  {
   "cell_type": "code",
   "execution_count": null,
   "id": "c2d55630-5544-43f0-89bf-fc0b25d2cc4b",
   "metadata": {},
   "outputs": [],
   "source": [
    "# Load the 'pacman' package\n",
    "library(pacman) \n",
    "#packages to use load them now using the pacman \"manager\"\n",
    "p_load(dplyr, readr) \n",
    "#Another great feature of p_load(): if you try to load a package that is not installed on your machine, p_load() install the package for you, rather than throwing an error. For instance, let’s install and load one final package named ggplot2. \n",
    "p_load(ggplot2)\n",
    "\n",
    "\n",
    "\n",
    "#set scientific display off, thank you Roy\n",
    "options(scipen=999)\n",
    "\n",
    "\n",
    "pacman::p_load(lfe, lmtest, haven, sandwich, tidyverse)\n",
    "# lfe for running fixed effects regression\n",
    "# lmtest for displaying robust SE in output table\n",
    "# haven for loading in dta files\n",
    "# sandwich for producing robust Var-Cov matrix\n",
    "# tidyverse for manipulating data and producing plots"
   ]
  },
  {
   "cell_type": "code",
   "execution_count": null,
   "id": "bb849103",
   "metadata": {},
   "outputs": [],
   "source": [
    "library(haven)\n",
    "library(ggplot2)"
   ]
  },
  {
   "cell_type": "code",
   "execution_count": null,
   "id": "374492e7-7ae3-461c-a19e-db22081b78cc",
   "metadata": {},
   "outputs": [],
   "source": [
    "#-------------------------------------------\n",
    "#1. Read in data\n",
    "#-------------------------------------------\n",
    "my_data <- read_dta(\"dataLecture7.dta\")\n",
    "head(my_data)"
   ]
  },
  {
   "cell_type": "code",
   "execution_count": null,
   "id": "c310f961-0a90-4ed2-9542-308b3280c420",
   "metadata": {},
   "outputs": [],
   "source": [
    "#generate variables Y and x1\n",
    "my_data$Y<-my_data$trump16/my_data$clinton16\n",
    "my_data$x1<-my_data$romney12/my_data$obama12"
   ]
  },
  {
   "cell_type": "code",
   "execution_count": null,
   "id": "1ff3b772-080d-4626-b0ca-7b29702f5e7d",
   "metadata": {},
   "outputs": [],
   "source": [
    "slide12<-plot(my_data$x1,my_data$Y) "
   ]
  },
  {
   "cell_type": "code",
   "execution_count": null,
   "id": "e39a5231-1121-4df0-b30c-b71f7a16e2d3",
   "metadata": {},
   "outputs": [],
   "source": [
    "#use non missing values only from now on\n",
    "my_data2<-my_data[complete.cases(my_data),]\n",
    "my_data3 <- my_data2[my_data2$Y !=Inf,] \n",
    "#my_data3 <-my_data2[my_data2$white_pct!=NA]"
   ]
  },
  {
   "cell_type": "code",
   "execution_count": null,
   "id": "2a2eb499-4319-4d02-b838-f9258c7700cc",
   "metadata": {},
   "outputs": [],
   "source": [
    "summary(my_data3)\n",
    "#regression full model\n",
    "regfull<-lm(Y ~ x1 + white_pct, my_data3)\n",
    "summary(regfull)"
   ]
  },
  {
   "cell_type": "code",
   "execution_count": null,
   "id": "20d94da3-6191-415d-959a-cf8f38ed15fe",
   "metadata": {},
   "outputs": [],
   "source": [
    "#regression no percent white as control\n",
    "regsmall<-lm(Y ~ x1, my_data3)\n",
    "summary(regsmall)"
   ]
  },
  {
   "cell_type": "code",
   "execution_count": null,
   "id": "20a07233-e65f-47db-9d19-bc94aeb1ec4a",
   "metadata": {},
   "outputs": [],
   "source": [
    "#collinearity Slides\n",
    "\n",
    "#Baseline Model \n",
    "regBase <- lm(Y~x1+female_pct+white_pct, my_data3)\n",
    "summary(regBase)"
   ]
  },
  {
   "cell_type": "code",
   "execution_count": null,
   "id": "f59a6e5c-f2ce-4125-86f9-c0976048a5ed",
   "metadata": {},
   "outputs": [],
   "source": [
    "#Alternative Model – Perfect collinearity\n",
    "my_data3$male_pct=1-my_data3$female_pct\n",
    "regPC <- lm(Y~x1+female_pct+male_pct+white_pct, my_data3)\n",
    "summary(regPC)"
   ]
  },
  {
   "cell_type": "code",
   "execution_count": null,
   "id": "5a1b7459-3036-496d-8e71-299a431e4b42",
   "metadata": {},
   "outputs": [],
   "source": [
    "#Alternative Model – Multi collinearity\n",
    "regMC <- lm(Y~x1+female_pct+white_pct+bh_pct, my_data3)\n",
    "#where corr(white_pct,bh_pct)=-0.92\n",
    "summary(regMC)"
   ]
  },
  {
   "cell_type": "code",
   "execution_count": null,
   "id": "717e3a72-6b68-44ca-a488-92f833ec77ef",
   "metadata": {},
   "outputs": [],
   "source": [
    "#for graph in slide 28\n",
    "#get the predicted Y hats\n",
    "my_data3$Yhat<-regBase$fitted.values\n",
    "\n",
    "#put Y and Y hat on same graph and x1 on horizontal axis\n",
    "#make combined scatter plot of Y data and fitted values of Y (Yhat)\n",
    "#given regression estimates usinf X1, white_pct and female_pct\n",
    "scatter_data_fittedVals <- ggplot(data = my_data3) + geom_point(aes(x=x1, y=Y, color = \"data\")) +\n",
    "  geom_point(aes(x=x1, y=Yhat, color = \"fitted\")) + \n",
    "  xlab(\"x1=Ratio Rodney to Obama Votes in 2012\") + ylab(\"Y=Ratio Trump to Clinton Votes in 2016 \") +\n",
    "  ggtitle(\"Y (Red) and Predicted Y (Blue) and x1\")\n",
    "scatter_data_fittedVals"
   ]
  }
 ],
 "metadata": {
  "kernelspec": {
   "display_name": "R",
   "language": "R",
   "name": "ir"
  },
  "language_info": {
   "codemirror_mode": "r",
   "file_extension": ".r",
   "mimetype": "text/x-r-source",
   "name": "R",
   "pygments_lexer": "r",
   "version": "4.2.1"
  }
 },
 "nbformat": 4,
 "nbformat_minor": 5
}
