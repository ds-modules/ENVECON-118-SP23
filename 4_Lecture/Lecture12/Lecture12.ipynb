{
 "cells": [
  {
   "cell_type": "markdown",
   "metadata": {},
   "source": [
    "# Lecture 12 - EEP 118 Spring 2023¶ \n",
    "Birth weight and then also college analysis that I ask you to do as daily assignment - see the code provided on bcourses and type your commands in the bottom of this notebook yourself\n"
   ]
  },
  {
   "cell_type": "markdown",
   "metadata": {},
   "source": [
    "This is the notebook for Lecture 12.\n",
    "This concludes the lecture material for the midterm.\n",
    "\n",
    "\n",
    "To run, hit the `i>|Run` button on top middle bar and keep hitting and it will run line by line,\n",
    "\n",
    "OR\n",
    "\n",
    "To run a line that starts with In [ ]:  highlight the content and hit CONTROL ENTER at same time"
   ]
  },
  {
   "cell_type": "code",
   "execution_count": null,
   "metadata": {},
   "outputs": [],
   "source": [
    "#Lecture12_birthWeight.R\n",
    "#LECTURE 12, EEP 118\n",
    "\n",
    "\n",
    "# Load the 'pacman' package\n",
    "library(pacman) \n",
    "#packages to use load them now using the pacman \"manager\"\n",
    "p_load(dplyr, haven, readr) \n",
    "#Another great feature of p_load(): if you try to load a package that is not installed on your machine, p_load() install the package for you, rather than throwing an error. For instance, let’s install and load one final package named ggplot2. \n",
    "p_load(ggplot2)\n",
    "\n",
    "pacman::p_load(lfe, lmtest, haven, sandwich, tidyverse)\n",
    "# lfe for running fixed effects regression\n",
    "# lmtest for displaying robust SE in output table\n",
    "# haven for loading in dta files\n",
    "# sandwich for producing robust Var-Cov matrix\n",
    "# tidyverse for manipulating data and producing plots\n",
    "\n",
    "#change into Lecture 12 directory\n",
    "#setwd(\"/Users/sofiavillas-boas/Dropbox/EEP118_Spring2023/Lectures/Lecture12\")\n",
    "\n",
    "\n",
    "#set scientific display off, thank you Roy\n",
    "options(scipen=999)"
   ]
  },
  {
   "cell_type": "code",
   "execution_count": null,
   "metadata": {},
   "outputs": [],
   "source": [
    "#-------------------------------------------\n",
    "#1. Read in data and see the top rows to see column names etc\n",
    "#-------------------------------------------\n",
    "\n",
    "#read in a Stata dataset\n",
    "my_data <- read_dta(\"Lecture12BWGHT.dta\")\n",
    "head(my_data)"
   ]
  },
  {
   "cell_type": "code",
   "execution_count": null,
   "metadata": {},
   "outputs": [],
   "source": [
    "#summary stats of birth weight and parity cigs faminc fatheduc motheduc \n",
    "#one way describes all data:\n",
    "describe(my_data)"
   ]
  },
  {
   "cell_type": "code",
   "execution_count": null,
   "metadata": {},
   "outputs": [],
   "source": [
    "#to describe only a subset of the variables in the data:\n",
    "data2<-cbind(my_data$bwght,my_data$parity,my_data$cigs,my_data$faminc,my_data$fatheduc,my_data$motheduc)\n",
    "##Renaming first four columns columns\n",
    "colnames(data2) <- c(\"bwght\", \"parity\", \"cigs\", \"faminc\", \"fatheduc\", \"motheduc\")\n",
    "\n",
    "describe(data2)"
   ]
  },
  {
   "cell_type": "markdown",
   "metadata": {},
   "source": [
    "box plot of birthweight of babies"
   ]
  },
  {
   "cell_type": "code",
   "execution_count": null,
   "metadata": {},
   "outputs": [],
   "source": [
    "#box plot of birth Weight\n",
    "boxplot(my_data$bwght, main=\"Birth Weight\" ) \n",
    "# box plot for 'bweight above'"
   ]
  },
  {
   "cell_type": "markdown",
   "metadata": {},
   "source": [
    "TESTING FOR q=2 restrictions on parameters of a linear regression model"
   ]
  },
  {
   "cell_type": "code",
   "execution_count": null,
   "metadata": {},
   "outputs": [],
   "source": [
    "#use F test \n",
    "#get SSR of the unrestricted model, several things are saved in reg12u\n",
    "# a list of 12 things actually, see the Golbal envinoment window on the right near reg12u\n",
    "\n",
    "\n",
    "#regression unrestricted model\n",
    "reg12u <- lm(bwght~cigs + faminc + motheduc + fatheduc + parity, my_data)\n",
    "#show output\n",
    "summary(reg12u)\n",
    "\n",
    "#SSRU\n",
    "sum(reg12u$residuals^2)\n",
    "\n"
   ]
  },
  {
   "cell_type": "markdown",
   "metadata": {},
   "source": [
    "do the restricted regresison now and get SSR resticted"
   ]
  },
  {
   "cell_type": "code",
   "execution_count": null,
   "metadata": {},
   "outputs": [],
   "source": [
    "#regression restricted model\n",
    "reg12r<-lm( bwght ~ cigs + faminc +parity,my_data) \n",
    "#show output\n",
    "summary(reg12r)\n",
    "\n",
    "#SSRR\n",
    "sum(reg12r$residuals^2)\n",
    "\n",
    "SSRr<-sum(reg12r$residuals^2)\n",
    "SSRu<-sum(reg12u$residuals^2)\n",
    "dfu<-reg12u$df.residual\n"
   ]
  },
  {
   "cell_type": "code",
   "execution_count": null,
   "metadata": {},
   "outputs": [],
   "source": [
    "\n",
    "#compute the F statistic, call it F1\n",
    "q<-2\n",
    "F1<-(SSRr-SSRu)/q\n",
    "F1<-F1/(SSRu/dfu)\n",
    "F1\n",
    "\n",
    "#to construct F stat get SSR u and SSR r and use formula \n",
    "#given that se*se=SSR/(N-K-1)\n",
    "#then To get SSR= se*se*(N-K-1)\n",
    "#where q=# restrictions; \n",
    "#  N-k-1 = Degrees of freedom unrestricted model\n",
    "#N = # observations\n",
    "#  K = # explanatory variables\n",
    "\n",
    "# F stat= \n",
    "#𝐹=(𝑆𝑆Rr−𝑆𝑆𝑅u)∕𝑞    divided by  (𝑆𝑆𝑅u∕(𝑁−𝑘−1))"
   ]
  },
  {
   "cell_type": "markdown",
   "metadata": {},
   "source": [
    "\n"
   ]
  },
  {
   "cell_type": "markdown",
   "metadata": {},
   "source": [
    "or, alternatively,  use R squared to compute the F stat value for your test, call this one F2. F2=F1, see that below and compare to F1 above you computed before."
   ]
  },
  {
   "cell_type": "code",
   "execution_count": null,
   "metadata": {},
   "outputs": [],
   "source": [
    "\n",
    "# get R square\n",
    "r2r<-reg12r$r.squared\n",
    "r2r\n",
    "r2u<-reg12u$r.squared\n",
    "\n",
    "# compute F\n",
    "topF2<-(r2u-r2r)/2\n",
    "bottomF2<-(1-r2u)/dfu\n",
    "F2<-topF2/bottomF2\n",
    "F2\n",
    "\n",
    "  \n",
    "#get critical values for certain significance levels 5% or 10%\n",
    "\n",
    "# decide reject null if F>c  or cannot reject null if F<c\n",
    "\n",
    "# conclude\n",
    "\n",
    "#see lecture notes for interpretation\n",
    "\n",
    "#--------------------\n",
    "# or get R^2 or R-squared for R and Unrestr UR and use formula also\n",
    "#𝐹=((𝑅_𝑈^2−𝑅_𝑅^2 )∕𝑞)/((1−𝑅_𝑈^2 )∕(𝑁−𝑘−1))\n",
    "\n",
    "\n",
    "#get critical values for certain significance levels 5% or 10%\n",
    "\n",
    "# decide reject null if F>c  or cannot reject null if F<c\n",
    "\n",
    "# conclude"
   ]
  },
  {
   "cell_type": "markdown",
   "metadata": {},
   "source": [
    "TESTING FOR LINEAR COMBIN OF PARAMETERS "
   ]
  },
  {
   "cell_type": "code",
   "execution_count": null,
   "metadata": {},
   "outputs": [],
   "source": [
    "my_data$toteduc<-my_data$motheduc+my_data$fatheduc\n",
    "\n",
    "reg12r2<-lm(bwght~ cigs+faminc+toteduc+parity,my_data) \n",
    "summary(reg12r2)\n",
    "\n",
    "\n",
    "#SSRU\n",
    "sum(reg12u$residuals^2)\n",
    "\n",
    "#SSRR\n",
    "sum(reg12r2$residuals^2)\n",
    "\n",
    "\n",
    "#construct F with SSR u and compare to critical value. see lecture notes\n"
   ]
  },
  {
   "cell_type": "markdown",
   "metadata": {},
   "source": [
    "or use the canned package to test"
   ]
  },
  {
   "cell_type": "code",
   "execution_count": null,
   "metadata": {},
   "outputs": [],
   "source": [
    "#linear restriction hypothesis testing\n",
    "#make sure you have installed car package\n",
    "\n",
    "linearHypothesis(reg12u, c(\"motheduc=0\", \"fatheduc= 0\"))\n",
    "see lecture notes for interpretation\n",
    "\n",
    "#end birthweight analysis"
   ]
  },
  {
   "cell_type": "raw",
   "metadata": {},
   "source": [
    "now load the college data set and do the assignment yourself using the code provided on bcourses if needed. try first to code yourself"
   ]
  },
  {
   "cell_type": "code",
   "execution_count": null,
   "metadata": {},
   "outputs": [],
   "source": [
    "#load Lecture12twoyear.dta\n"
   ]
  },
  {
   "cell_type": "markdown",
   "metadata": {},
   "source": [
    "Type the commands to regress the unrestricted model, log wage on jc, univ and experience and show the summary of the regression below"
   ]
  },
  {
   "cell_type": "code",
   "execution_count": null,
   "metadata": {},
   "outputs": [],
   "source": []
  },
  {
   "cell_type": "markdown",
   "metadata": {},
   "source": [
    "Type the command to test that the jc coeff equals the univ coeff"
   ]
  },
  {
   "cell_type": "markdown",
   "metadata": {},
   "source": [
    "#ALTERNATIVELY\n",
    "#slide 24 of Lecture 12 notes\n",
    "#regression restricted model such that a parameter is already the tested object,\n",
    "#test coeff of beta_univ=0 is the null of whether univ and jc have similar returns on wages\n",
    "\n",
    "my\\_data \\$ totcollege \\<\\- my\\_data \\$jc + my\\_data\\$univ\n",
    "\n",
    "reg12\\_college2<- lm( lwage ~ totcollege+ univ+ exper, my\\_data)\n",
    "\n",
    "summary(reg12\\_college2)\n",
    "what do you interpret when you type these commands below given the output, see slides for a check."
   ]
  },
  {
   "cell_type": "markdown",
   "metadata": {},
   "source": []
  }
 ],
 "metadata": {
  "kernelspec": {
   "display_name": "R",
   "language": "R",
   "name": "ir"
  },
  "language_info": {
   "codemirror_mode": "r",
   "file_extension": ".r",
   "mimetype": "text/x-r-source",
   "name": "R",
   "pygments_lexer": "r",
   "version": "4.2.1"
  }
 },
 "nbformat": 4,
 "nbformat_minor": 4
}
