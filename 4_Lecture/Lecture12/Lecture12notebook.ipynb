{
 "cells": [
  {
   "cell_type": "markdown",
   "metadata": {},
   "source": [
    "# Lecture 12 - EEP 118 Spring 2023¶ \n",
    "Birth weight and then also college analysis that I ask you to do as daily assignment - see the code provided on bcourses and type your commands in the bottom of this notebook yourself\n"
   ]
  },
  {
   "cell_type": "markdown",
   "metadata": {},
   "source": [
    "This is the notebook for Lecture 12.\n",
    "This concludes the lecture material for the midterm.\n",
    "\n",
    "\n",
    "To run, hit the `i>|Run` button on top middle bar and keep hitting and it will run line by line,\n",
    "\n",
    "OR\n",
    "\n",
    "To run a line that starts with In [ ]:  highlight the content and hit CONTROL ENTER at same time"
   ]
  },
  {
   "cell_type": "code",
   "execution_count": 1,
   "metadata": {},
   "outputs": [],
   "source": [
    "#Lecture12_birthWeight.R\n",
    "#LECTURE 12, EEP 118\n",
    "\n",
    "\n",
    "# Load the 'pacman' package\n",
    "library(pacman) \n",
    "#packages to use load them now using the pacman \"manager\"\n",
    "p_load(dplyr, haven, readr) \n",
    "#Another great feature of p_load(): if you try to load a package that is not installed on your machine, p_load() install the package for you, rather than throwing an error. For instance, let’s install and load one final package named ggplot2. \n",
    "p_load(ggplot2)\n",
    "\n",
    "pacman::p_load(lfe, lmtest, haven, sandwich, tidyverse,psych,car)\n",
    "# lfe for running fixed effects regression\n",
    "# lmtest for displaying robust SE in output table\n",
    "# haven for loading in dta files\n",
    "# sandwich for producing robust Var-Cov matrix\n",
    "# tidyverse for manipulating data and producing plots\n",
    "\n",
    "#change into Lecture 12 directory\n",
    "#setwd(\"/Users/sofiavillas-boas/Dropbox/EEP118_Spring2023/Lectures/Lecture12\")\n",
    "\n",
    "\n",
    "#set scientific display off, thank you Roy\n",
    "options(scipen=999)"
   ]
  },
  {
   "cell_type": "code",
   "execution_count": 2,
   "metadata": {},
   "outputs": [
    {
     "data": {
      "text/html": [
       "<table class=\"dataframe\">\n",
       "<caption>A tibble: 6 × 15</caption>\n",
       "<thead>\n",
       "\t<tr><th scope=col>faminc</th><th scope=col>cigtax</th><th scope=col>cigprice</th><th scope=col>bwght</th><th scope=col>fatheduc</th><th scope=col>motheduc</th><th scope=col>parity</th><th scope=col>male</th><th scope=col>white</th><th scope=col>cigs</th><th scope=col>lbwght</th><th scope=col>bwghtlbs</th><th scope=col>packs</th><th scope=col>lfaminc</th><th scope=col>indx</th></tr>\n",
       "\t<tr><th scope=col>&lt;dbl&gt;</th><th scope=col>&lt;dbl&gt;</th><th scope=col>&lt;dbl&gt;</th><th scope=col>&lt;dbl&gt;</th><th scope=col>&lt;dbl&gt;</th><th scope=col>&lt;dbl&gt;</th><th scope=col>&lt;dbl&gt;</th><th scope=col>&lt;dbl&gt;</th><th scope=col>&lt;dbl&gt;</th><th scope=col>&lt;dbl&gt;</th><th scope=col>&lt;dbl&gt;</th><th scope=col>&lt;dbl&gt;</th><th scope=col>&lt;dbl&gt;</th><th scope=col>&lt;dbl&gt;</th><th scope=col>&lt;dbl&gt;</th></tr>\n",
       "</thead>\n",
       "<tbody>\n",
       "\t<tr><td>22.5</td><td>21.0</td><td>136.7</td><td> 73</td><td>14</td><td>14</td><td>1</td><td>1</td><td>1</td><td>0</td><td>4.290460</td><td>4.5625</td><td>0</td><td>3.113515</td><td>0.001444577</td></tr>\n",
       "\t<tr><td>17.5</td><td>31.0</td><td>150.6</td><td>125</td><td> 2</td><td> 5</td><td>4</td><td>1</td><td>1</td><td>0</td><td>4.828314</td><td>7.8125</td><td>0</td><td>2.862201</td><td>0.002588194</td></tr>\n",
       "\t<tr><td>65.0</td><td> 2.5</td><td>109.4</td><td>116</td><td>10</td><td>12</td><td>1</td><td>1</td><td>0</td><td>0</td><td>4.753590</td><td>7.2500</td><td>0</td><td>4.174387</td><td>0.003536221</td></tr>\n",
       "\t<tr><td>65.0</td><td>33.0</td><td>149.1</td><td> 98</td><td>14</td><td>12</td><td>1</td><td>0</td><td>0</td><td>0</td><td>4.584968</td><td>6.1250</td><td>0</td><td>4.174387</td><td>0.003691226</td></tr>\n",
       "\t<tr><td>42.5</td><td>30.0</td><td>138.3</td><td>127</td><td>12</td><td>12</td><td>1</td><td>0</td><td>1</td><td>0</td><td>4.844187</td><td>7.9375</td><td>0</td><td>3.749504</td><td>0.005383291</td></tr>\n",
       "\t<tr><td>47.5</td><td>18.0</td><td>120.5</td><td>101</td><td>12</td><td>14</td><td>3</td><td>0</td><td>0</td><td>0</td><td>4.615120</td><td>6.3125</td><td>0</td><td>3.860730</td><td>0.005682748</td></tr>\n",
       "</tbody>\n",
       "</table>\n"
      ],
      "text/latex": [
       "A tibble: 6 × 15\n",
       "\\begin{tabular}{lllllllllllllll}\n",
       " faminc & cigtax & cigprice & bwght & fatheduc & motheduc & parity & male & white & cigs & lbwght & bwghtlbs & packs & lfaminc & indx\\\\\n",
       " <dbl> & <dbl> & <dbl> & <dbl> & <dbl> & <dbl> & <dbl> & <dbl> & <dbl> & <dbl> & <dbl> & <dbl> & <dbl> & <dbl> & <dbl>\\\\\n",
       "\\hline\n",
       "\t 22.5 & 21.0 & 136.7 &  73 & 14 & 14 & 1 & 1 & 1 & 0 & 4.290460 & 4.5625 & 0 & 3.113515 & 0.001444577\\\\\n",
       "\t 17.5 & 31.0 & 150.6 & 125 &  2 &  5 & 4 & 1 & 1 & 0 & 4.828314 & 7.8125 & 0 & 2.862201 & 0.002588194\\\\\n",
       "\t 65.0 &  2.5 & 109.4 & 116 & 10 & 12 & 1 & 1 & 0 & 0 & 4.753590 & 7.2500 & 0 & 4.174387 & 0.003536221\\\\\n",
       "\t 65.0 & 33.0 & 149.1 &  98 & 14 & 12 & 1 & 0 & 0 & 0 & 4.584968 & 6.1250 & 0 & 4.174387 & 0.003691226\\\\\n",
       "\t 42.5 & 30.0 & 138.3 & 127 & 12 & 12 & 1 & 0 & 1 & 0 & 4.844187 & 7.9375 & 0 & 3.749504 & 0.005383291\\\\\n",
       "\t 47.5 & 18.0 & 120.5 & 101 & 12 & 14 & 3 & 0 & 0 & 0 & 4.615120 & 6.3125 & 0 & 3.860730 & 0.005682748\\\\\n",
       "\\end{tabular}\n"
      ],
      "text/markdown": [
       "\n",
       "A tibble: 6 × 15\n",
       "\n",
       "| faminc &lt;dbl&gt; | cigtax &lt;dbl&gt; | cigprice &lt;dbl&gt; | bwght &lt;dbl&gt; | fatheduc &lt;dbl&gt; | motheduc &lt;dbl&gt; | parity &lt;dbl&gt; | male &lt;dbl&gt; | white &lt;dbl&gt; | cigs &lt;dbl&gt; | lbwght &lt;dbl&gt; | bwghtlbs &lt;dbl&gt; | packs &lt;dbl&gt; | lfaminc &lt;dbl&gt; | indx &lt;dbl&gt; |\n",
       "|---|---|---|---|---|---|---|---|---|---|---|---|---|---|---|\n",
       "| 22.5 | 21.0 | 136.7 |  73 | 14 | 14 | 1 | 1 | 1 | 0 | 4.290460 | 4.5625 | 0 | 3.113515 | 0.001444577 |\n",
       "| 17.5 | 31.0 | 150.6 | 125 |  2 |  5 | 4 | 1 | 1 | 0 | 4.828314 | 7.8125 | 0 | 2.862201 | 0.002588194 |\n",
       "| 65.0 |  2.5 | 109.4 | 116 | 10 | 12 | 1 | 1 | 0 | 0 | 4.753590 | 7.2500 | 0 | 4.174387 | 0.003536221 |\n",
       "| 65.0 | 33.0 | 149.1 |  98 | 14 | 12 | 1 | 0 | 0 | 0 | 4.584968 | 6.1250 | 0 | 4.174387 | 0.003691226 |\n",
       "| 42.5 | 30.0 | 138.3 | 127 | 12 | 12 | 1 | 0 | 1 | 0 | 4.844187 | 7.9375 | 0 | 3.749504 | 0.005383291 |\n",
       "| 47.5 | 18.0 | 120.5 | 101 | 12 | 14 | 3 | 0 | 0 | 0 | 4.615120 | 6.3125 | 0 | 3.860730 | 0.005682748 |\n",
       "\n"
      ],
      "text/plain": [
       "  faminc cigtax cigprice bwght fatheduc motheduc parity male white cigs\n",
       "1 22.5   21.0   136.7     73   14       14       1      1    1     0   \n",
       "2 17.5   31.0   150.6    125    2        5       4      1    1     0   \n",
       "3 65.0    2.5   109.4    116   10       12       1      1    0     0   \n",
       "4 65.0   33.0   149.1     98   14       12       1      0    0     0   \n",
       "5 42.5   30.0   138.3    127   12       12       1      0    1     0   \n",
       "6 47.5   18.0   120.5    101   12       14       3      0    0     0   \n",
       "  lbwght   bwghtlbs packs lfaminc  indx       \n",
       "1 4.290460 4.5625   0     3.113515 0.001444577\n",
       "2 4.828314 7.8125   0     2.862201 0.002588194\n",
       "3 4.753590 7.2500   0     4.174387 0.003536221\n",
       "4 4.584968 6.1250   0     4.174387 0.003691226\n",
       "5 4.844187 7.9375   0     3.749504 0.005383291\n",
       "6 4.615120 6.3125   0     3.860730 0.005682748"
      ]
     },
     "metadata": {},
     "output_type": "display_data"
    }
   ],
   "source": [
    "#-------------------------------------------\n",
    "#1. Read in data and see the top rows to see column names etc\n",
    "#-------------------------------------------\n",
    "\n",
    "#read in a Stata dataset\n",
    "my_data <- read_dta(\"Lecture12BWGHT.dta\")\n",
    "head(my_data)"
   ]
  },
  {
   "cell_type": "code",
   "execution_count": 3,
   "metadata": {},
   "outputs": [
    {
     "data": {
      "text/html": [
       "<table class=\"dataframe\">\n",
       "<caption>A psych: 15 × 13</caption>\n",
       "<thead>\n",
       "\t<tr><th></th><th scope=col>vars</th><th scope=col>n</th><th scope=col>mean</th><th scope=col>sd</th><th scope=col>median</th><th scope=col>trimmed</th><th scope=col>mad</th><th scope=col>min</th><th scope=col>max</th><th scope=col>range</th><th scope=col>skew</th><th scope=col>kurtosis</th><th scope=col>se</th></tr>\n",
       "\t<tr><th></th><th scope=col>&lt;int&gt;</th><th scope=col>&lt;dbl&gt;</th><th scope=col>&lt;dbl&gt;</th><th scope=col>&lt;dbl&gt;</th><th scope=col>&lt;dbl&gt;</th><th scope=col>&lt;dbl&gt;</th><th scope=col>&lt;dbl&gt;</th><th scope=col>&lt;dbl&gt;</th><th scope=col>&lt;dbl&gt;</th><th scope=col>&lt;dbl&gt;</th><th scope=col>&lt;dbl&gt;</th><th scope=col>&lt;dbl&gt;</th><th scope=col>&lt;dbl&gt;</th></tr>\n",
       "</thead>\n",
       "<tbody>\n",
       "\t<tr><th scope=row>faminc</th><td> 1</td><td>767</td><td> 31.88461538</td><td>18.0280112</td><td> 27.5000000</td><td> 30.85121951</td><td>14.8260000</td><td>  0.500000000</td><td> 65.0000000</td><td> 64.5000000</td><td> 0.602962190</td><td>-0.61421781</td><td>0.650953757</td></tr>\n",
       "\t<tr><th scope=row>cigtax</th><td> 2</td><td>767</td><td> 19.64276402</td><td> 7.8620297</td><td> 20.0000000</td><td> 19.76747967</td><td> 8.8956000</td><td>  2.000000000</td><td> 38.0000000</td><td> 36.0000000</td><td>-0.162028176</td><td>-0.07670340</td><td>0.283881439</td></tr>\n",
       "\t<tr><th scope=row>cigprice</th><td> 3</td><td>767</td><td>130.59648027</td><td>10.2946554</td><td>132.6999969</td><td>130.60178873</td><td> 9.3403732</td><td>103.800003052</td><td>152.5000000</td><td> 48.6999969</td><td>-0.156339667</td><td> 0.01189795</td><td>0.371718461</td></tr>\n",
       "\t<tr><th scope=row>bwght</th><td> 4</td><td>767</td><td>119.37548892</td><td>19.5227610</td><td>120.0000000</td><td>119.73333333</td><td>17.7912000</td><td> 23.000000000</td><td>176.0000000</td><td>153.0000000</td><td>-0.356093611</td><td> 1.16707513</td><td>0.704926043</td></tr>\n",
       "\t<tr><th scope=row>fatheduc</th><td> 5</td><td>767</td><td> 13.20860495</td><td> 2.7394762</td><td> 12.0000000</td><td> 13.26341463</td><td> 2.9652000</td><td>  2.000000000</td><td> 18.0000000</td><td> 16.0000000</td><td>-0.382054798</td><td> 1.02448834</td><td>0.098916754</td></tr>\n",
       "\t<tr><th scope=row>motheduc</th><td> 6</td><td>767</td><td> 13.11342894</td><td> 2.4662557</td><td> 12.0000000</td><td> 13.14634146</td><td> 1.4826000</td><td>  4.000000000</td><td> 18.0000000</td><td> 14.0000000</td><td>-0.071405205</td><td> 0.18405207</td><td>0.089051333</td></tr>\n",
       "\t<tr><th scope=row>parity</th><td> 7</td><td>767</td><td>  1.58409387</td><td> 0.8445231</td><td>  1.0000000</td><td>  1.42764228</td><td> 0.0000000</td><td>  1.000000000</td><td>  6.0000000</td><td>  5.0000000</td><td> 1.553811164</td><td> 2.44202450</td><td>0.030493961</td></tr>\n",
       "\t<tr><th scope=row>male</th><td> 8</td><td>767</td><td>  0.52281617</td><td> 0.4998051</td><td>  1.0000000</td><td>  0.52845528</td><td> 0.0000000</td><td>  0.000000000</td><td>  1.0000000</td><td>  1.0000000</td><td>-0.091181225</td><td>-1.99428099</td><td>0.018046915</td></tr>\n",
       "\t<tr><th scope=row>white</th><td> 9</td><td>767</td><td>  0.84615385</td><td> 0.3610366</td><td>  1.0000000</td><td>  0.93170732</td><td> 0.0000000</td><td>  0.000000000</td><td>  1.0000000</td><td>  1.0000000</td><td>-1.915055116</td><td> 1.66961801</td><td>0.013036278</td></tr>\n",
       "\t<tr><th scope=row>cigs</th><td>10</td><td>767</td><td>  1.88657106</td><td> 5.4470069</td><td>  0.0000000</td><td>  0.32682927</td><td> 0.0000000</td><td>  0.000000000</td><td> 40.0000000</td><td> 40.0000000</td><td> 3.454679779</td><td>13.66244625</td><td>0.196680022</td></tr>\n",
       "\t<tr><th scope=row>lbwght</th><td>11</td><td>767</td><td>  4.76714934</td><td> 0.1823095</td><td>  4.7874918</td><td>  4.78012814</td><td> 0.1524960</td><td>  3.135494232</td><td>  5.1704841</td><td>  2.0349898</td><td>-1.843577224</td><td>10.72321386</td><td>0.006582815</td></tr>\n",
       "\t<tr><th scope=row>bwghtlbs</th><td>12</td><td>767</td><td>  7.46096806</td><td> 1.2201726</td><td>  7.5000000</td><td>  7.48333333</td><td> 1.1119500</td><td>  1.437500000</td><td> 11.0000000</td><td>  9.5625000</td><td>-0.356093611</td><td> 1.16707513</td><td>0.044057878</td></tr>\n",
       "\t<tr><th scope=row>packs</th><td>13</td><td>767</td><td>  0.09432855</td><td> 0.2723503</td><td>  0.0000000</td><td>  0.01634146</td><td> 0.0000000</td><td>  0.000000000</td><td>  2.0000000</td><td>  2.0000000</td><td> 3.454679773</td><td>13.66244620</td><td>0.009834001</td></tr>\n",
       "\t<tr><th scope=row>lfaminc</th><td>14</td><td>767</td><td>  3.25909216</td><td> 0.7360736</td><td>  3.3141861</td><td>  3.33299788</td><td> 0.6454025</td><td> -0.693147182</td><td>  4.1743875</td><td>  4.8675346</td><td>-1.695648759</td><td> 6.12081062</td><td>0.026578079</td></tr>\n",
       "\t<tr><th scope=row>indx</th><td>15</td><td>767</td><td>  0.31652593</td><td> 0.1781760</td><td>  0.3198221</td><td>  0.31640191</td><td> 0.2275014</td><td>  0.001444577</td><td>  0.6323488</td><td>  0.6309042</td><td> 0.008291639</td><td>-1.17276893</td><td>0.006433562</td></tr>\n",
       "</tbody>\n",
       "</table>\n"
      ],
      "text/latex": [
       "A psych: 15 × 13\n",
       "\\begin{tabular}{r|lllllllllllll}\n",
       "  & vars & n & mean & sd & median & trimmed & mad & min & max & range & skew & kurtosis & se\\\\\n",
       "  & <int> & <dbl> & <dbl> & <dbl> & <dbl> & <dbl> & <dbl> & <dbl> & <dbl> & <dbl> & <dbl> & <dbl> & <dbl>\\\\\n",
       "\\hline\n",
       "\tfaminc &  1 & 767 &  31.88461538 & 18.0280112 &  27.5000000 &  30.85121951 & 14.8260000 &   0.500000000 &  65.0000000 &  64.5000000 &  0.602962190 & -0.61421781 & 0.650953757\\\\\n",
       "\tcigtax &  2 & 767 &  19.64276402 &  7.8620297 &  20.0000000 &  19.76747967 &  8.8956000 &   2.000000000 &  38.0000000 &  36.0000000 & -0.162028176 & -0.07670340 & 0.283881439\\\\\n",
       "\tcigprice &  3 & 767 & 130.59648027 & 10.2946554 & 132.6999969 & 130.60178873 &  9.3403732 & 103.800003052 & 152.5000000 &  48.6999969 & -0.156339667 &  0.01189795 & 0.371718461\\\\\n",
       "\tbwght &  4 & 767 & 119.37548892 & 19.5227610 & 120.0000000 & 119.73333333 & 17.7912000 &  23.000000000 & 176.0000000 & 153.0000000 & -0.356093611 &  1.16707513 & 0.704926043\\\\\n",
       "\tfatheduc &  5 & 767 &  13.20860495 &  2.7394762 &  12.0000000 &  13.26341463 &  2.9652000 &   2.000000000 &  18.0000000 &  16.0000000 & -0.382054798 &  1.02448834 & 0.098916754\\\\\n",
       "\tmotheduc &  6 & 767 &  13.11342894 &  2.4662557 &  12.0000000 &  13.14634146 &  1.4826000 &   4.000000000 &  18.0000000 &  14.0000000 & -0.071405205 &  0.18405207 & 0.089051333\\\\\n",
       "\tparity &  7 & 767 &   1.58409387 &  0.8445231 &   1.0000000 &   1.42764228 &  0.0000000 &   1.000000000 &   6.0000000 &   5.0000000 &  1.553811164 &  2.44202450 & 0.030493961\\\\\n",
       "\tmale &  8 & 767 &   0.52281617 &  0.4998051 &   1.0000000 &   0.52845528 &  0.0000000 &   0.000000000 &   1.0000000 &   1.0000000 & -0.091181225 & -1.99428099 & 0.018046915\\\\\n",
       "\twhite &  9 & 767 &   0.84615385 &  0.3610366 &   1.0000000 &   0.93170732 &  0.0000000 &   0.000000000 &   1.0000000 &   1.0000000 & -1.915055116 &  1.66961801 & 0.013036278\\\\\n",
       "\tcigs & 10 & 767 &   1.88657106 &  5.4470069 &   0.0000000 &   0.32682927 &  0.0000000 &   0.000000000 &  40.0000000 &  40.0000000 &  3.454679779 & 13.66244625 & 0.196680022\\\\\n",
       "\tlbwght & 11 & 767 &   4.76714934 &  0.1823095 &   4.7874918 &   4.78012814 &  0.1524960 &   3.135494232 &   5.1704841 &   2.0349898 & -1.843577224 & 10.72321386 & 0.006582815\\\\\n",
       "\tbwghtlbs & 12 & 767 &   7.46096806 &  1.2201726 &   7.5000000 &   7.48333333 &  1.1119500 &   1.437500000 &  11.0000000 &   9.5625000 & -0.356093611 &  1.16707513 & 0.044057878\\\\\n",
       "\tpacks & 13 & 767 &   0.09432855 &  0.2723503 &   0.0000000 &   0.01634146 &  0.0000000 &   0.000000000 &   2.0000000 &   2.0000000 &  3.454679773 & 13.66244620 & 0.009834001\\\\\n",
       "\tlfaminc & 14 & 767 &   3.25909216 &  0.7360736 &   3.3141861 &   3.33299788 &  0.6454025 &  -0.693147182 &   4.1743875 &   4.8675346 & -1.695648759 &  6.12081062 & 0.026578079\\\\\n",
       "\tindx & 15 & 767 &   0.31652593 &  0.1781760 &   0.3198221 &   0.31640191 &  0.2275014 &   0.001444577 &   0.6323488 &   0.6309042 &  0.008291639 & -1.17276893 & 0.006433562\\\\\n",
       "\\end{tabular}\n"
      ],
      "text/markdown": [
       "\n",
       "A psych: 15 × 13\n",
       "\n",
       "| <!--/--> | vars &lt;int&gt; | n &lt;dbl&gt; | mean &lt;dbl&gt; | sd &lt;dbl&gt; | median &lt;dbl&gt; | trimmed &lt;dbl&gt; | mad &lt;dbl&gt; | min &lt;dbl&gt; | max &lt;dbl&gt; | range &lt;dbl&gt; | skew &lt;dbl&gt; | kurtosis &lt;dbl&gt; | se &lt;dbl&gt; |\n",
       "|---|---|---|---|---|---|---|---|---|---|---|---|---|---|\n",
       "| faminc |  1 | 767 |  31.88461538 | 18.0280112 |  27.5000000 |  30.85121951 | 14.8260000 |   0.500000000 |  65.0000000 |  64.5000000 |  0.602962190 | -0.61421781 | 0.650953757 |\n",
       "| cigtax |  2 | 767 |  19.64276402 |  7.8620297 |  20.0000000 |  19.76747967 |  8.8956000 |   2.000000000 |  38.0000000 |  36.0000000 | -0.162028176 | -0.07670340 | 0.283881439 |\n",
       "| cigprice |  3 | 767 | 130.59648027 | 10.2946554 | 132.6999969 | 130.60178873 |  9.3403732 | 103.800003052 | 152.5000000 |  48.6999969 | -0.156339667 |  0.01189795 | 0.371718461 |\n",
       "| bwght |  4 | 767 | 119.37548892 | 19.5227610 | 120.0000000 | 119.73333333 | 17.7912000 |  23.000000000 | 176.0000000 | 153.0000000 | -0.356093611 |  1.16707513 | 0.704926043 |\n",
       "| fatheduc |  5 | 767 |  13.20860495 |  2.7394762 |  12.0000000 |  13.26341463 |  2.9652000 |   2.000000000 |  18.0000000 |  16.0000000 | -0.382054798 |  1.02448834 | 0.098916754 |\n",
       "| motheduc |  6 | 767 |  13.11342894 |  2.4662557 |  12.0000000 |  13.14634146 |  1.4826000 |   4.000000000 |  18.0000000 |  14.0000000 | -0.071405205 |  0.18405207 | 0.089051333 |\n",
       "| parity |  7 | 767 |   1.58409387 |  0.8445231 |   1.0000000 |   1.42764228 |  0.0000000 |   1.000000000 |   6.0000000 |   5.0000000 |  1.553811164 |  2.44202450 | 0.030493961 |\n",
       "| male |  8 | 767 |   0.52281617 |  0.4998051 |   1.0000000 |   0.52845528 |  0.0000000 |   0.000000000 |   1.0000000 |   1.0000000 | -0.091181225 | -1.99428099 | 0.018046915 |\n",
       "| white |  9 | 767 |   0.84615385 |  0.3610366 |   1.0000000 |   0.93170732 |  0.0000000 |   0.000000000 |   1.0000000 |   1.0000000 | -1.915055116 |  1.66961801 | 0.013036278 |\n",
       "| cigs | 10 | 767 |   1.88657106 |  5.4470069 |   0.0000000 |   0.32682927 |  0.0000000 |   0.000000000 |  40.0000000 |  40.0000000 |  3.454679779 | 13.66244625 | 0.196680022 |\n",
       "| lbwght | 11 | 767 |   4.76714934 |  0.1823095 |   4.7874918 |   4.78012814 |  0.1524960 |   3.135494232 |   5.1704841 |   2.0349898 | -1.843577224 | 10.72321386 | 0.006582815 |\n",
       "| bwghtlbs | 12 | 767 |   7.46096806 |  1.2201726 |   7.5000000 |   7.48333333 |  1.1119500 |   1.437500000 |  11.0000000 |   9.5625000 | -0.356093611 |  1.16707513 | 0.044057878 |\n",
       "| packs | 13 | 767 |   0.09432855 |  0.2723503 |   0.0000000 |   0.01634146 |  0.0000000 |   0.000000000 |   2.0000000 |   2.0000000 |  3.454679773 | 13.66244620 | 0.009834001 |\n",
       "| lfaminc | 14 | 767 |   3.25909216 |  0.7360736 |   3.3141861 |   3.33299788 |  0.6454025 |  -0.693147182 |   4.1743875 |   4.8675346 | -1.695648759 |  6.12081062 | 0.026578079 |\n",
       "| indx | 15 | 767 |   0.31652593 |  0.1781760 |   0.3198221 |   0.31640191 |  0.2275014 |   0.001444577 |   0.6323488 |   0.6309042 |  0.008291639 | -1.17276893 | 0.006433562 |\n",
       "\n"
      ],
      "text/plain": [
       "         vars n   mean         sd         median      trimmed      mad       \n",
       "faminc    1   767  31.88461538 18.0280112  27.5000000  30.85121951 14.8260000\n",
       "cigtax    2   767  19.64276402  7.8620297  20.0000000  19.76747967  8.8956000\n",
       "cigprice  3   767 130.59648027 10.2946554 132.6999969 130.60178873  9.3403732\n",
       "bwght     4   767 119.37548892 19.5227610 120.0000000 119.73333333 17.7912000\n",
       "fatheduc  5   767  13.20860495  2.7394762  12.0000000  13.26341463  2.9652000\n",
       "motheduc  6   767  13.11342894  2.4662557  12.0000000  13.14634146  1.4826000\n",
       "parity    7   767   1.58409387  0.8445231   1.0000000   1.42764228  0.0000000\n",
       "male      8   767   0.52281617  0.4998051   1.0000000   0.52845528  0.0000000\n",
       "white     9   767   0.84615385  0.3610366   1.0000000   0.93170732  0.0000000\n",
       "cigs     10   767   1.88657106  5.4470069   0.0000000   0.32682927  0.0000000\n",
       "lbwght   11   767   4.76714934  0.1823095   4.7874918   4.78012814  0.1524960\n",
       "bwghtlbs 12   767   7.46096806  1.2201726   7.5000000   7.48333333  1.1119500\n",
       "packs    13   767   0.09432855  0.2723503   0.0000000   0.01634146  0.0000000\n",
       "lfaminc  14   767   3.25909216  0.7360736   3.3141861   3.33299788  0.6454025\n",
       "indx     15   767   0.31652593  0.1781760   0.3198221   0.31640191  0.2275014\n",
       "         min           max         range       skew         kurtosis   \n",
       "faminc     0.500000000  65.0000000  64.5000000  0.602962190 -0.61421781\n",
       "cigtax     2.000000000  38.0000000  36.0000000 -0.162028176 -0.07670340\n",
       "cigprice 103.800003052 152.5000000  48.6999969 -0.156339667  0.01189795\n",
       "bwght     23.000000000 176.0000000 153.0000000 -0.356093611  1.16707513\n",
       "fatheduc   2.000000000  18.0000000  16.0000000 -0.382054798  1.02448834\n",
       "motheduc   4.000000000  18.0000000  14.0000000 -0.071405205  0.18405207\n",
       "parity     1.000000000   6.0000000   5.0000000  1.553811164  2.44202450\n",
       "male       0.000000000   1.0000000   1.0000000 -0.091181225 -1.99428099\n",
       "white      0.000000000   1.0000000   1.0000000 -1.915055116  1.66961801\n",
       "cigs       0.000000000  40.0000000  40.0000000  3.454679779 13.66244625\n",
       "lbwght     3.135494232   5.1704841   2.0349898 -1.843577224 10.72321386\n",
       "bwghtlbs   1.437500000  11.0000000   9.5625000 -0.356093611  1.16707513\n",
       "packs      0.000000000   2.0000000   2.0000000  3.454679773 13.66244620\n",
       "lfaminc   -0.693147182   4.1743875   4.8675346 -1.695648759  6.12081062\n",
       "indx       0.001444577   0.6323488   0.6309042  0.008291639 -1.17276893\n",
       "         se         \n",
       "faminc   0.650953757\n",
       "cigtax   0.283881439\n",
       "cigprice 0.371718461\n",
       "bwght    0.704926043\n",
       "fatheduc 0.098916754\n",
       "motheduc 0.089051333\n",
       "parity   0.030493961\n",
       "male     0.018046915\n",
       "white    0.013036278\n",
       "cigs     0.196680022\n",
       "lbwght   0.006582815\n",
       "bwghtlbs 0.044057878\n",
       "packs    0.009834001\n",
       "lfaminc  0.026578079\n",
       "indx     0.006433562"
      ]
     },
     "metadata": {},
     "output_type": "display_data"
    }
   ],
   "source": [
    "#summary stats of birth weight and parity cigs faminc fatheduc motheduc \n",
    "#one way describes all data:\n",
    "describe(my_data)"
   ]
  },
  {
   "cell_type": "code",
   "execution_count": 4,
   "metadata": {},
   "outputs": [
    {
     "data": {
      "text/html": [
       "<table class=\"dataframe\">\n",
       "<caption>A psych: 6 × 13</caption>\n",
       "<thead>\n",
       "\t<tr><th></th><th scope=col>vars</th><th scope=col>n</th><th scope=col>mean</th><th scope=col>sd</th><th scope=col>median</th><th scope=col>trimmed</th><th scope=col>mad</th><th scope=col>min</th><th scope=col>max</th><th scope=col>range</th><th scope=col>skew</th><th scope=col>kurtosis</th><th scope=col>se</th></tr>\n",
       "\t<tr><th></th><th scope=col>&lt;int&gt;</th><th scope=col>&lt;dbl&gt;</th><th scope=col>&lt;dbl&gt;</th><th scope=col>&lt;dbl&gt;</th><th scope=col>&lt;dbl&gt;</th><th scope=col>&lt;dbl&gt;</th><th scope=col>&lt;dbl&gt;</th><th scope=col>&lt;dbl&gt;</th><th scope=col>&lt;dbl&gt;</th><th scope=col>&lt;dbl&gt;</th><th scope=col>&lt;dbl&gt;</th><th scope=col>&lt;dbl&gt;</th><th scope=col>&lt;dbl&gt;</th></tr>\n",
       "</thead>\n",
       "<tbody>\n",
       "\t<tr><th scope=row>bwght</th><td>1</td><td>767</td><td>119.375489</td><td>19.5227610</td><td>120.0</td><td>119.7333333</td><td>17.7912</td><td>23.0</td><td>176</td><td>153.0</td><td>-0.3560936</td><td> 1.1670751</td><td>0.70492604</td></tr>\n",
       "\t<tr><th scope=row>parity</th><td>2</td><td>767</td><td>  1.584094</td><td> 0.8445231</td><td>  1.0</td><td>  1.4276423</td><td> 0.0000</td><td> 1.0</td><td>  6</td><td>  5.0</td><td> 1.5538112</td><td> 2.4420245</td><td>0.03049396</td></tr>\n",
       "\t<tr><th scope=row>cigs</th><td>3</td><td>767</td><td>  1.886571</td><td> 5.4470069</td><td>  0.0</td><td>  0.3268293</td><td> 0.0000</td><td> 0.0</td><td> 40</td><td> 40.0</td><td> 3.4546798</td><td>13.6624463</td><td>0.19668002</td></tr>\n",
       "\t<tr><th scope=row>faminc</th><td>4</td><td>767</td><td> 31.884615</td><td>18.0280112</td><td> 27.5</td><td> 30.8512195</td><td>14.8260</td><td> 0.5</td><td> 65</td><td> 64.5</td><td> 0.6029622</td><td>-0.6142178</td><td>0.65095376</td></tr>\n",
       "\t<tr><th scope=row>fatheduc</th><td>5</td><td>767</td><td> 13.208605</td><td> 2.7394762</td><td> 12.0</td><td> 13.2634146</td><td> 2.9652</td><td> 2.0</td><td> 18</td><td> 16.0</td><td>-0.3820548</td><td> 1.0244883</td><td>0.09891675</td></tr>\n",
       "\t<tr><th scope=row>motheduc</th><td>6</td><td>767</td><td> 13.113429</td><td> 2.4662557</td><td> 12.0</td><td> 13.1463415</td><td> 1.4826</td><td> 4.0</td><td> 18</td><td> 14.0</td><td>-0.0714052</td><td> 0.1840521</td><td>0.08905133</td></tr>\n",
       "</tbody>\n",
       "</table>\n"
      ],
      "text/latex": [
       "A psych: 6 × 13\n",
       "\\begin{tabular}{r|lllllllllllll}\n",
       "  & vars & n & mean & sd & median & trimmed & mad & min & max & range & skew & kurtosis & se\\\\\n",
       "  & <int> & <dbl> & <dbl> & <dbl> & <dbl> & <dbl> & <dbl> & <dbl> & <dbl> & <dbl> & <dbl> & <dbl> & <dbl>\\\\\n",
       "\\hline\n",
       "\tbwght & 1 & 767 & 119.375489 & 19.5227610 & 120.0 & 119.7333333 & 17.7912 & 23.0 & 176 & 153.0 & -0.3560936 &  1.1670751 & 0.70492604\\\\\n",
       "\tparity & 2 & 767 &   1.584094 &  0.8445231 &   1.0 &   1.4276423 &  0.0000 &  1.0 &   6 &   5.0 &  1.5538112 &  2.4420245 & 0.03049396\\\\\n",
       "\tcigs & 3 & 767 &   1.886571 &  5.4470069 &   0.0 &   0.3268293 &  0.0000 &  0.0 &  40 &  40.0 &  3.4546798 & 13.6624463 & 0.19668002\\\\\n",
       "\tfaminc & 4 & 767 &  31.884615 & 18.0280112 &  27.5 &  30.8512195 & 14.8260 &  0.5 &  65 &  64.5 &  0.6029622 & -0.6142178 & 0.65095376\\\\\n",
       "\tfatheduc & 5 & 767 &  13.208605 &  2.7394762 &  12.0 &  13.2634146 &  2.9652 &  2.0 &  18 &  16.0 & -0.3820548 &  1.0244883 & 0.09891675\\\\\n",
       "\tmotheduc & 6 & 767 &  13.113429 &  2.4662557 &  12.0 &  13.1463415 &  1.4826 &  4.0 &  18 &  14.0 & -0.0714052 &  0.1840521 & 0.08905133\\\\\n",
       "\\end{tabular}\n"
      ],
      "text/markdown": [
       "\n",
       "A psych: 6 × 13\n",
       "\n",
       "| <!--/--> | vars &lt;int&gt; | n &lt;dbl&gt; | mean &lt;dbl&gt; | sd &lt;dbl&gt; | median &lt;dbl&gt; | trimmed &lt;dbl&gt; | mad &lt;dbl&gt; | min &lt;dbl&gt; | max &lt;dbl&gt; | range &lt;dbl&gt; | skew &lt;dbl&gt; | kurtosis &lt;dbl&gt; | se &lt;dbl&gt; |\n",
       "|---|---|---|---|---|---|---|---|---|---|---|---|---|---|\n",
       "| bwght | 1 | 767 | 119.375489 | 19.5227610 | 120.0 | 119.7333333 | 17.7912 | 23.0 | 176 | 153.0 | -0.3560936 |  1.1670751 | 0.70492604 |\n",
       "| parity | 2 | 767 |   1.584094 |  0.8445231 |   1.0 |   1.4276423 |  0.0000 |  1.0 |   6 |   5.0 |  1.5538112 |  2.4420245 | 0.03049396 |\n",
       "| cigs | 3 | 767 |   1.886571 |  5.4470069 |   0.0 |   0.3268293 |  0.0000 |  0.0 |  40 |  40.0 |  3.4546798 | 13.6624463 | 0.19668002 |\n",
       "| faminc | 4 | 767 |  31.884615 | 18.0280112 |  27.5 |  30.8512195 | 14.8260 |  0.5 |  65 |  64.5 |  0.6029622 | -0.6142178 | 0.65095376 |\n",
       "| fatheduc | 5 | 767 |  13.208605 |  2.7394762 |  12.0 |  13.2634146 |  2.9652 |  2.0 |  18 |  16.0 | -0.3820548 |  1.0244883 | 0.09891675 |\n",
       "| motheduc | 6 | 767 |  13.113429 |  2.4662557 |  12.0 |  13.1463415 |  1.4826 |  4.0 |  18 |  14.0 | -0.0714052 |  0.1840521 | 0.08905133 |\n",
       "\n"
      ],
      "text/plain": [
       "         vars n   mean       sd         median trimmed     mad     min  max\n",
       "bwght    1    767 119.375489 19.5227610 120.0  119.7333333 17.7912 23.0 176\n",
       "parity   2    767   1.584094  0.8445231   1.0    1.4276423  0.0000  1.0   6\n",
       "cigs     3    767   1.886571  5.4470069   0.0    0.3268293  0.0000  0.0  40\n",
       "faminc   4    767  31.884615 18.0280112  27.5   30.8512195 14.8260  0.5  65\n",
       "fatheduc 5    767  13.208605  2.7394762  12.0   13.2634146  2.9652  2.0  18\n",
       "motheduc 6    767  13.113429  2.4662557  12.0   13.1463415  1.4826  4.0  18\n",
       "         range skew       kurtosis   se        \n",
       "bwght    153.0 -0.3560936  1.1670751 0.70492604\n",
       "parity     5.0  1.5538112  2.4420245 0.03049396\n",
       "cigs      40.0  3.4546798 13.6624463 0.19668002\n",
       "faminc    64.5  0.6029622 -0.6142178 0.65095376\n",
       "fatheduc  16.0 -0.3820548  1.0244883 0.09891675\n",
       "motheduc  14.0 -0.0714052  0.1840521 0.08905133"
      ]
     },
     "metadata": {},
     "output_type": "display_data"
    }
   ],
   "source": [
    "#to describe only a subset of the variables in the data:\n",
    "data2<-cbind(my_data$bwght,my_data$parity,my_data$cigs,my_data$faminc,my_data$fatheduc,my_data$motheduc)\n",
    "##Renaming first four columns columns\n",
    "colnames(data2) <- c(\"bwght\", \"parity\", \"cigs\", \"faminc\", \"fatheduc\", \"motheduc\")\n",
    "\n",
    "describe(data2)"
   ]
  },
  {
   "cell_type": "markdown",
   "metadata": {},
   "source": [
    "box plot of birthweight of babies"
   ]
  },
  {
   "cell_type": "code",
   "execution_count": 5,
   "metadata": {},
   "outputs": [
    {
     "data": {
      "image/png": "[encoded data removed]",
      "text/plain": [
       "Plot with title “Birth Weight”"
      ]
     },
     "metadata": {
      "image/png": {
       "height": 420,
       "width": 420
      }
     },
     "output_type": "display_data"
    }
   ],
   "source": [
    "#box plot of birth Weight\n",
    "boxplot(my_data$bwght, main=\"Birth Weight\" ) \n",
    "# box plot for 'bweight above'"
   ]
  },
  {
   "cell_type": "markdown",
   "metadata": {},
   "source": [
    "TESTING FOR q=2 restrictions on parameters of a linear regression model"
   ]
  },
  {
   "cell_type": "code",
   "execution_count": 6,
   "metadata": {},
   "outputs": [
    {
     "data": {
      "text/plain": [
       "\n",
       "Call:\n",
       "lm(formula = bwght ~ cigs + faminc + motheduc + fatheduc + parity, \n",
       "    data = my_data)\n",
       "\n",
       "Residuals:\n",
       "    Min      1Q  Median      3Q     Max \n",
       "-95.701 -11.902   0.471  11.530  60.392 \n",
       "\n",
       "Coefficients:\n",
       "             Estimate Std. Error t value             Pr(>|t|)    \n",
       "(Intercept) 114.11003    4.51768  25.259 < 0.0000000000000002 ***\n",
       "cigs         -0.64010    0.13182  -4.856           0.00000146 ***\n",
       "faminc        0.02761    0.04448   0.621              0.53488    \n",
       "motheduc     -0.59267    0.38908  -1.523              0.12811    \n",
       "fatheduc      0.72225    0.34586   2.088              0.03710 *  \n",
       "parity        2.41438    0.82393   2.930              0.00349 ** \n",
       "---\n",
       "Signif. codes:  0 ‘***’ 0.001 ‘**’ 0.01 ‘*’ 0.05 ‘.’ 0.1 ‘ ’ 1\n",
       "\n",
       "Residual standard error: 19.09 on 761 degrees of freedom\n",
       "Multiple R-squared:  0.04965,\tAdjusted R-squared:  0.0434 \n",
       "F-statistic: 7.951 on 5 and 761 DF,  p-value: 0.0000002572\n"
      ]
     },
     "metadata": {},
     "output_type": "display_data"
    },
    {
     "data": {
      "text/html": [
       "277457.11631579"
      ],
      "text/latex": [
       "277457.11631579"
      ],
      "text/markdown": [
       "277457.11631579"
      ],
      "text/plain": [
       "[1] 277457.1"
      ]
     },
     "metadata": {},
     "output_type": "display_data"
    }
   ],
   "source": [
    "#use F test \n",
    "#get SSR of the unrestricted model, several things are saved in reg12u\n",
    "# a list of 12 things actually, see the Golbal envinoment window on the right near reg12u\n",
    "\n",
    "\n",
    "#regression unrestricted model\n",
    "reg12u <- lm(bwght~cigs + faminc + motheduc + fatheduc + parity, my_data)\n",
    "#show output\n",
    "summary(reg12u)\n",
    "\n",
    "#SSRU\n",
    "sum(reg12u$residuals^2)\n",
    "\n"
   ]
  },
  {
   "cell_type": "markdown",
   "metadata": {},
   "source": [
    "do the restricted regresison now and get SSR resticted"
   ]
  },
  {
   "cell_type": "code",
   "execution_count": 7,
   "metadata": {},
   "outputs": [
    {
     "data": {
      "text/plain": [
       "\n",
       "Call:\n",
       "lm(formula = bwght ~ cigs + faminc + parity, data = my_data)\n",
       "\n",
       "Residuals:\n",
       "    Min      1Q  Median      3Q     Max \n",
       "-95.694 -12.098   0.478  11.900  57.306 \n",
       "\n",
       "Coefficients:\n",
       "             Estimate Std. Error t value             Pr(>|t|)    \n",
       "(Intercept) 115.21941    2.00477  57.473 < 0.0000000000000002 ***\n",
       "cigs         -0.62879    0.12923  -4.866           0.00000139 ***\n",
       "faminc        0.04288    0.03905   1.098              0.27246    \n",
       "parity        2.50932    0.82069   3.058              0.00231 ** \n",
       "---\n",
       "Signif. codes:  0 ‘***’ 0.001 ‘**’ 0.01 ‘*’ 0.05 ‘.’ 0.1 ‘ ’ 1\n",
       "\n",
       "Residual standard error: 19.13 on 763 degrees of freedom\n",
       "Multiple R-squared:  0.04397,\tAdjusted R-squared:  0.04021 \n",
       "F-statistic:  11.7 on 3 and 763 DF,  p-value: 0.0000001686\n"
      ]
     },
     "metadata": {},
     "output_type": "display_data"
    },
    {
     "data": {
      "text/html": [
       "279114.544350498"
      ],
      "text/latex": [
       "279114.544350498"
      ],
      "text/markdown": [
       "279114.544350498"
      ],
      "text/plain": [
       "[1] 279114.5"
      ]
     },
     "metadata": {},
     "output_type": "display_data"
    }
   ],
   "source": [
    "#regression restricted model\n",
    "reg12r<-lm( bwght ~ cigs + faminc +parity,my_data) \n",
    "#show output\n",
    "summary(reg12r)\n",
    "\n",
    "#SSRR\n",
    "sum(reg12r$residuals^2)\n",
    "\n",
    "SSRr<-sum(reg12r$residuals^2)\n",
    "SSRu<-sum(reg12u$residuals^2)\n",
    "dfu<-reg12u$df.residual\n"
   ]
  },
  {
   "cell_type": "code",
   "execution_count": 8,
   "metadata": {},
   "outputs": [
    {
     "data": {
      "text/html": [
       "2.27296879453071"
      ],
      "text/latex": [
       "2.27296879453071"
      ],
      "text/markdown": [
       "2.27296879453071"
      ],
      "text/plain": [
       "[1] 2.272969"
      ]
     },
     "metadata": {},
     "output_type": "display_data"
    }
   ],
   "source": [
    "\n",
    "#compute the F statistic, call it F1\n",
    "q<-2\n",
    "F1<-(SSRr-SSRu)/q\n",
    "F1<-F1/(SSRu/dfu)\n",
    "F1\n",
    "\n",
    "#to construct F stat get SSR u and SSR r and use formula \n",
    "#given that se*se=SSR/(N-K-1)\n",
    "#then To get SSR= se*se*(N-K-1)\n",
    "#where q=# restrictions; \n",
    "#  N-k-1 = Degrees of freedom unrestricted model\n",
    "#N = # observations\n",
    "#  K = # explanatory variables\n",
    "\n",
    "# F stat= \n",
    "#𝐹=(𝑆𝑆Rr−𝑆𝑆𝑅u)∕𝑞    divided by  (𝑆𝑆𝑅u∕(𝑁−𝑘−1))"
   ]
  },
  {
   "cell_type": "markdown",
   "metadata": {},
   "source": [
    "\n"
   ]
  },
  {
   "cell_type": "markdown",
   "metadata": {},
   "source": [
    "We get an F1=2.273, from above statistic constructed using the SSR formula.\n",
    "\n",
    "Alternatively,  use R squared to compute the F stat value for your test, call this one F2. F2=F1, see that below and compare to F1 above you computed before."
   ]
  },
  {
   "cell_type": "code",
   "execution_count": 12,
   "metadata": {},
   "outputs": [
    {
     "data": {
      "text/plain": [
       "\n",
       "Call:\n",
       "lm(formula = bwght ~ cigs + faminc + motheduc + fatheduc + parity, \n",
       "    data = my_data)\n",
       "\n",
       "Residuals:\n",
       "    Min      1Q  Median      3Q     Max \n",
       "-95.701 -11.902   0.471  11.530  60.392 \n",
       "\n",
       "Coefficients:\n",
       "             Estimate Std. Error t value             Pr(>|t|)    \n",
       "(Intercept) 114.11003    4.51768  25.259 < 0.0000000000000002 ***\n",
       "cigs         -0.64010    0.13182  -4.856           0.00000146 ***\n",
       "faminc        0.02761    0.04448   0.621              0.53488    \n",
       "motheduc     -0.59267    0.38908  -1.523              0.12811    \n",
       "fatheduc      0.72225    0.34586   2.088              0.03710 *  \n",
       "parity        2.41438    0.82393   2.930              0.00349 ** \n",
       "---\n",
       "Signif. codes:  0 ‘***’ 0.001 ‘**’ 0.01 ‘*’ 0.05 ‘.’ 0.1 ‘ ’ 1\n",
       "\n",
       "Residual standard error: 19.09 on 761 degrees of freedom\n",
       "Multiple R-squared:  0.04965,\tAdjusted R-squared:  0.0434 \n",
       "F-statistic: 7.951 on 5 and 761 DF,  p-value: 0.0000002572\n"
      ]
     },
     "metadata": {},
     "output_type": "display_data"
    },
    {
     "data": {
      "text/plain": [
       "\n",
       "Call:\n",
       "lm(formula = bwght ~ cigs + faminc + parity, data = my_data)\n",
       "\n",
       "Residuals:\n",
       "    Min      1Q  Median      3Q     Max \n",
       "-95.694 -12.098   0.478  11.900  57.306 \n",
       "\n",
       "Coefficients:\n",
       "             Estimate Std. Error t value             Pr(>|t|)    \n",
       "(Intercept) 115.21941    2.00477  57.473 < 0.0000000000000002 ***\n",
       "cigs         -0.62879    0.12923  -4.866           0.00000139 ***\n",
       "faminc        0.04288    0.03905   1.098              0.27246    \n",
       "parity        2.50932    0.82069   3.058              0.00231 ** \n",
       "---\n",
       "Signif. codes:  0 ‘***’ 0.001 ‘**’ 0.01 ‘*’ 0.05 ‘.’ 0.1 ‘ ’ 1\n",
       "\n",
       "Residual standard error: 19.13 on 763 degrees of freedom\n",
       "Multiple R-squared:  0.04397,\tAdjusted R-squared:  0.04021 \n",
       "F-statistic:  11.7 on 3 and 763 DF,  p-value: 0.0000001686\n"
      ]
     },
     "metadata": {},
     "output_type": "display_data"
    },
    {
     "data": {
      "text/html": [
       "2.27415162834745"
      ],
      "text/latex": [
       "2.27415162834745"
      ],
      "text/markdown": [
       "2.27415162834745"
      ],
      "text/plain": [
       "[1] 2.274152"
      ]
     },
     "metadata": {},
     "output_type": "display_data"
    }
   ],
   "source": [
    "#get R squared unrestricted\n",
    "summary(reg12u)\n",
    "# get R square\n",
    "r2u<-0.04965\n",
    "\n",
    "#get R squared restricted\n",
    "summary(reg12r)\n",
    "r2r<-0.04397\n",
    "  \n",
    "\n",
    "# compute F\n",
    "topF2<-(r2u-r2r)/2\n",
    "bottomF2<-(1-r2u)/dfu\n",
    "F2<-topF2/bottomF2\n",
    "F2"
   ]
  },
  {
   "cell_type": "code",
   "execution_count": 13,
   "metadata": {},
   "outputs": [],
   "source": [
    "#you see that F2=2.274\n",
    "#just like F1 was, these are two alternative ways to et the F stat value given your estimates\n",
    "  \n",
    "#get critical values for certain significance levels 5% or 10%\n",
    "\n",
    "# decide reject null if F>c  or cannot reject null if F<c\n",
    "\n",
    "# conclude\n",
    "\n",
    "#see lecture notes for interpretation\n",
    "\n",
    "#--------------------\n",
    "# or get R^2 or R-squared for R and Unrestr UR and use formula also\n",
    "#𝐹=((𝑅_𝑈^2−𝑅_𝑅^2 )∕𝑞)/((1−𝑅_𝑈^2 )∕(𝑁−𝑘−1))\n",
    "\n",
    "\n",
    "#get critical values for certain significance levels 5% or 10%\n",
    "\n",
    "# decide reject null if F>c  or cannot reject null if F<c\n",
    "\n",
    "# conclude"
   ]
  },
  {
   "cell_type": "markdown",
   "metadata": {},
   "source": [
    "TESTING FOR LINEAR COMBIN OF PARAMETERS "
   ]
  },
  {
   "cell_type": "code",
   "execution_count": 14,
   "metadata": {},
   "outputs": [
    {
     "data": {
      "text/plain": [
       "\n",
       "Call:\n",
       "lm(formula = bwght ~ cigs + faminc + toteduc + parity, data = my_data)\n",
       "\n",
       "Residuals:\n",
       "    Min      1Q  Median      3Q     Max \n",
       "-95.510 -11.965   0.396  11.794  57.147 \n",
       "\n",
       "Coefficients:\n",
       "             Estimate Std. Error t value             Pr(>|t|)    \n",
       "(Intercept) 112.57340    4.46260  25.226 < 0.0000000000000002 ***\n",
       "cigs         -0.61311    0.13141  -4.666           0.00000364 ***\n",
       "faminc        0.02865    0.04456   0.643              0.52052    \n",
       "toteduc       0.11436    0.17230   0.664              0.50706    \n",
       "parity        2.54728    0.82298   3.095              0.00204 ** \n",
       "---\n",
       "Signif. codes:  0 ‘***’ 0.001 ‘**’ 0.01 ‘*’ 0.05 ‘.’ 0.1 ‘ ’ 1\n",
       "\n",
       "Residual standard error: 19.13 on 762 degrees of freedom\n",
       "Multiple R-squared:  0.04452,\tAdjusted R-squared:  0.03951 \n",
       "F-statistic: 8.877 on 4 and 762 DF,  p-value: 0.0000005227\n"
      ]
     },
     "metadata": {},
     "output_type": "display_data"
    },
    {
     "data": {
      "text/html": [
       "277457.11631579"
      ],
      "text/latex": [
       "277457.11631579"
      ],
      "text/markdown": [
       "277457.11631579"
      ],
      "text/plain": [
       "[1] 277457.1"
      ]
     },
     "metadata": {},
     "output_type": "display_data"
    },
    {
     "data": {
      "text/html": [
       "278953.271954953"
      ],
      "text/latex": [
       "278953.271954953"
      ],
      "text/markdown": [
       "278953.271954953"
      ],
      "text/plain": [
       "[1] 278953.3"
      ]
     },
     "metadata": {},
     "output_type": "display_data"
    }
   ],
   "source": [
    "my_data$toteduc<-my_data$motheduc+my_data$fatheduc\n",
    "\n",
    "reg12r2<-lm(bwght~ cigs+faminc+toteduc+parity,my_data) \n",
    "summary(reg12r2)\n",
    "\n",
    "\n",
    "#SSRU\n",
    "sum(reg12u$residuals^2)\n",
    "\n",
    "#SSRR\n",
    "sum(reg12r2$residuals^2)\n",
    "\n",
    "\n",
    "#construct F with SSR u and compare to critical value. see lecture notes\n"
   ]
  },
  {
   "cell_type": "markdown",
   "metadata": {},
   "source": [
    "and given the above SSRu=277457.11631579 and SSRr=278953.271954953 get the F for these restrictions like we did above in the method F1. see slides for solutions.\n",
    "\n",
    "Or, alternatively,  use the canned package to test as below"
   ]
  },
  {
   "cell_type": "code",
   "execution_count": 15,
   "metadata": {},
   "outputs": [
    {
     "data": {
      "text/html": [
       "<table class=\"dataframe\">\n",
       "<caption>A anova: 2 × 6</caption>\n",
       "<thead>\n",
       "\t<tr><th></th><th scope=col>Res.Df</th><th scope=col>RSS</th><th scope=col>Df</th><th scope=col>Sum of Sq</th><th scope=col>F</th><th scope=col>Pr(&gt;F)</th></tr>\n",
       "\t<tr><th></th><th scope=col>&lt;dbl&gt;</th><th scope=col>&lt;dbl&gt;</th><th scope=col>&lt;dbl&gt;</th><th scope=col>&lt;dbl&gt;</th><th scope=col>&lt;dbl&gt;</th><th scope=col>&lt;dbl&gt;</th></tr>\n",
       "</thead>\n",
       "<tbody>\n",
       "\t<tr><th scope=row>1</th><td>763</td><td>279114.5</td><td>NA</td><td>      NA</td><td>      NA</td><td>       NA</td></tr>\n",
       "\t<tr><th scope=row>2</th><td>761</td><td>277457.1</td><td> 2</td><td>1657.428</td><td>2.272969</td><td>0.1037048</td></tr>\n",
       "</tbody>\n",
       "</table>\n"
      ],
      "text/latex": [
       "A anova: 2 × 6\n",
       "\\begin{tabular}{r|llllll}\n",
       "  & Res.Df & RSS & Df & Sum of Sq & F & Pr(>F)\\\\\n",
       "  & <dbl> & <dbl> & <dbl> & <dbl> & <dbl> & <dbl>\\\\\n",
       "\\hline\n",
       "\t1 & 763 & 279114.5 & NA &       NA &       NA &        NA\\\\\n",
       "\t2 & 761 & 277457.1 &  2 & 1657.428 & 2.272969 & 0.1037048\\\\\n",
       "\\end{tabular}\n"
      ],
      "text/markdown": [
       "\n",
       "A anova: 2 × 6\n",
       "\n",
       "| <!--/--> | Res.Df &lt;dbl&gt; | RSS &lt;dbl&gt; | Df &lt;dbl&gt; | Sum of Sq &lt;dbl&gt; | F &lt;dbl&gt; | Pr(&gt;F) &lt;dbl&gt; |\n",
       "|---|---|---|---|---|---|---|\n",
       "| 1 | 763 | 279114.5 | NA |       NA |       NA |        NA |\n",
       "| 2 | 761 | 277457.1 |  2 | 1657.428 | 2.272969 | 0.1037048 |\n",
       "\n"
      ],
      "text/plain": [
       "  Res.Df RSS      Df Sum of Sq F        Pr(>F)   \n",
       "1 763    279114.5 NA       NA        NA        NA\n",
       "2 761    277457.1  2 1657.428  2.272969 0.1037048"
      ]
     },
     "metadata": {},
     "output_type": "display_data"
    }
   ],
   "source": [
    "#linear restriction hypothesis testing\n",
    "#make sure you have installed car package\n",
    "\n",
    "linearHypothesis(reg12u, c(\"motheduc=0\", \"fatheduc= 0\"))\n",
    "#see lecture notes for interpretation\n",
    "\n",
    "#end birthweight analysis"
   ]
  },
  {
   "cell_type": "markdown",
   "metadata": {},
   "source": [
    "you see that the F is 2.27 and pvalue is 0.103 so we cannot reject at 10 percent the hypothesis we specified. This is the end of the birthweight notebook portion."
   ]
  },
  {
   "cell_type": "raw",
   "metadata": {},
   "source": [
    "Now we will switch to the new dataset on college attendance and wages.\n",
    "Load the college data set and do the assignment yourself using the code provided on bcourses if needed. try first to code yourself"
   ]
  },
  {
   "cell_type": "code",
   "execution_count": null,
   "metadata": {},
   "outputs": [],
   "source": [
    "#load Lecture12twoyear.dta\n"
   ]
  },
  {
   "cell_type": "markdown",
   "metadata": {},
   "source": [
    "Type the commands to regress the unrestricted model, log wage on jc, univ and experience and show the summary of the regression below"
   ]
  },
  {
   "cell_type": "code",
   "execution_count": null,
   "metadata": {},
   "outputs": [],
   "source": []
  },
  {
   "cell_type": "markdown",
   "metadata": {},
   "source": [
    "Type the command to test that the jc coeff equals the univ coeff"
   ]
  },
  {
   "cell_type": "markdown",
   "metadata": {},
   "source": [
    "#ALTERNATIVELY\n",
    "#slide 24 of Lecture 12 notes\n",
    "#regression restricted model such that a parameter is already the tested object,\n",
    "#test coeff of beta_univ=0 is the null of whether univ and jc have similar returns on wages\n",
    "\n",
    "create  totcollege  as the sum of jc  and univ and add to the dataframe\n",
    "\n",
    "reg12\\_college2<- lm( lwage ~ totcollege+ univ+ exper, my\\_data)\n",
    "\n",
    "summary(reg12\\_college2)\n",
    "what do you interpret when you type these commands below given the output, see slides for a check."
   ]
  },
  {
   "cell_type": "markdown",
   "metadata": {},
   "source": []
  }
 ],
 "metadata": {
  "kernelspec": {
   "display_name": "R",
   "language": "R",
   "name": "ir"
  },
  "language_info": {
   "codemirror_mode": "r",
   "file_extension": ".r",
   "mimetype": "text/x-r-source",
   "name": "R",
   "pygments_lexer": "r",
   "version": "4.2.1"
  }
 },
 "nbformat": 4,
 "nbformat_minor": 4
}
