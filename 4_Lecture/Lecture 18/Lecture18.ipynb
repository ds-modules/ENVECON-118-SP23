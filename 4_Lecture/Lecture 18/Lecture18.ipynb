{
 "cells": [
  {
   "attachments": {},
   "cell_type": "markdown",
   "id": "45202013-e314-41d5-902d-700884645657",
   "metadata": {},
   "source": [
    "## Lecture 18 EEP118\n",
    "\n",
    "\n",
    "Introduction to Panel Data, start notes Lecture 18\n",
    "\n",
    "Two year panel \n",
    "\n",
    "Fixed effects\n",
    "\n",
    "\n",
    "Chapter 13.3 and 13.4\n",
    "\n",
    "See R code on bcourses and also notebook in datahub for this lecture\n",
    "\n",
    "Pset 4 see bcourses for due date \n",
    "\n",
    "Pset 5 posted soon if not already on bcourses\n",
    "\n",
    "\n",
    "### Does unemployment affect crime rate?\n",
    "\n"
   ]
  },
  {
   "cell_type": "code",
   "execution_count": null,
   "id": "2a63d91f-6d11-4908-8254-399c7a23a5e3",
   "metadata": {},
   "outputs": [],
   "source": [
    "#Lecture18.R\n",
    "#LECTURE 18\n",
    "\n",
    "\n",
    "\n",
    "\n",
    "# Load the 'pacman' package\n",
    "library(pacman) \n",
    "#packages to use load them now using the pacman \"manager\"\n",
    "p_load(dplyr, haven, readr) \n",
    "#Another great feature of p_load(): if you try to load a package that is not installed on your machine, p_load() install the package for you, rather than throwing an error. For instance, let’s install and load one final package named ggplot2. \n",
    "p_load(ggplot2)\n",
    "\n",
    "\n",
    "pacman::p_load(lfe, lmtest, haven, sandwich, tidyverse)\n",
    "# lfe for running fixed effects regression\n",
    "# lmtest for displaying robust SE in output table\n",
    "# haven for loading in dta files\n",
    "# sandwich for producing robust Var-Cov matrix\n",
    "# tidyverse for manipulating data and producing plots\n",
    "\n",
    "\n",
    "#change into Lecture 18 directory\n",
    "#setwd(\"/Users/sofiavillas-boas/Dropbox/EEP118_Spring2023/Lectures/Lecture18\")\n"
   ]
  },
  {
   "cell_type": "code",
   "execution_count": null,
   "id": "90010501-22f1-4455-8ae6-408d7f42c0a1",
   "metadata": {
    "scrolled": true
   },
   "outputs": [],
   "source": [
    "\n",
    "#read in a Stata dataset DATA LECTURE 18\n",
    "mydata <- read_dta(\"Lecture18_CRIME2.dta\")\n",
    "head(mydata)\n",
    "\n",
    "#summary stats variables\n",
    "summary(mydata)\n",
    "\n"
   ]
  },
  {
   "cell_type": "code",
   "execution_count": null,
   "id": "50b483c2",
   "metadata": {},
   "outputs": [],
   "source": [
    "#Use only year 1987\n",
    "mydata87<-mydata[mydata$year==87,]\n",
    "summary(mydata87)"
   ]
  },
  {
   "attachments": {},
   "cell_type": "markdown",
   "id": "a4d2c1e6",
   "metadata": {},
   "source": [
    "What do we see in the summary stats in 1987? \n",
    "\n",
    "We see that there is variation in crime rates and unemployment across cities \n",
    "but also there is cross city variation across other aspects in 1987\n",
    "\n",
    "We have 46 cities\n",
    "\n",
    "We see that there is variation in crime rates and unemployment across cities but also there is cross city variation across other aspects in 1987\n"
   ]
  },
  {
   "attachments": {},
   "cell_type": "markdown",
   "id": "e0b29080",
   "metadata": {},
   "source": [
    "Lets consider the relationship between unemployment and crime rate in 1987 cross the 46 cities in the data\n",
    "\n",
    "Model- city j       \n",
    "\n",
    "𝑐𝑟𝑖𝑚𝑒𝑟𝑎𝑡𝑒_𝑗=𝛽_0+𝛽_1  𝑢𝑛𝑒𝑚_𝑗_ +𝑣_𝑗"
   ]
  },
  {
   "cell_type": "code",
   "execution_count": null,
   "id": "61907303-8304-4d0f-bc02-c334a119d9eb",
   "metadata": {},
   "outputs": [],
   "source": [
    "#reg 1, column (1)\n",
    "reg1<-lm(crmrte~unem, mydata87)\n",
    "summary(reg1)\n"
   ]
  },
  {
   "cell_type": "markdown",
   "id": "960df26f",
   "metadata": {},
   "source": [
    "In the above results we see that beta hat of unemployment is Large, negative, but not significant\n",
    "\n",
    "\n",
    "In the model above we have possibly many omitted variables that could also affect crime rate\n",
    "\n",
    "OVB: corr(pop density, crime)> 0 corr(poor, crime) >0   and corr(pop density, unem)> 0 corr(poor, unem) >0  => overestimate beta1 (positive OVB)\n",
    "\n",
    "If police presence, law enf expenditures negatively correlated with crime and positively correlated with unem => underestimate beta1 (negative OVB)\n",
    "\n"
   ]
  },
  {
   "cell_type": "markdown",
   "id": "1d831f4d",
   "metadata": {},
   "source": [
    "So, lets us control for factors in the model also and estimate a model to be presented in a column (2)"
   ]
  },
  {
   "cell_type": "code",
   "execution_count": null,
   "id": "045892a9",
   "metadata": {},
   "outputs": [],
   "source": [
    "#So, lets us control for factors in the model also model for column (2)\n",
    "reg2<-lm(crmrte~unem+area+west+offarea+lawexpc+pcinc,mydata87)\n",
    "summary(reg2)"
   ]
  },
  {
   "cell_type": "markdown",
   "id": "31a128df",
   "metadata": {},
   "source": [
    "In this model 2,  when we control for other city controls, betahat of unemployment is large, negative and significant at ten percent level (t stat 1.8)\n",
    "\n",
    "From the ouput of reg 2, how would you interpret beta hat for unemployment?\n",
    "\n",
    "Controlling for other factors pertaining to each city, (area, west, off area, lawexp, pcinc) an increase in unemployment rate significantly drops crime rate by 6.7 crimes per one thousand population in 1987\n"
   ]
  },
  {
   "cell_type": "code",
   "execution_count": null,
   "id": "cf000c30-9bff-4497-ae8f-51befc27974a",
   "metadata": {},
   "outputs": [],
   "source": [
    "#reg 3 both years and control for year 87 with a dummy for column (3)\n",
    "#generate a dummy variable equal to one for 1987 and zero otherwise\n",
    "mydata$d87<-0\n",
    "mydata$d87[mydata$year==87]<-1\n",
    "\n",
    "#run model with both years\n",
    "reg3<-lm(crmrte~unem+d87, mydata)\n",
    "summary(reg3)\n",
    "\n",
    "#recall that Crime rate varies in the data between 50-179\n",
    "# and recall that Unemployment rate varies in the data between 2-10.4\n"
   ]
  },
  {
   "cell_type": "markdown",
   "id": "18a570ff",
   "metadata": {},
   "source": [
    "In model (3) Adding one more year the sign of the behat unemployment coefficient is now positive and not significant"
   ]
  },
  {
   "cell_type": "code",
   "execution_count": null,
   "id": "4ea59c18",
   "metadata": {},
   "outputs": [],
   "source": [
    "#both years and also add controls to the model in addition to year 1987 dummy\n",
    "#column (4)\n",
    "reg4<-lm(crmrte~unem+d87+ area+west+offarea+lawexpc+ pcinc, mydata) \n",
    "summary(reg4)\n"
   ]
  },
  {
   "cell_type": "markdown",
   "id": "244bd435",
   "metadata": {},
   "source": [
    "In column (4), Adding one more year and also city controls, the  sign of beta hat for unemployment flipped to negative and not significant\n",
    "\n",
    "Also, in (4) none of the other city controls are significant. \n"
   ]
  },
  {
   "attachments": {},
   "cell_type": "markdown",
   "id": "8e4a91ef",
   "metadata": {},
   "source": [
    "Ideally, we would love to control for everything that is specific to each of the 46 cities in the data that is the same in both years. We can do this by creating a city specific variable, one for each of the cities, and this variable is called city dummy variable:\n",
    "\n",
    "City1=1      if city is 1 and city1=0, otherwise.\n",
    "\n",
    "City2=1      if city is 2 and city2=0, otherwise\n",
    "\n",
    "…\n",
    "\n",
    "City46=1    if city is 46 and city46=0, otherwise\n",
    "\n",
    "We can add those to the regression.  These are city fixed effects\n",
    " \n",
    "But one more thing…\n",
    "\n",
    "We have a constant. And, a constant( a vector of ones) is equal to city1+city2+… +city46, so adding all 46 dummies and a constant in a regression does not work - we would have collinearity. \n",
    "\n",
    "So the solution is to have a constant and drop one of the 46 city dummies\n",
    "\n",
    "\n",
    "## Introducing city fixed effects (FE) regression in R : use  felm\n",
    "\n"
   ]
  },
  {
   "cell_type": "code",
   "execution_count": null,
   "id": "13998e6c",
   "metadata": {},
   "outputs": [],
   "source": [
    "# And, in (4) still many omitted factors that can affect crime rate: good mayor, gangs, gun ownership, etc etc\n",
    "\n",
    "#Because of this, we will add city fixed effects\n",
    "#felm stands for fixed effects linear model  \" | city \"\n",
    "#Fixed effects column (5)\n",
    "#use felm\n",
    "reg5<-felm(crmrte~unem+d87|city, mydata)\n",
    "summary(reg5)\n",
    "\n",
    "\n",
    "#can I put 46 city fixed effects and constant? \n",
    "\n",
    "#NO. We can add a constant and all but one FE, so 45 in this case.\n",
    "\n"
   ]
  },
  {
   "cell_type": "markdown",
   "id": "96f9392f",
   "metadata": {},
   "source": [
    "What do we see in terms of beta hat for unemployment?\n",
    "\n",
    "In reg ( 5)Controlling for all constant characteristics of cities (that do not vary over time) =city fixed effects,  and for effect of time (dummy for year 87)  that captures changes in 1987 relative to 1982 factors that affect crime rate that are common to all cities, a 1 percent point increase in unemployment rate induces a significant  2.2. per thousand increase in crime rate\n",
    "\n",
    "                                                                                                                                      "
   ]
  },
  {
   "cell_type": "markdown",
   "id": "1563f863",
   "metadata": {},
   "source": [
    "Finally, lets consider the relationship between unemployment and crime rate in 1982 and 1987 cross the 46 cities in the data controlling for city specific constant factors as well as other yearly varying factors"
   ]
  },
  {
   "cell_type": "code",
   "execution_count": null,
   "id": "c1749a25",
   "metadata": {},
   "outputs": [],
   "source": [
    "#adding city FE and also time city varying controls\n",
    "#column (6) \n",
    "reg6<-felm(crmrte~unem+d87+ offarea+lawexpc+pcinc|city,mydata) \n",
    "summary(reg6)\n"
   ]
  },
  {
   "cell_type": "markdown",
   "id": "dcf4c50f",
   "metadata": {},
   "source": [
    "The output above controls for city FE but does not show us the 45 estimated city fixed effects hats\n",
    "\n",
    "Above we add a year fixed effect, controlling for things that are common to all cities that changed over the two years,\n",
    "\n",
    "Above we also add 45 city fixed effects, controlling for things that are specific to each city that could affect crime rate in each city that do not vary over the two years\n",
    "\n",
    "And we also control for city and year varying controls such as per capita income, expenditures in law enforecement and number of officers per area of the city.\n",
    "\n",
    "The beta hat of unemployment is then 2.93 now in this model reg 6"
   ]
  },
  {
   "cell_type": "code",
   "execution_count": null,
   "id": "e322ec87-126b-4162-a40f-bc0edd3fbb89",
   "metadata": {},
   "outputs": [],
   "source": [
    "#or the above can also be done by the command below where we see each of the 45 city fixed effect estimates and the constant estimate also\n",
    "\n",
    "\n",
    "#reg with fixed effects and log of unemployment claims as Y variable\n",
    "reg6n <- lm(crmrte ~ unem + d87+ +offarea+lawexpc+pcinc+factor(city) , data = mydata)\n",
    "summary(reg6n)"
   ]
  },
  {
   "cell_type": "markdown",
   "id": "2d622fb7",
   "metadata": {},
   "source": [
    "\n",
    "\n",
    "How do you interpret the estimate of Intercept? \n",
    "\n",
    "91.617867 = E[crime rate] when unemployment=0 all other factors=0 including\n",
    " for city2=0 to city46==0 , that is for city 1, \n",
    "and for dyear87=0 that is year 1982 \n",
    "     \n",
    "\n"
   ]
  },
  {
   "cell_type": "markdown",
   "id": "e090406b",
   "metadata": {},
   "source": [
    "\n",
    "Given the output in reg 6n: and that the constant is for city 1:\n",
    "\n",
    "\n",
    "1. Which cities have significantly higher crime rates on average than city 1 (at 5% level) ? \n",
    "\n",
    "That would be City 17, 19 and 20, because you can see from the full output which city fixed effects are positive and significant. also city 37, 41, 42 and 43 have positive and significant coeffiicents\n",
    "\n",
    "\n",
    "2. Which cities have significantly higher crime rates on average than city 1 (at 5% level) ? \n",
    "\n",
    "That would be from the full output which city fixed effects are negative and significant. \n",
    "\n",
    "\n",
    "Only city 30 is negative betahat and significant.\n",
    "\n",
    "there are some other cities with negative betahats but they are not significantly different from zero\n",
    "\n",
    "\n",
    "\n"
   ]
  },
  {
   "cell_type": "markdown",
   "id": "42f24058-edae-4fd0-ad3f-a1746dfbbe10",
   "metadata": {},
   "source": [
    "## Make table of results"
   ]
  },
  {
   "cell_type": "code",
   "execution_count": null,
   "id": "dfdfe436-2f88-4fda-8c94-1d1c983988bc",
   "metadata": {},
   "outputs": [],
   "source": [
    "#make table\n",
    "library(stargazer)\n",
    "stargazer(list(reg1,reg2,reg3,reg4,reg5,reg6), type=\"text\",keep.stat=c(\"n\",\"rsq\"))\n"
   ]
  },
  {
   "attachments": {},
   "cell_type": "markdown",
   "id": "b02f9d49-ee9b-41db-8426-d55de003eb23",
   "metadata": {},
   "source": [
    "## Looking at the beta hat for unemployment in each column (1), (2), etc\n",
    "\n",
    "In column (1) beta hat of unemployment is Large, negative, but not significant\n",
    "\n",
    "In column (2) when control for other city controls, betahat of unemployment is large, negative and significant at ten percent level (t stat 1.8)\n",
    "\n",
    "In column (3) Adding one more year the sign of the behat unemployment coefficient is now positive and not significant\n",
    "\n",
    "In column (4), Adding one more year and also city controls, the  sign of beta hat for unemployment flipped to negative and not significant Also, in (4) none of the other city controls are significant. \n",
    "\n",
    "And, in (4) still many omitted factors that can affect crime rate: good mayor, gangs, gun ownership, etc etc. Because of this, we will add city fixed effects in column (5), capturing anything specific to each city that does not vary over time.\n",
    "\n",
    "In column (5), controlling for all constant characteristics of cities (that do not vary over time) =city fixed effects,  and for effect of time (dummy for year 87)  that captures changes in 1987 relative to 1982 factors that affect crime rate that are common to all cities, a 1 percent point increase in unemployment rate induces a significant  2.2. per thousand increase in crime rate\n",
    "\n",
    "How do you interpret column (6) results?\n",
    "\n",
    "Do it yourself\n",
    "\n"
   ]
  },
  {
   "cell_type": "markdown",
   "id": "0456d5a0",
   "metadata": {},
   "source": [
    "Daily Assignment if you like\n",
    "\n",
    "In reg (6) controlling for city specific time varying factors such as officers per square mile, law enforcement expenditure, per capita income, as well as the controls in (5) above, the effect is very stable, in (6) it is 2.93. \n",
    "\n",
    "WHY CAN WE NOT ESTIMATE IN (6) A COEFFICIENT ON AREA AND and also one for WEST REGION?\n",
    "\n",
    "Why does R drop them out of the regression?\n",
    "\n",
    "Given that the coefficient on unemployment changes from 2.1 to 2.93 (when we control for officers per square mile), what is the sign of the correlation of officers per square mile and unemployment rate (assuming that officers per square mile are negatively correlated with crime rate)?\n"
   ]
  }
 ],
 "metadata": {
  "kernelspec": {
   "display_name": "R",
   "language": "R",
   "name": "ir"
  },
  "language_info": {
   "codemirror_mode": "r",
   "file_extension": ".r",
   "mimetype": "text/x-r-source",
   "name": "R",
   "pygments_lexer": "r",
   "version": "4.2.1"
  }
 },
 "nbformat": 4,
 "nbformat_minor": 5
}
