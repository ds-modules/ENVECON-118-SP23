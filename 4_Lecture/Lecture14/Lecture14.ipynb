{
 "cells": [
  {
   "cell_type": "markdown",
   "id": "728deced-23ab-4273-876e-cfebfd545927",
   "metadata": {},
   "source": [
    "## Lecture 14 EEP118 � use this notebook in 2023"
   ]
  },
  {
   "cell_type": "code",
   "execution_count": null,
   "id": "06887552-148a-4cfb-82af-56ea89599542",
   "metadata": {},
   "outputs": [],
   "source": [
    "#install packaged and load the data\n",
    "\n",
    "# Load the 'pacman' package\n",
    "library(pacman) \n",
    "#packages to use load them now using the pacman \"manager\"\n",
    "p_load(dplyr, haven, readr) \n",
    "#Another great feature of p_load(): if you try to load a package that is not installed on your machine, p_load() install the package for you, rather than throwing an error. For instance, let’s install and load one final package named ggplot2. \n",
    "p_load(ggplot2)\n",
    "\n",
    "pacman::p_load(lfe, lmtest, haven, sandwich, tidyverse)\n",
    "# lfe for running fixed effects regression\n",
    "# lmtest for displaying robust SE in output table\n",
    "# haven for loading in dta files\n",
    "# sandwich for producing robust Var-Cov matrix\n",
    "# tidyverse for manipulating data and producing plots\n",
    "\n",
    "\n",
    "#change into Lecture 14 directory\n",
    "setwd(\"/Users/sofiavillas-boas/Dropbox/EEP118_Spring2023/Lectures/Lecture14\")\n",
    "\n",
    "\n",
    "#set scientific display off, thank you Roy\n",
    "options(scipen=999)\n",
    "\n",
    "#read in a Stata dataset\n",
    "my_data <- read_dta(\"Lecture14hprice1.dta\")\n",
    "head(my_data)"
   ]
  },
  {
   "cell_type": "code",
   "execution_count": null,
   "id": "cdb93b39-2b57-47b0-babd-475a9b00bf8f",
   "metadata": {},
   "outputs": [],
   "source": [
    "#regression\n",
    "\n",
    "reg14 <- lm(price~bdrms+lotsize+sqrft, my_data)\n",
    "summary(reg14)"
   ]
  },
  {
   "cell_type": "code",
   "execution_count": null,
   "id": "c3a2c84b-ae12-491a-9a22-7faf538f7f12",
   "metadata": {},
   "outputs": [],
   "source": [
    "#add an interaction into the model\n",
    "#gen interaction\n",
    "#gen bdrms_sqrft=bdrms*sqrft\n",
    "#reg price bdrms sqrft bdrms_sqrft lotsize\n",
    "my_data$bdrms_sqrft<-my_data$bdrms*my_data$sqrft\n",
    "\n",
    "reg14int <- lm(price~bdrms+lotsize+sqrft+bdrms_sqrft, my_data)\n",
    "summary(reg14int)"
   ]
  },
  {
   "cell_type": "markdown",
   "id": "11157957-9d2a-4d5f-8a5b-010a7f3b246c",
   "metadata": {},
   "source": [
    "### How to obtain an estimate of the Prediction for the average value of all houses with bdrms=3, sqrft=2000, and lotsize=9000, that is get a prediction for the value of a house on average with certain characteristics?\n",
    "\n"
   ]
  },
  {
   "cell_type": "markdown",
   "id": "f021ac67-0df0-4631-99c8-a8b159d14dec",
   "metadata": {},
   "source": [
    "The trick is to transform the data and run a regression with the transformed data so that then the estimate of the constant is the average prediction you want and you also gets its standard error"
   ]
  },
  {
   "cell_type": "code",
   "execution_count": null,
   "id": "3dfff2c0-92e0-4426-9409-91c0e45357ba",
   "metadata": {},
   "outputs": [],
   "source": [
    "\n",
    "#trick\n",
    "#Prediction for the average value of all houses with bdrms=3, sqrft=2000, and lotsize=9000:\n",
    "#generate transfored variables such that then the estimated constant gives us what we need\n",
    "#gen bdrms0=bdrms-3\n",
    "#gen sqrft0=sqrft-2000\n",
    "#gen lotsize0=lotsize-9000\n",
    "#reg price bdrms0 sqrft0 lotsize0\n",
    "\n",
    "my_data$bdrms0<-my_data$bdrms-3\n",
    "my_data$sqrft0<-my_data$sqrft-2000\n",
    "my_data$lotsize0<-my_data$lotsize-9000\n",
    "reg14rev <- lm(price~bdrms0+lotsize0+sqrft0, my_data)\n",
    "summary(reg14rev)\n"
   ]
  },
  {
   "cell_type": "markdown",
   "id": "5c3a2a07-0133-4a09-a7ea-d9df90f2e702",
   "metadata": {},
   "source": [
    "From the output we can get a confidence interval"
   ]
  },
  {
   "cell_type": "markdown",
   "id": "72d54432-8070-44c6-936f-b7370a69a1ab",
   "metadata": {},
   "source": [
    "t table got 5% critical from the t 88-4=84 degrees of freedom,, tc14\n",
    "\n",
    "\n",
    "95% conf interval for predicted average prices of a 3 bd rooom house 2000 sqrt, 9000lot\n",
    "\n",
    "2.840e+02- tc14 * 8.121e+00 ;   2.840e+02+ tc14 * 8.121e+00"
   ]
  },
  {
   "cell_type": "markdown",
   "id": "0c7f27ba-ac36-42d5-a678-cb2da0e10775",
   "metadata": {},
   "source": [
    "The critical value for the 95% confidence interval is 2 (between 1.987 and 2.000 to be exact).\n",
    "The CI for average price E is thus\n",
    "\n",
    " 283.95 ±2 (8.12)  ≈   267.7,   300.2  .  \n",
    " \n",
    "We predict the mean price to be between $267,700 and $300,200. This was the CI for the average house E (of the above characteristics).\n",
    "The CI for the average house E is not the same as the CI for p, the price of a particular house of the above characteristics!!!\n"
   ]
  },
  {
   "cell_type": "markdown",
   "id": "2f43cc8f-b0d2-466e-bb51-0daccd0e91fc",
   "metadata": {},
   "source": [
    "## What about a prediction for a house?"
   ]
  },
  {
   "cell_type": "markdown",
   "id": "6bc42807-2e48-4dd1-8a41-187be0220553",
   "metadata": {},
   "source": [
    "For a house\n",
    "\n",
    "There are two cources randomness\n",
    "\n",
    "First, the variance of the average prediction Var( Eprediction) = 8.121*8.121, like from above se was 8.12 for an average house\n",
    "\n",
    "Second the  variance of the unobservable disturbance = 59.83*59.83\n",
    "\n",
    "So, the std error for a predicted house price= square root (varEprice+varU)== se_pp\n",
    "\n"
   ]
  },
  {
   "cell_type": "markdown",
   "id": "639a7978-677c-461d-a134-454110d965a0",
   "metadata": {},
   "source": [
    " 95% conf interval for predicted prices of a 3 bd rooom house 2000 sqrt, 9000lot\n",
    "\n",
    "is \n",
    "\n",
    "  2.840e+02- tc14 * sqrt{8.121e+00^2+59.83^2} ;   2.840e+02+ tc14 * sqrt{8.121^2+59.83^2}\n",
    "  \n",
    "  since tc=2\n",
    "  \n",
    "  and se of predicted price=sqrt{8.121^2+59.83^2}=60.38\n",
    "  \n",
    "which is equal to the interval then of\n",
    "\n",
    " 283.95 ±2 (60.38)  ≈  163.187 ,  404.713  .  \n"
   ]
  },
  {
   "cell_type": "markdown",
   "id": "78e907a2-703e-49a6-ae77-d778a3138bac",
   "metadata": {},
   "source": []
  }
 ],
 "metadata": {
  "kernelspec": {
   "display_name": "R",
   "language": "R",
   "name": "ir"
  },
  "language_info": {
   "codemirror_mode": "r",
   "file_extension": ".r",
   "mimetype": "text/x-r-source",
   "name": "R",
   "pygments_lexer": "r",
   "version": "4.2.1"
  }
 },
 "nbformat": 4,
 "nbformat_minor": 5
}

