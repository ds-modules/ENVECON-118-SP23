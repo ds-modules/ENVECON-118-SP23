{
 "cells": [
  {
   "cell_type": "markdown",
   "metadata": {},
   "source": [
    "# Lecture 5 - EEP 118 Spring 2023¶\n"
   ]
  },
  {
   "cell_type": "markdown",
   "metadata": {},
   "source": [
    "This is the notebook for Lecture 5 where we will see how coefficients and R Squared change when the sample size in the data increases when we run a linear least squares regression estimation procedure, like we did in Lecture 5 using R. \n",
    "\n",
    "To run, hit the `i>|Run` button on top middle bar and keep hitting and it will run line by line,\n",
    "\n",
    "OR\n",
    "\n",
    "To run a line that starts with In [ ]:  highlight the content and hit CONTROL ENTER at same time"
   ]
  },
  {
   "cell_type": "code",
   "execution_count": null,
   "metadata": {},
   "outputs": [],
   "source": [
    "library(tidyverse)"
   ]
  },
  {
   "cell_type": "code",
   "execution_count": null,
   "metadata": {},
   "outputs": [],
   "source": [
    "#-------------------------------------------\n",
    "#1. Read in data and see the top rows to see column names etc\n",
    "#-------------------------------------------\n",
    "my_data <- read.csv(\"Lecture5.csv\")\n",
    "head(my_data)"
   ]
  },
  {
   "cell_type": "markdown",
   "metadata": {},
   "source": [
    "Keep only year 87 , save as data2 dataframe, and redo Lecture 4"
   ]
  },
  {
   "cell_type": "code",
   "execution_count": null,
   "metadata": {},
   "outputs": [],
   "source": [
    "my_data2 <- filter(my_data, year == 87)\n",
    "head(my_data2)"
   ]
  },
  {
   "cell_type": "markdown",
   "metadata": {},
   "source": [
    "Scatter Plot of Crime Rate and Police Per Capita for Year 1987 only N=90"
   ]
  },
  {
   "cell_type": "code",
   "execution_count": null,
   "metadata": {},
   "outputs": [],
   "source": [
    "scatter_Lect4 <- ggplot(my_data2, aes(x=polpc, y=crmrte)) +\n",
    "                  geom_point() +\n",
    "                  labs(x = \"X = Police Per Capita\",\n",
    "                       y = \"Y = Crime Rate\",\n",
    "                       title = \"Scatter Plot of Y and X\",\n",
    "                       subtitle = \"1987 Observations Only (N=90)\")\n",
    "scatter_Lect4"
   ]
  },
  {
   "cell_type": "markdown",
   "metadata": {},
   "source": [
    "Regression of Crime Rate on Police Per Capita for Year 1987 only N=90"
   ]
  },
  {
   "cell_type": "code",
   "execution_count": null,
   "metadata": {},
   "outputs": [],
   "source": [
    "#regression\n",
    "regLecture4 <- lm(crmrte ~ polpc, my_data2)\n",
    "#show output\n",
    "summary(regLecture4)"
   ]
  },
  {
   "cell_type": "markdown",
   "metadata": {},
   "source": [
    "Generate Predicted Crime Rate using b0 and b1 estimates of the regression you estimated"
   ]
  },
  {
   "cell_type": "code",
   "execution_count": null,
   "metadata": {},
   "outputs": [],
   "source": [
    "# add predicted crime rate to my_data2\n",
    "my_data2 <- mutate(my_data2, crmrte_hat = regLecture4$fitted.values)"
   ]
  },
  {
   "cell_type": "markdown",
   "metadata": {},
   "source": [
    "Plot Crime Rate and Predicted Crime Rate to see how well we are doing"
   ]
  },
  {
   "cell_type": "code",
   "execution_count": null,
   "metadata": {},
   "outputs": [],
   "source": [
    "scatter_Lect5 <- ggplot(my_data2, aes(x=crmrte, y=crmrte_hat)) + # initiate plot\n",
    "                  geom_point() + # add points data\n",
    "                  labs(x = \"Y = Crime Rate Data\", # add labels\n",
    "                       y = \"Yhat = Predicted Crime Rate\",\n",
    "                       title = \"Scatter Plot of Y and Yhat\",\n",
    "                       subtitle = \"1987 Observations Only (N=90)\")\n",
    "scatter_Lect5"
   ]
  },
  {
   "cell_type": "markdown",
   "metadata": {},
   "source": [
    "Get regression line estimates and police per capita graph"
   ]
  },
  {
   "cell_type": "code",
   "execution_count": null,
   "metadata": {},
   "outputs": [],
   "source": [
    "scatter_Lect5 <- ggplot(my_data2, aes(x=polpc, y=crmrte_hat)) + # initiate plot\n",
    "                  geom_point() + # add points data\n",
    "                  labs(x = \"X = Police Per Capita\", # add labels\n",
    "                       y = \"Yhat = Predicted Crime Rate\",\n",
    "                       title = \"Scatter Plot of x and Yhat\",\n",
    "                       subtitle = \"1987 Observations Only (N=90)\")\n",
    "scatter_Lect5"
   ]
  },
  {
   "cell_type": "markdown",
   "metadata": {},
   "source": [
    "Use the full sample N=630"
   ]
  },
  {
   "cell_type": "code",
   "execution_count": null,
   "metadata": {},
   "outputs": [],
   "source": [
    "#regression\n",
    "regLectureN630 <- lm(crmrte ~ polpc, my_data)\n",
    "#show output\n",
    "summary(regLectureN630)"
   ]
  },
  {
   "cell_type": "markdown",
   "metadata": {},
   "source": [
    "Compare standard errors from reg using N=90 with Standard errors from N=630"
   ]
  },
  {
   "cell_type": "code",
   "execution_count": null,
   "metadata": {},
   "outputs": [],
   "source": [
    "summary(regLecture4)"
   ]
  },
  {
   "cell_type": "markdown",
   "metadata": {},
   "source": [
    "Comparing the regression output of N=630 with the one for N=90 you can see, for Police Per Capita's beta_hat, that SE is 2.00318 with N=90 and is 0.259 for N=630. so SE dropped a lot when N increased from 90 to 630.\n",
    "Combine the fitted values crime rate with the crime rate data on a scatterplot with police per capita on the horizontal x axis, for N=630"
   ]
  },
  {
   "cell_type": "code",
   "execution_count": null,
   "metadata": {},
   "outputs": [],
   "source": [
    "#generate fitted values\n",
    "#my_data$crmrte_hat<-regLectureN630$fitted.values\n",
    "my_data <- mutate(my_data, crmrte_hat = regLectureN630$fitted.values)"
   ]
  },
  {
   "cell_type": "code",
   "execution_count": null,
   "metadata": {},
   "outputs": [],
   "source": [
    "#make combined scatter plot of crime rate data and fitted values of crime rate given regression estimates\n",
    "scatter_data_fittedVals <- ggplot(data = my_data) + \n",
    "                            geom_point(aes(x=polpc, y=crmrte, color = \"data\")) +\n",
    "                            geom_point(aes(x=polpc, y=crmrte_hat, color = \"fitted\")) + \n",
    "                            labs(x = \"Police Per Capita\",\n",
    "                                 y = \"Crime Rate\",\n",
    "                                 title = \"Police Per Capita and Crime Rate Fitted Values in Blue and Data in Red\",\n",
    "                                 subtitle = \"Full sample (N = 630)\")\n",
    "\n",
    "scatter_data_fittedVals"
   ]
  }
 ],
 "metadata": {
  "kernelspec": {
   "display_name": "R",
   "language": "R",
   "name": "ir"
  },
  "language_info": {
   "codemirror_mode": "r",
   "file_extension": ".r",
   "mimetype": "text/x-r-source",
   "name": "R",
   "pygments_lexer": "r",
   "version": "4.2.1"
  }
 },
 "nbformat": 4,
 "nbformat_minor": 4
}
