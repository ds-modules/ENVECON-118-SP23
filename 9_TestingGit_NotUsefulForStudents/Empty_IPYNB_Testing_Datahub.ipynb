{
 "cells": [
  {
   "cell_type": "markdown",
   "id": "5485a6c9",
   "metadata": {},
   "source": [
    "# Empty IPYNB"
   ]
  },
  {
   "cell_type": "markdown",
   "id": "4d1ff36c",
   "metadata": {},
   "source": [
    "This ipynb was created for GSIs to test Spring 2023 datahub for EEP/IAS C118. This file contains no useful information."
   ]
  },
  {
   "cell_type": "code",
   "execution_count": 1,
   "id": "40fe4a1b",
   "metadata": {},
   "outputs": [
    {
     "data": {
      "text/html": [
       "4"
      ],
      "text/latex": [
       "4"
      ],
      "text/markdown": [
       "4"
      ],
      "text/plain": [
       "[1] 4"
      ]
     },
     "metadata": {},
     "output_type": "display_data"
    }
   ],
   "source": [
    "2+2"
   ]
  }
 ],
 "metadata": {
  "kernelspec": {
   "display_name": "R",
   "language": "R",
   "name": "ir"
  },
  "language_info": {
   "codemirror_mode": "r",
   "file_extension": ".r",
   "mimetype": "text/x-r-source",
   "name": "R",
   "pygments_lexer": "r",
   "version": "4.2.1"
  }
 },
 "nbformat": 4,
 "nbformat_minor": 5
}
