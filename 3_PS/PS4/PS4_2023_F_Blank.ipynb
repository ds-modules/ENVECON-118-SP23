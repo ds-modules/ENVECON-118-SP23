{
 "cells": [
  {
   "cell_type": "markdown",
   "id": "8601decf",
   "metadata": {},
   "source": [
    "# EEP/IAS 118 - Introductory Applied Econometrics\n",
    "\n",
    "## Problem Set 4, Spring 2023, Villas-Boas\n",
    "\n",
    "#### <span style=\"text-decoration: underline\">Due in Gradescope – see deadline due time  in Gradescope – April 4, 2023</span> \n",
    "\n",
    "Submit materials as **one pdf** on [Gradescope](https://www.gradescope.com/courses/492989). After uploading the pdf to Gradescope, please **assign all and only the appropriate pages to each question**. Questions that do not have properly assigned pages on Gradescope may not be graded. Codes and outputs not properly displayed will be marked as incorrect."
   ]
  },
  {
   "cell_type": "markdown",
   "id": "cfdd492a",
   "metadata": {},
   "source": [
    "**For full credit**, all confidence intervals/hypothesis tests must be conducted by hand - you can use functions like sd() or mean() to get values to plug into the formulas, but no credit will be given for the use of canned interval/test functions (i.e. linearHypothesis()) with no steps/calculations provided. Do not round any intermediate steps or final answers to less than four decimal digits."
   ]
  },
  {
   "cell_type": "markdown",
   "id": "4cc62bea",
   "metadata": {},
   "source": [
    "### Preamble\n",
    "When writing R code, it's a good habit to start your notebooks or R scripts with a preamble, a section where you load all necessary packages, set paths or change the working directory, or declare other options.\n",
    "\n",
    "Use the below code cell to load in packages you will use throughout the problem set (at least `haven`, `tidyverse` and `ggplot` this week). \n",
    "\n",
    "*Note:* **never** try to install packages on Datahub. All packages that you need are already installed and can be loaded immediately using the `library()` function. Attempting to install packages will create conflicts with the package versions on the server and potentially corrupt your notebook."
   ]
  },
  {
   "cell_type": "code",
   "execution_count": 1,
   "id": "8bd35d4a",
   "metadata": {},
   "outputs": [],
   "source": [
    "# insert your code here"
   ]
  },
  {
   "cell_type": "markdown",
   "id": "48fa6c28",
   "metadata": {},
   "source": [
    "### Exercise 1. \n",
    "\n",
    "In this problem set, we use a dataset on the annual salary of executives and the characteristics of the firm, and the firm's outcomes. This exercise is to be completed using R. If the labor market does not value a characteristic of the employer such as an outcome in the firm that the executive is responsible for (i.e. the value of sales or change in the rate of return) or the years of tenure as an executive (proxying experience), the demand for those executives and their salary goes downs and vice versa.\n",
    "\n",
    "*Note: log refers to the natural log, ln().*"
   ]
  },
  {
   "cell_type": "markdown",
   "id": "4ed7552f",
   "metadata": {},
   "source": [
    "| VARIABLE | Definition\t|\n",
    "|:-:|:-:|\n",
    "| SALARY\t| annual CEO salary (including bonuses) in 1990 (in thousands USD)  |\n",
    "| SALES | firm sales in 1990 (in millions USD) |\n",
    "| ROE | average return on equity, 1988–1990 (in percent)  |\n",
    "| FINANCE | = 1 if a financial company, 0 otherwise | \n"
   ]
  },
  {
   "cell_type": "markdown",
   "id": "1e27d8a3",
   "metadata": {},
   "source": [
    "#### Q1-1. ####\n",
    "Read the data and create the log of salary as an additional column in the data. Call this variable lsalary. Note: The dataset is in Stata. It is available on bCourses and is called pset4_2023.DTA."
   ]
  },
  {
   "cell_type": "code",
   "execution_count": 3,
   "id": "b41ba4ed",
   "metadata": {},
   "outputs": [],
   "source": [
    "# insert your code here"
   ]
  },
  {
   "cell_type": "markdown",
   "id": "990bc551",
   "metadata": {},
   "source": [
    "#### Q1-2 ####\n",
    "For *only* the following variables, report the sample mean, standard deviation, minimum, and maximum: salary, log salary, average return on equity, sales, and whether the company is a financial one (Hint: summarise()) \n",
    "\n",
    "Coding outputs from summarise() is sufficient, as long as what variable and summary stats each number pertains to is clear - no need to worry about unit / unit conversion."
   ]
  },
  {
   "cell_type": "code",
   "execution_count": 5,
   "id": "5fb4868e",
   "metadata": {},
   "outputs": [],
   "source": [
    "# insert your code here"
   ]
  },
  {
   "cell_type": "markdown",
   "id": "7db6aadb",
   "metadata": {},
   "source": [
    "#### Q1-3 ####\n",
    "(a) Create a histogram for the CEO salary. Label everything: add axis titles and a main title. (Hint: see the Histograms section of Coding Bootcamp Part 4) \n",
    "\n",
    "(b) Then, plot another histogram for CEO salary in the financial sector. \n",
    "\n",
    "(c) Finally, plot the same graph for CEO salary not in the finance sector. \n",
    "\n",
    "(d) What is the average CEO salary for each group? (Remember, units and unit conversion.)\n",
    "\n",
    "(e) Overlap both histograms into the same figure."
   ]
  },
  {
   "cell_type": "code",
   "execution_count": 7,
   "id": "129cee4d",
   "metadata": {},
   "outputs": [],
   "source": [
    "# insert your code here (a)"
   ]
  },
  {
   "cell_type": "code",
   "execution_count": 8,
   "id": "f8cf05c8",
   "metadata": {},
   "outputs": [],
   "source": [
    "# insert your code here (b)"
   ]
  },
  {
   "cell_type": "code",
   "execution_count": 9,
   "id": "f0d483c5",
   "metadata": {},
   "outputs": [],
   "source": [
    "# insert your code here (c)"
   ]
  },
  {
   "cell_type": "code",
   "execution_count": 10,
   "id": "702da105",
   "metadata": {},
   "outputs": [],
   "source": [
    "# insert your code here (d)"
   ]
  },
  {
   "cell_type": "markdown",
   "id": "7e874570",
   "metadata": {},
   "source": [
    "➡️ Type your written answer for _Exercise 1 Question 3d_ here (replacing this text)."
   ]
  },
  {
   "cell_type": "code",
   "execution_count": 11,
   "id": "6829131e",
   "metadata": {},
   "outputs": [],
   "source": [
    "# insert your code here (e)"
   ]
  },
  {
   "cell_type": "markdown",
   "id": "5cdd7542",
   "metadata": {},
   "source": [
    "#### Q1-4 ####\n",
    "Estimate the model of salary as a linear function of a constant, firm’s sales, and average ROE. Comment on the estimated intercept and each of the right-hand side variables’ estimated parameters in terms of Sign, Size, and Significance (SSS)."
   ]
  },
  {
   "cell_type": "code",
   "execution_count": 17,
   "id": "5ca970a0",
   "metadata": {},
   "outputs": [],
   "source": [
    "# insert your code here"
   ]
  },
  {
   "cell_type": "markdown",
   "id": "6e2384d9",
   "metadata": {},
   "source": [
    "➡️ Type your written answer for _Exercise 1 Question 4 Intercept_ here (replacing this text)."
   ]
  },
  {
   "cell_type": "markdown",
   "id": "9ed0a8ec",
   "metadata": {},
   "source": [
    "➡️ Type your written answer for _Exercise 1 Question 4 Coefficient 1_ here (replacing this text)."
   ]
  },
  {
   "cell_type": "markdown",
   "id": "d39d7f15",
   "metadata": {},
   "source": [
    "➡️ Type your written answer for _Exercise 1 Question 4 Coefficient 2_ here (replacing this text)."
   ]
  },
  {
   "cell_type": "markdown",
   "id": "0056203d",
   "metadata": {},
   "source": [
    "#### Q1-5 ####\n",
    "In absolute terms, does average ROE or sales have a larger impact on expected salary? (Use Standardized Regression - Lec 13/Sec6) "
   ]
  },
  {
   "cell_type": "code",
   "execution_count": 19,
   "id": "0f7c9859",
   "metadata": {},
   "outputs": [],
   "source": [
    "# insert your code here"
   ]
  },
  {
   "cell_type": "markdown",
   "id": "72e267ff",
   "metadata": {},
   "source": [
    "➡️ Type your written answer for _Exercise 1 Question 5_ here (replacing this text)."
   ]
  },
  {
   "cell_type": "markdown",
   "id": "a1a348f2",
   "metadata": {},
   "source": [
    "#### Q1-6 ####\n",
    "(a) Estimate the model of salary as a linear function of a constant, firm’s sales, average ROE, and an indicator for being in the financial sector. \n",
    "\n",
    "(b) Test the joint significance of the ROE and sales variables at the 1% significance level."
   ]
  },
  {
   "cell_type": "code",
   "execution_count": 21,
   "id": "732de783",
   "metadata": {},
   "outputs": [],
   "source": [
    "# insert your code here"
   ]
  },
  {
   "cell_type": "markdown",
   "id": "7b62f55b",
   "metadata": {},
   "source": [
    "#### Q1-7 ####\n",
    "Looking at the coefficients on the ROE across two models in Q4 and Q6, what do you conclude in terms of the type of firm being in the finance sector having caused bias on the impact of ROE on salary if not considered?"
   ]
  },
  {
   "cell_type": "markdown",
   "id": "5e8110b1",
   "metadata": {},
   "source": [
    "➡️ Type your written answer for _Exercise 1 Question 7_ here (replacing this text)."
   ]
  },
  {
   "cell_type": "markdown",
   "id": "72ef7f99",
   "metadata": {},
   "source": [
    "#### Q1-8 ####\n",
    "(a) Using only data on nonfinance sector observations, specify a model to predict the average salary of an executive whose firm has an ROE of 10% with 4,000 (meaning 4 billion USD) in sales.\n",
    "\n",
    "(b) Construct a 95% confidence interval for the predicted average salary for an executive with those characteristics."
   ]
  },
  {
   "cell_type": "code",
   "execution_count": 25,
   "id": "898ea602",
   "metadata": {},
   "outputs": [],
   "source": [
    "# insert your code here"
   ]
  },
  {
   "cell_type": "markdown",
   "id": "c8d2409d",
   "metadata": {},
   "source": [
    "➡️ Type your written answer for _Exercise 1 Question 8_ here (replacing this text)."
   ]
  },
  {
   "cell_type": "markdown",
   "id": "74d9d8b0",
   "metadata": {},
   "source": [
    "#### Q1-9 ####\n",
    "What would be the 95% confidence interval for the predicted salary (not the average predicted) with those characteristics in 8.a. above? Are you surprised that the intervals differ between questions 8.b. and 9? (Hint: Lec 14)"
   ]
  },
  {
   "cell_type": "code",
   "execution_count": 29,
   "id": "7e289cab",
   "metadata": {},
   "outputs": [],
   "source": [
    "# insert your code here"
   ]
  },
  {
   "cell_type": "markdown",
   "id": "04404b80",
   "metadata": {},
   "source": [
    "➡️ Type your written answer for _Exercise 1 Question 9_ here (replacing this text)."
   ]
  },
  {
   "cell_type": "markdown",
   "id": "c5e605c8",
   "metadata": {},
   "source": [
    "#### Q1-10 ####\n",
    "We are selecting between model (1A.) and model (1B.) below. Estimate both models, creating any variables you need.  Based on your estimated output using linear regression analysis, which model would you choose to use in labor market analysis? \n",
    "\n",
    "$ (Model\\;1A) \\;\\; wage_i = \\beta_0 + \\beta_1 ROE_i + \\beta_2 sales_i + \\beta_3 finance_i + u_i $\n",
    "\n",
    "$ (Model\\;1B) \\;\\; wage_i = \\gamma_0 + \\gamma_1 ROE_i + \\gamma_2 log(sales_i) + \\gamma_3 finance_i + v_i $"
   ]
  },
  {
   "cell_type": "code",
   "execution_count": 31,
   "id": "d73b24c2",
   "metadata": {},
   "outputs": [],
   "source": [
    "# insert your code here"
   ]
  },
  {
   "cell_type": "markdown",
   "id": "4020e80f",
   "metadata": {},
   "source": [
    "➡️ Type your written answer for _Exercise 1 Question 10_ here (replacing this text)."
   ]
  },
  {
   "cell_type": "markdown",
   "id": "2cee4015",
   "metadata": {},
   "source": [
    "#### Q1-11 ####\n",
    "If an executive’s tenure is positively correlated with salary and also positively correlated with the sales of the company, are we overestimating the effect of sales on salary in model 1A? please explain briefly"
   ]
  },
  {
   "cell_type": "markdown",
   "id": "095ebc51",
   "metadata": {},
   "source": [
    "➡️ Type your written answer for _Exercise 1 Question 11_ here (replacing this text)."
   ]
  },
  {
   "cell_type": "markdown",
   "id": "51cfbb85",
   "metadata": {},
   "source": [
    "### Ex2 ###\n",
    "\n",
    "We want to select the best model to use for future labor market analysis. We are selecting between model (2C) and model (2D) below.\n",
    "\n",
    "$ (Model\\;2C) \\;\\; salary_i = \\theta_0 + \\theta_1 ROE_i + \\theta_2 sales_i + \\theta_3 finance_i + u_i $\n",
    "\n",
    "$ (Model\\;2D) \\;\\; log(salary_i) = \\eta_0 + \\eta_1 ROE_i + \\eta_2 sales_i + \\eta_3 finance_i + v_i $"
   ]
  },
  {
   "cell_type": "markdown",
   "id": "dac862af",
   "metadata": {},
   "source": [
    "#### Q2-1 ####\n",
    "Estimate both models in exercise 2, creating any variables you need.  Which model would you choose to use henceforth?  (Lec 15)"
   ]
  },
  {
   "cell_type": "code",
   "execution_count": 34,
   "id": "78374f92",
   "metadata": {},
   "outputs": [],
   "source": [
    "# insert your code here"
   ]
  },
  {
   "cell_type": "markdown",
   "id": "c4da3022",
   "metadata": {},
   "source": [
    "➡️ Type your written answer for _Exercise 2 Question 1_ here (replacing this text)."
   ]
  },
  {
   "cell_type": "markdown",
   "id": "897f33a4",
   "metadata": {},
   "source": [
    "#### Q2-2 ####\n",
    "Using the model (2D) from this Exercise 2, please predict the average salary for an executive in a firm with ROE = 12.6% and sales = 4500 (4.5 Billion USD) in a finance firm."
   ]
  },
  {
   "cell_type": "code",
   "execution_count": 37,
   "id": "da524e1a",
   "metadata": {},
   "outputs": [],
   "source": [
    "# insert your code here"
   ]
  },
  {
   "cell_type": "markdown",
   "id": "52bfd06c",
   "metadata": {},
   "source": [
    "### Ex3: Finance or not Finance ###"
   ]
  },
  {
   "cell_type": "markdown",
   "id": "c693c857",
   "metadata": {},
   "source": [
    "#### Q3-1 ####\n",
    "Estimate model 2C separately for executives in the finance sector and for those not in the finance sector. Formally test at the 5% significance level whether the regressions should be estimated separately or whether we can pool the data like we have been doing so far. (Hint: Lec 17) "
   ]
  },
  {
   "cell_type": "code",
   "execution_count": 39,
   "id": "a12585e9",
   "metadata": {},
   "outputs": [],
   "source": [
    "# insert your code here"
   ]
  },
  {
   "cell_type": "markdown",
   "id": "d02dbc0e",
   "metadata": {},
   "source": [
    "➡️ Type your written answer for _Exercise 3 Question 1_ here (replacing this text)."
   ]
  },
  {
   "cell_type": "markdown",
   "id": "b2abd9a0",
   "metadata": {},
   "source": [
    "#### Q3-2 ####\n",
    "I would like to know whether the effect of the ROE on salary differs depending on whether the company is in the finance sector.\n",
    "\n",
    "$ (Model\\;1A) \\;\\; wage_i = \\beta_0 + \\beta_1 ROE_i + \\beta_2 sales_i + \\beta_3 finance_i + u_i $\n",
    "\n",
    "Estimate a model, by adjusting Model 1A, that enables you to test this and please interpret your findings. Compare the p value for the estimated coefficient of interest at the 5 percent significance level to conclude whether you reject the null of no heterogeneity in the effect of ROE on salary for finance and non-finance firms, against a two-sided alternative, holding all else equal. (Hint: Generate the interaction you need and add it to the regression.) "
   ]
  },
  {
   "cell_type": "code",
   "execution_count": 43,
   "id": "5d1b0517",
   "metadata": {},
   "outputs": [],
   "source": [
    "# insert your code here"
   ]
  },
  {
   "cell_type": "markdown",
   "id": "eff286b7",
   "metadata": {},
   "source": [
    "➡️ Type your written answer for _Exercise 3 Question 2_ here (replacing this text)."
   ]
  }
 ],
 "metadata": {
  "kernelspec": {
   "display_name": "R",
   "language": "R",
   "name": "ir"
  },
  "language_info": {
   "codemirror_mode": "r",
   "file_extension": ".r",
   "mimetype": "text/x-r-source",
   "name": "R",
   "pygments_lexer": "r",
   "version": "4.2.1"
  }
 },
 "nbformat": 4,
 "nbformat_minor": 5
}
