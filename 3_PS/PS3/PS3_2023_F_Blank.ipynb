{
 "cells": [
  {
   "cell_type": "markdown",
   "metadata": {},
   "source": [
    "# EEP/IAS 118 - Introductory Applied Econometrics\n",
    "\n",
    "## Problem Set 3, Spring 2023, Villas-Boas\n",
    "\n",
    "#### <span style=\"text-decoration: underline\">Due in Gradescope – see deadline due time  in Gradescope – Mar 7, 2023</span> \n",
    "\n",
    "Submit materials as **one pdf** on [Gradescope](https://www.gradescope.com/courses/492989). After uploading the pdf to Gradescope, please **assign appropriate pages to each question**. Questions that do not have assigned pages on Gradescope may not be graded. Codes and outputs not properly displayed will be marked as incorrect."
   ]
  },
  {
   "cell_type": "markdown",
   "metadata": {},
   "source": [
    "For the purposes of this class, we will be using Berkeley's _Datahub_ to conduct our analysis remotely using these notebooks.\n",
    "\n",
    "If instead you already have an installation of R/RStudio on your personal computer and prefer to work offline, you can download the data for this assignment from bCourses (Make sure to install/update all packages mentioned in the problem sets in order to prevent issues regarding deprecated or outdated packages).\n",
    "\n",
    "* The data files can be accessed directly  through _Datahub_ and do not require you to install anything on your computer. \n",
    "* Before submitting, make sure that all code cells are run with all output fully visible, and **do not print the entire dataset in your submission**. If you viewed the data earlier, remove that line of code and re-run the code cell (as datasets get bigger this adds many pages to pdf submissions and increases the likelihood we miss your answer).\n",
    "\n",
    "*Note: Coding Bootcamp [Part 3](https://r.datahub.berkeley.edu/hub/user-redirect/git-pull?repo=https%3A%2F%2Fgithub.com%2Fds-modules%2FENVECON-118-SP23&branch=main&urlpath=retro%2Ftree%2FENVECON-118-SP23%2F1_CodingBootcamp%2FCoding+Bootcamp+Part+3_2023.ipynb) and [Part 4](https://r.datahub.berkeley.edu/hub/user-redirect/git-pull?repo=https%3A%2F%2Fgithub.com%2Fds-modules%2FENVECON-118-SP23&branch=main&urlpath=retro%2Ftree%2FENVECON-118-SP23%2F1_CodingBootcamp%2FCoding+Bootcamp+Part+4_2023.ipynb) covers all necessary R methods."
   ]
  },
  {
   "cell_type": "markdown",
   "metadata": {},
   "source": [
    "### Preamble\n",
    "When writing R code, it's a good habit to start your notebooks or R scripts with a preamble, a section where you load all necessary packages, set paths or change the working directory, or declare other options.\n",
    "\n",
    "Use the below code cell to load in packages you will use throughout the problem set (at least `haven`, `tidyverse`, and `ggplot2` this week). \n",
    "\n",
    "*Note:* **never** try to install packages on Datahub. All packages that you need are already installed and can be loaded immediately using the `library()` function. Attempting to install packages will create conflicts with the package versions on the server and potentially corrupt your notebook."
   ]
  },
  {
   "cell_type": "code",
   "execution_count": 1,
   "metadata": {},
   "outputs": [],
   "source": [
    "# include preamble code here"
   ]
  },
  {
   "cell_type": "markdown",
   "metadata": {},
   "source": [
    "\n"
   ]
  },
  {
   "cell_type": "markdown",
   "metadata": {},
   "source": [
    "## Exercise 1: Relationship between Housing Prices (in USD) and Characteristics of US Cities.\n",
    "\n",
    "This exercise is to be completed using R. We will establish a simple linear relationship between **housing prices and characteristics of cities** in a sample of cities. This is called a hedonic regression, relating price to characteristics. The idea is that if a characteristic is valued in a city, demand for housing increases as people move there, and then housing price increases, all else constant. Vice versa, if people do not value a characteristic, like crime, for example.  \n",
    "\n",
    "*Note: in economics, log always refers to the natural log, ln().*"
   ]
  },
  {
   "cell_type": "markdown",
   "metadata": {},
   "source": [
    "### Data description\n",
    "\n",
    "We will use September 2021 data from Zumper on one-bedroom apartment prices and 2019 data from the FBI on crime for US cities and other characteristics of US cities, such as number of bars, air quality index, wealth of the city measured by GDP, population, whether the city has a winning record majors sports team, as well as the number of sports teams in the major basketball, baseball and American football leagues. The data has 98 cities.\n",
    "\n",
    "<center><b> Readme for data variables, several sources - collected by Villas-Boas, Fall 2021 </b></center>\n",
    "\n",
    "|Variable name \t|\tDefinition\t| Source    |\n",
    "|:-:|:-|:-:|\n",
    "| city | City name | |\n",
    "| state | State name | |\n",
    "|pricesept2021\t|\tOne bedroom housing price, in USD\t|\twww.Zumper.com\t|\n",
    "|successteams\t| Dummy variable =1 if at least one NBA, NFL, or MLB team in a city had a winning record last season (2020 season), =0 otherwise| Google search\n",
    "|violentcrime2019\t| Violent crimes (in thousands) | [FBI](https://ucr.fbi.gov/crime-in-the-u.s/2019/crime-in-the-u.s.-2019/tables/table-8/table-8.xls/view)\n",
    "|numberbars\t| Number of bars, count\t| [www.yellowpages.com](www.yellowpages.com)\n",
    "|aqi2020\t| Annual 2020 air quality index (AQI) |\t[EPA](https://aqs.epa.gov/aqsweb/airdata/download_files.html#Annual)\n",
    "|gdp\t| Gross domestic product (billion $) |\t[BEA](https://apps.bea.gov/itable/iTable.cfm?ReqID=70&step=1&acrdn=5)\n",
    "|popul2019\t| 2019 population (in thousands of people)\t| [FBI](https://ucr.fbi.gov/crime-in-the-u.s/2019/crime-in-the-u.s.-2019/tables/table-8/table-8.xls/view)\n",
    "|nteams\t| Number of major professional sports teams\t| Google search\n"
   ]
  },
  {
   "cell_type": "markdown",
   "metadata": {},
   "source": [
    "**1.** The dataset is in Stata format (.dta) and was created for the purpose of this problem set only. It is available on bcourses and Datahub and is called **Villas-Boas_2023pset3.dta**.\n",
    "\n",
    "Read the data into R using\n",
    "`my_data <- read_dta(\"Villas-Boas_2023pset3.dta\")` \n",
    "and create a new variable, *gdpPc*, as the GDP per capita, defined as `gdp/popul2019`"
   ]
  },
  {
   "cell_type": "code",
   "execution_count": 3,
   "metadata": {},
   "outputs": [],
   "source": [
    "# insert your code here"
   ]
  },
  {
   "cell_type": "markdown",
   "metadata": {},
   "source": [
    "**2.** For each of the variables (including the newly created *gdpPc* variable), get (a) the sample mean, (b) the median, (c) the minimum, and (d) the maximum.\n",
    "\n",
    "_Hint: see the section on `summary()` in Coding Bootcamp Part 1_"
   ]
  },
  {
   "cell_type": "code",
   "execution_count": 5,
   "metadata": {},
   "outputs": [],
   "source": [
    "# insert your code here"
   ]
  },
  {
   "cell_type": "markdown",
   "metadata": {},
   "source": [
    "**3.** Create a $\\color{magenta}{\\text{pink}}$ bars histogram for *pricesept2021*. Label everything: add axis titles and a main title.\n",
    "\n",
    "_Hint: see the Histograms section of Coding Bootcamp Part 4_"
   ]
  },
  {
   "cell_type": "code",
   "execution_count": 7,
   "metadata": {},
   "outputs": [],
   "source": [
    "# insert your code here"
   ]
  },
  {
   "cell_type": "markdown",
   "metadata": {},
   "source": [
    "**4.** We will now compare housing across the two groups (group **successteams = 1** and **successteams = 0**) using the dataset. How many cities have at least one successful team and how many cities have no successful team?"
   ]
  },
  {
   "cell_type": "code",
   "execution_count": 9,
   "metadata": {},
   "outputs": [],
   "source": [
    "# insert your code here"
   ]
  },
  {
   "cell_type": "markdown",
   "metadata": {},
   "source": [
    "➡️ Type your written answer for _Exercise 1 Question 4_ here (replacing this text)."
   ]
  },
  {
   "cell_type": "markdown",
   "metadata": {},
   "source": [
    "**5.** Draw separate histograms of the housing price in each group of cities, with and without successful teams.\n",
    "\n",
    "*Hint: see the “Histograms” section of Coding Bootcamp Part 4*"
   ]
  },
  {
   "cell_type": "code",
   "execution_count": 11,
   "metadata": {},
   "outputs": [],
   "source": [
    "# insert your code here"
   ]
  },
  {
   "cell_type": "markdown",
   "metadata": {},
   "source": [
    "**6.**\tOverlap both histograms into the same graph and comment on differences (be precise - and explain why the differences intuitively make sense).\n",
    "\n",
    "*Hint: see the “Stacking/Multiple Histograms” section of Coding Bootcamp Part 4*"
   ]
  },
  {
   "cell_type": "code",
   "execution_count": 13,
   "metadata": {},
   "outputs": [],
   "source": [
    "# insert your code here"
   ]
  },
  {
   "cell_type": "markdown",
   "metadata": {},
   "source": [
    "➡️ Type your written answer for _Exercise 1 Question 6_ here (replacing this text)."
   ]
  },
  {
   "cell_type": "markdown",
   "metadata": {},
   "source": [
    "**7.**\tCompute an estimate for the mean of the housing prices for the successful teams city group (**successteams=1**) in the data frame. Construct a 95% confidence interval for this mean. Give an interpretation of these results in a sentence.  \n",
    "\n",
    "_(Hint: use `mean()` and `sd()` to get the necessary information to construct the CI)_"
   ]
  },
  {
   "cell_type": "code",
   "execution_count": 15,
   "metadata": {},
   "outputs": [],
   "source": [
    "# insert code here"
   ]
  },
  {
   "cell_type": "markdown",
   "metadata": {},
   "source": [
    "➡️ Type your answer to _Exercise 1 Question 7_ here (replacing this text)"
   ]
  },
  {
   "cell_type": "markdown",
   "metadata": {},
   "source": [
    "**8.**\tLet $D$ be the difference in prices between the cities with successful sports teams (**successteams=1**) and unsuccessful (**successteams=0**) groups. State an estimator $\\hat{D}$ for $D$ and use the estimator to compute an estimate of $D$. Compute a standard error for $\\hat{D}$. Derive a 90% confidence interval for $D$ and interpret in one sentence. "
   ]
  },
  {
   "cell_type": "code",
   "execution_count": 17,
   "metadata": {},
   "outputs": [],
   "source": [
    "# insert your code here"
   ]
  },
  {
   "cell_type": "markdown",
   "metadata": {},
   "source": [
    "➡️ Type your answer to _Exercise 1 Question 8_ here (replacing this text)"
   ]
  },
  {
   "cell_type": "markdown",
   "metadata": {},
   "source": [
    "**9.** Using the data frame, test whether the average of the housing values **pricesept2021** for the successful teams’ city group is statistically different at the 1% significance level ($\\alpha$ = 0.01) from average housing values in the unsuccessful teams’ city group (that is, in terms of the hypothesis, the null is equal, and the alternative is not equal). (Recall the 5 step-procedure for hypothesis testing). "
   ]
  },
  {
   "cell_type": "code",
   "execution_count": 19,
   "metadata": {},
   "outputs": [],
   "source": [
    "# insert your code here"
   ]
  },
  {
   "cell_type": "markdown",
   "metadata": {},
   "source": [
    "➡️ Type your answer to _Exercise 1 Question 9_ here (replacing this text)"
   ]
  },
  {
   "cell_type": "markdown",
   "metadata": {},
   "source": [
    "**10.**\tLet's now look at air quality in the data. **The U.S. AQI is EPA’s index for reporting air quality**. Draw a histogram for **aqi2020** and add a vertical red line at the EPA standard for Spare the Air Day AQI = 100. (https://www.airnow.gov/aqi/aqi-basics/)"
   ]
  },
  {
   "cell_type": "markdown",
   "metadata": {},
   "source": [
    "For example, in the Bay Area, a Spare the Air Alert is called when air quality is forecast to be unhealthy, or above 100 in the AQI, in any one of the reporting zones. An alert may span over two days if air quality is expected to remain unhealthy for prolonged periods. If air quality is unhealthy in the Bay Area, it is almost always because of two kinds of air [pollutants](https://www.sparetheair.org/understanding-air-quality/air-pollutants-and-health-effects/whos-at-risk): [Ozone](https://www.sparetheair.org/understanding-air-quality/air-pollutants-and-health-effects/ozone) and [fine particulate matter, or PM2.5](https://www.sparetheair.org/understanding-air-quality/air-pollutants-and-health-effects/particulate-matter)."
   ]
  },
  {
   "cell_type": "markdown",
   "metadata": {},
   "source": [
    "_Hint: see the \"Lines\" section of Coding Bootcamp Part 4_"
   ]
  },
  {
   "cell_type": "code",
   "execution_count": 21,
   "metadata": {},
   "outputs": [],
   "source": [
    "# insert your code here"
   ]
  },
  {
   "cell_type": "markdown",
   "metadata": {},
   "source": [
    "**11.**\t(a) Regress **pricesept2021** on a constant, **successteams, violentcrime2019, aqi2020, numberbars, gdpPc**. (b) Generate a series of the predicted values of price and plot those against the price data series: What do you see in terms of fit? "
   ]
  },
  {
   "cell_type": "code",
   "execution_count": 23,
   "metadata": {},
   "outputs": [],
   "source": [
    "# insert your code here"
   ]
  },
  {
   "cell_type": "markdown",
   "metadata": {},
   "source": [
    "➡️ Type your answer to _Exercise 1 Question 11_ here (replacing this text)"
   ]
  },
  {
   "cell_type": "markdown",
   "metadata": {},
   "source": [
    "**12.**\tWhat is the percent variation of housing prices that the model is explaining, and what percent is the model **NOT** explaining?"
   ]
  },
  {
   "cell_type": "markdown",
   "metadata": {},
   "source": [
    "➡️ Type your answer to _Exercise 1 Question 12_ here (replacing this text)"
   ]
  },
  {
   "cell_type": "markdown",
   "metadata": {},
   "source": [
    "**13.**\tCompute the residuals series and plot the residuals on the vertical axis against **gdpPc** in the x axis, using `ggplot()`. When plotting, exclude the outlier city with gdpPc > 6, by setting the ggplot scale limits as follows: `lims(x = c(0, 6), y = c(-1000,1500))`. \n",
    "\n",
    "Is the constant variance assumption for the residuals valid or not for different levels of **gdpPc**, that is, of GDP per capita when you look at the scatter plot of the estimated residuals? "
   ]
  },
  {
   "cell_type": "code",
   "execution_count": 51,
   "metadata": {},
   "outputs": [],
   "source": [
    "# insert your code here"
   ]
  },
  {
   "cell_type": "markdown",
   "metadata": {},
   "source": [
    "➡️ Type your answer to _Exercise 1 Question 13_ here (replacing this text)"
   ]
  },
  {
   "cell_type": "markdown",
   "metadata": {},
   "source": [
    "**14.**\tUsing the triplet Sign Size Significance (SSS), let’s interpret two of the coefficients from the model in Question 11. \n",
    "\n",
    "**(a)** What can you say of the effect of **aqi2020** on housing prices holding other factors constant? "
   ]
  },
  {
   "cell_type": "markdown",
   "metadata": {},
   "source": [
    "➡️ Type your answer to _Exercise 1 Question 14 part (a)_ here (replacing this text)"
   ]
  },
  {
   "cell_type": "markdown",
   "metadata": {},
   "source": [
    "**(b)** What about the coefficient on **successteams**? Use the (SSS) interpretation again."
   ]
  },
  {
   "cell_type": "markdown",
   "metadata": {},
   "source": [
    "➡️ Type your answer to _Exercise 1 Question 14 part (b)_ here (replacing this text)"
   ]
  },
  {
   "cell_type": "markdown",
   "metadata": {},
   "source": [
    "**15.**\tGiven the estimated coefficients in Question 11's regression, and after you estimate the correlation between **gdpPc** and the air quality index across cities, what will happen to the estimated coefficient of **gdpPc** if you do not include the air quality index (**aqi2020**) in the estimated regression in question 11? Go through the Omitted Variable formula and explain briefly."
   ]
  },
  {
   "cell_type": "code",
   "execution_count": 28,
   "metadata": {},
   "outputs": [],
   "source": [
    "# insert your code here"
   ]
  },
  {
   "cell_type": "markdown",
   "metadata": {},
   "source": [
    "➡️ Type your answer to _Exercise 1 Question 15_ here (replacing this text)"
   ]
  },
  {
   "cell_type": "markdown",
   "metadata": {},
   "source": [
    "**16.**\tNow estimate the model in Question 11 but do not include **aqi2020**. What is the new estimate of the coefficient on **gdpPc**, and do you confirm your answer in Question 15? "
   ]
  },
  {
   "cell_type": "code",
   "execution_count": 30,
   "metadata": {},
   "outputs": [],
   "source": [
    "# insert your code here"
   ]
  },
  {
   "cell_type": "markdown",
   "metadata": {},
   "source": [
    "➡️ Type your answer to _Exercise 1 Question 16_ here (replacing this text)"
   ]
  },
  {
   "cell_type": "markdown",
   "metadata": {},
   "source": [
    "**17.**\tWhat happens to the R squared ($R^2$) when you do not include the **aqi2020** variable in the equation compared to the R squared in Question 11?"
   ]
  },
  {
   "cell_type": "code",
   "execution_count": 32,
   "metadata": {},
   "outputs": [],
   "source": [
    "# insert your code"
   ]
  },
  {
   "cell_type": "markdown",
   "metadata": {},
   "source": [
    "➡️ Type your answer to _Exercise 1 Question 17_ here (replacing this text)"
   ]
  },
  {
   "cell_type": "markdown",
   "metadata": {},
   "source": [
    "## Exercise 2: Survey Evidence Towards Safe Working Conditions of Essential Workers during COVID"
   ]
  },
  {
   "cell_type": "markdown",
   "metadata": {},
   "source": [
    "Two former EEP majors and I have a co-authored a forthcoming paper in the _Applied Economics Perspectives and Policy_ journal, using survey data to investigate consumer preferences towards sustainable food and products manufactured under safe working conditions of essential labor during the COVID pandemic[<sup>1</sup>](#fn1). \n",
    "\n",
    "We ask survey respondents some basic demographics, and also whether they or a loved one were exposed or had COVID in early 2020. Then we ask them to make choices among food options that vary in price and also vary in whether they are produced under safe essential labor conditions. Based on stated survey responses we summarize the choices consistent with respondents preferring the safe labor working conditions product. We also break up the agreement with choosing worker-safe products for respondents that were exposed to COVID in 2020 either directly or through a loved one, and those that were not exposed."
   ]
  },
  {
   "cell_type": "markdown",
   "metadata": {},
   "source": [
    " | | Percent choosing Safe Worker Condition Product | Total number of respondents |\n",
    " |:--|:--:|:--:|\n",
    " | Overall | 64.42% | 860 |\n",
    " | Exposed to COVID | 67.89% | 601 |\n",
    " | Not Exposed to COVID | 56.37% | 259 |"
   ]
  },
  {
   "cell_type": "markdown",
   "metadata": {},
   "source": [
    " Let $p$ be the fraction of respondents that opt to choose the safe working condition products."
   ]
  },
  {
   "cell_type": "markdown",
   "metadata": {},
   "source": [
    "**1.**\tUse the survey results to estimate $p$. Also estimate the standard error of your estimate. "
   ]
  },
  {
   "cell_type": "code",
   "execution_count": 33,
   "metadata": {},
   "outputs": [],
   "source": [
    "# insert any code here for using R as your calculator"
   ]
  },
  {
   "cell_type": "markdown",
   "metadata": {},
   "source": [
    "➡️ Type your answer to _Exercise 2 Question 1_ here (replacing this text)"
   ]
  },
  {
   "cell_type": "markdown",
   "metadata": {},
   "source": [
    "**2.**\tConstruct a 95% confidence interval for $p$. Interpret. "
   ]
  },
  {
   "cell_type": "code",
   "execution_count": 35,
   "metadata": {},
   "outputs": [],
   "source": [
    "# insert any code here for using R as your calculator"
   ]
  },
  {
   "cell_type": "markdown",
   "metadata": {},
   "source": [
    "➡️ Type your answer to _Exercise 2 Question 2_ here (replacing this text)"
   ]
  },
  {
   "cell_type": "markdown",
   "metadata": {},
   "source": [
    "**3.**\tConstruct a 99% confidence interval for $p$. Is it larger or narrower than the 95% confidence interval? Why? "
   ]
  },
  {
   "cell_type": "code",
   "execution_count": 37,
   "metadata": {},
   "outputs": [],
   "source": [
    "# insert any code here for using R as your calculator"
   ]
  },
  {
   "cell_type": "markdown",
   "metadata": {},
   "source": [
    "➡️ Type your answer to _Exercise 2 Question 3_ here (replacing this text)"
   ]
  },
  {
   "cell_type": "markdown",
   "metadata": {},
   "source": [
    "**4.**\tIs there statistical evidence that more than 60% of respondents chose the labor safe product? Use the 5 steps for hypothesis testing with a 5% significance level. "
   ]
  },
  {
   "cell_type": "code",
   "execution_count": 39,
   "metadata": {},
   "outputs": [],
   "source": [
    "# insert any code here for using R as your calculator"
   ]
  },
  {
   "cell_type": "markdown",
   "metadata": {},
   "source": [
    "➡️ Type your answer to _Exercise 2 Question 4_ here (replacing this text)"
   ]
  },
  {
   "cell_type": "markdown",
   "metadata": {},
   "source": [
    "**5.**\tIs there statistical evidence that opting to choose the labor safe product is more likely for respondents that were directly exposed to COVID (or through a loved one) compared to respondents that were not exposed at the 1% significance level? Explain (to answer this question use the 5 steps for hypothesis testing). "
   ]
  },
  {
   "cell_type": "code",
   "execution_count": 41,
   "metadata": {},
   "outputs": [],
   "source": [
    "# insert any code here for using R as your calculator"
   ]
  },
  {
   "cell_type": "markdown",
   "metadata": {},
   "source": [
    "➡️ Type your answer to _Exercise 2 Question 5_ here (replacing this text)"
   ]
  },
  {
   "cell_type": "markdown",
   "metadata": {},
   "source": [
    "**Please remember to submit your Jupyter Notebook displaying all codes and output.**"
   ]
  },
  {
   "cell_type": "markdown",
   "metadata": {},
   "source": [
    "<span id=\"fn1\"> Link to the working paper with Nica and Jackie: https://escholarship.org/uc/item/0nv2n39w.</span>"
   ]
  }
 ],
 "metadata": {
  "kernelspec": {
   "display_name": "R",
   "language": "R",
   "name": "ir"
  },
  "language_info": {
   "codemirror_mode": "r",
   "file_extension": ".r",
   "mimetype": "text/x-r-source",
   "name": "R",
   "pygments_lexer": "r",
   "version": "4.2.1"
  }
 },
 "nbformat": 4,
 "nbformat_minor": 4
}
