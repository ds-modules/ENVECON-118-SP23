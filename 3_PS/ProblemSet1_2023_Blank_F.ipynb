{
 "cells": [
  {
   "cell_type": "markdown",
   "id": "549cbe30-2349-4fd1-bab1-9417771127f8",
   "metadata": {},
   "source": [
    "# EEP/IAS 118 - Introductory Applied Econometrics Problem Set 1\n",
    "\n",
    "## Problem Set 1, Spring 2023, Villas-Boas\n",
    "\n",
    "#### <span style=\"text-decoration: underline\">Due in Gradescope – see deadline due time  in Gradescope – Feb 2, 2023</span> \n",
    "\n",
    "Submit materials (all handwritten/typed answers, Excel notebooks, and R reports) as **one pdf** on [Gradescope](https://www.gradescope.com/courses/492989). For handwritten answers and Excel notebooks, please insert a picture/screenshot directly into this notebook ([How to add pictures to the markdown cell (See method 1 or 2)](https://mljar.com/blog/jupyter-notebook-insert-image/)). \n",
    "\n",
    "After uploading the pdf to Gradescope, please **assign appropriate pages to each question**. Questions that do not have assigned pages on Gradescope may not be graded.\n",
    "\n",
    "All students currently on the EEP118 bCourses have been added using the bCourses email. If you do not have access to the Gradescope course, please reach out to the GSIs."
   ]
  },
  {
   "cell_type": "markdown",
   "id": "921654d7",
   "metadata": {},
   "source": [
    "## Exercise 1 (Excel / Google Sheets)\n",
    "\n",
    "Note: Microsoft Office 365 is available from Berkeley Software to students for free - [Link](https://software.berkeley.edu/microsoft-365-apps-enterprise)."
   ]
  },
  {
   "cell_type": "markdown",
   "id": "5fcb4ec8-3e61-450e-9b23-3444ed57a47a",
   "metadata": {},
   "source": [
    "**Relationship between Housing Prices and Violent Crime in 10 US Cities.** \n",
    "\n",
    "We will use September 2021 data from Zumper on one-bedroom apartment prices and 2019 data from the FBI on crime for 10 US cities. The original data has 100 cities. In this first problem set we will only use a subset of the cities.\n",
    "This exercise is to be completed using Excel. We will establish a simple linear relationship between *housing prices and crime* in a subset of cities.\n",
    "\n",
    "*Note: in economics, log always refers to the natural log, ln().*"
   ]
  },
  {
   "cell_type": "markdown",
   "id": "dfda5ed0-860a-4e6d-aaef-5f53d5d2cff9",
   "metadata": {},
   "source": [
    "<center><b> Table 1: Log of (Housing Price in US dollars) and Log of (Violent Crimes per 1,000 People) - Sample 1 </b></center>\n",
    "\n",
    "| CityName <br /> (Sample 1) | log of Housing Price <br /> (log of Y) | log of Violent Crimes per 1,000 People <br /> (log of X) |\n",
    "| :-----------: | :---------------: | :---------------: |\n",
    "|Arlington\t|6.85646198\t|0.72027585\n",
    "|Austin\t|7.27239839|\t1.37447478\n",
    "|Corpus Christi\t|6.73340189\t|0.96164643\n",
    "|Dallas\t|7.23705903|\t2.46504402\n",
    "|El Paso\t|6.65929392|\t0.88459365\n",
    "|Fort Worth\t|6.99393298\t|1.40315148\n",
    "|Houston\t|7.05617528\t|3.22910335\n",
    "|Irving\t|7.09837564\t|-0.4828863\n",
    "|Laredo\t|6.63331843\t|-0.1791267\n",
    "|Lubbock\t|6.50727771|\t0.96049899\n"
   ]
  },
  {
   "cell_type": "markdown",
   "id": "284f47b6-2808-43e6-8ad8-ee2dda05d388",
   "metadata": {},
   "source": [
    "**(a)** Use Excel to create a scatter plot of these observations. Don't forget to (1) label the axes and their units, and (2) title your graph. **You should use the tables provided here for these calculations, not the actual observations from the .csv data file.**"
   ]
  },
  {
   "cell_type": "markdown",
   "id": "27f1457a",
   "metadata": {},
   "source": [
    "➡️ Insert image of your scatter plot here"
   ]
  },
  {
   "cell_type": "markdown",
   "id": "a3188dcb-1bf4-499c-b0ab-64080b3fa1dd",
   "metadata": {},
   "source": [
    "**(b)** This question has **two parts**. \n",
    "\n",
    "First: Estimate the linear relationship between the log of Housing Price (log(Y)) and the log of violent crimes per 1,000 people (log(X)) by OLS, showing all intermediate\n",
    "calculations as we saw in the lecture 3 slides (use Excel to create the table and show all the steps).\n",
    "\n",
    "Second: interpret the value of the estimated parameters $\\beta_0$ and $\\beta_1$.\n",
    "\n",
    "$$ \\widehat{log (Y_i)} = \\hat{\\beta_0} + \\hat{\\beta_1} log(X_i) \\ \\ \\ \\ \\ \\ \\text{i = \\{cities in sample 1\\}}$$"
   ]
  },
  {
   "cell_type": "markdown",
   "id": "3fd10d1c",
   "metadata": {},
   "source": [
    "➡️ Insert image of your excel calculations for _Exercise 1 (b) First Part_ here"
   ]
  },
  {
   "cell_type": "markdown",
   "id": "3dd5c26f",
   "metadata": {},
   "source": [
    "➡️ Type your answer to _Exercise 1 (b) Second Part_ here (replacing this text)"
   ]
  },
  {
   "cell_type": "markdown",
   "id": "803435db-c57c-4c88-9c4e-d7e3fdc8a77a",
   "metadata": {},
   "source": [
    "**(c)** In your table, compute the fitted value and the residual for each observation, and verify that the residuals (approximately) sum to 0."
   ]
  },
  {
   "cell_type": "markdown",
   "id": "100d26b8",
   "metadata": {},
   "source": [
    "➡️ Insert image of your excel calculations here"
   ]
  },
  {
   "cell_type": "markdown",
   "id": "f4ba0606-e12f-416e-8ccf-b3d35f5f526a",
   "metadata": {},
   "source": [
    "**(d)** According to the estimated relation, what is the predicted $\\hat{Y}$ (**level**, not log of prices) for a city with a log crime of -5.2? (Pay attention to units)"
   ]
  },
  {
   "cell_type": "markdown",
   "id": "ed48cb9a-3e7b-4b39-a3fb-f20564b765a9",
   "metadata": {},
   "source": [
    "➡️ Type your answer to _Exercise 1 (d)_ here (replacing this text)"
   ]
  },
  {
   "cell_type": "markdown",
   "id": "8c3bca65-e7a9-4ca5-be48-4b11376af7ee",
   "metadata": {},
   "source": [
    "**(e)** How much of the variation in per capita log home prices in these 10 cities is explained by the log of violent crimes per 1,000 people?"
   ]
  },
  {
   "cell_type": "markdown",
   "id": "07f19e4a-3165-40e3-9671-3ded74a7d633",
   "metadata": {},
   "source": [
    "➡️ Type your answer to _Exercise 1 (e)_ here (replacing this text)"
   ]
  },
  {
   "cell_type": "markdown",
   "id": "25960a27-1141-4c11-a536-dbd60b340416",
   "metadata": {},
   "source": [
    "**(f)** Repeat exercise (b) for one additional set of 10 cities below. **You should use Table 2 provided\n",
    "above for these calculations, not the actual observations from the .csv data file.**"
   ]
  },
  {
   "cell_type": "markdown",
   "id": "6f3baa80-6c42-46a5-bd36-7751275c8c35",
   "metadata": {},
   "source": [
    "<center><b> Table 2: Log of (Housing Price in US dollars) and Log of (Violent Crimes per 1,000 People) - Sample 2 </b></center>\n",
    "\n",
    "| CityName <br /> (Sample 2) | log of Housing Price <br /> (log of Y) | log of Violent Crimes per 1,000 People <br /> (log of X) |\n",
    "| :-----------: | :---------------: | :---------------: |\n",
    "|Plano\t|7.22256602\t|-0.8416472\n",
    "|San Antonio|\t6.95654544\t|2.40206837\n",
    "|Salt Lake City|\t7.04751722\t|0.36603104\n",
    "|Chesapeake|\t6.95654544\t|0.1061602\n",
    "|Norfolk\t|6.95654544\t|0.28141246\n",
    "|Richmond\t|6.99393298\t|0.06578774\n",
    "|Virginia Beach\t|7.1623975\t|-0.5430045\n",
    "|Seattle\t|7.43248381\t|1.4976121\n",
    "|Spokane\t|6.90775528\t|0.41871033\n",
    "|Madison\t|7.13089883\t|-0.0618754"
   ]
  },
  {
   "cell_type": "markdown",
   "id": "0abea128",
   "metadata": {},
   "source": [
    "➡️ Insert image of your excel calculations for _Exercise 1 (f) First Part_ here"
   ]
  },
  {
   "cell_type": "markdown",
   "id": "01cdc497-626b-4d68-9065-7becbced6d7d",
   "metadata": {},
   "source": [
    "➡️ Type your answer to _Exercise 1 (f) Second Part_ here (replacing this text)"
   ]
  },
  {
   "cell_type": "markdown",
   "id": "a8203f64-a373-49b1-8dd1-698e0f92ac74",
   "metadata": {},
   "source": [
    "**(g)** Do your estimates of $\\hat{\\beta_0}$ and $\\hat{\\beta_1}$ change between Tables 1, and 2? Why?\n"
   ]
  },
  {
   "cell_type": "markdown",
   "id": "66d76c27-3d3d-46ba-820a-67ad59d1e99b",
   "metadata": {},
   "source": [
    "➡️ Type your answer to _Exercise 1 (g)_ here (replacing this text)"
   ]
  },
  {
   "cell_type": "markdown",
   "id": "83bed41d-26b7-4c45-9086-fd3ede6aa1af",
   "metadata": {},
   "source": [
    "## Exercise 2 (Functional Forms)\n",
    "\n",
    "Suppose you estimate alternative specifications as given below *using data from 41 cities*:\n",
    "\n",
    "A linear relationship: $\\hat{Y_i} = 996 + 29.6 X_i$\n",
    "\n",
    "A linear-log relationship: $\\hat{Y_i} = 1065 + 90.8 \\log(X_i)$ \n",
    "\n",
    "A log-log relationship: $\\widehat{\\log(Y_i)} = 6.97 + 0.05 \\log(X_i)$ \n",
    "\n",
    "Note that it is convention to always use the natural log. "
   ]
  },
  {
   "cell_type": "markdown",
   "id": "79c30bda-7bd3-453d-a5be-64f19b008310",
   "metadata": {},
   "source": [
    "**(i)** Interpret the parameter on violent crimes $X$ (or log of violent crimes per 1000 people  $\\log(X)$) in each of these equations. "
   ]
  },
  {
   "cell_type": "markdown",
   "id": "a31e4d86-e117-42ee-83a5-73b179977f05",
   "metadata": {},
   "source": [
    "➡️ Type your answer to _Exercise 2 (a) i_ here (replacing this text)"
   ]
  },
  {
   "cell_type": "markdown",
   "id": "a0c18632-90c8-48c6-ad26-3ca76ff956af",
   "metadata": {},
   "source": [
    "**(ii)** What is the predicted one bedroom rental price in dollars for a city with a crime per 1000 people equal to 5.2 in each of these equations? "
   ]
  },
  {
   "cell_type": "markdown",
   "id": "52f93e1d-ae6e-481f-81f1-fcee682b3c84",
   "metadata": {},
   "source": [
    "➡️ Type your answer to _Exercise 2 (a) ii_ here (replacing this text)"
   ]
  },
  {
   "cell_type": "markdown",
   "id": "66c8c23c-f7ce-4296-a2ec-257a8541d24e",
   "metadata": {},
   "source": [
    "## Exercise 3. Importing data into R and Basic R first commands \n",
    "\n",
    "For the purposes of this class, we will be using RStudio or a cloud-based version of RStudio provided through UC Berkeley’s $Datahub$. The data files can be accessed directly through $Datahub$ and do not require you to install anything on your computer. This exercise is designed to get you familiar with R (if you have RStudio on your computer) or accessing the service.\n",
    "\n",
    "The exercise will have you learn about loading data and obtaining summary statistics. To start off, we’re going to use Jupyter notebooks to help familiarize you with some R commands. For help with Jupyter and R, refer to the Coding Bootcamp Part 1 recording on bCourses and the corresponding interactive notebook on $Datahub$. \n",
    "\n",
    "*Note: [Coding Bootcamp Part 1](https://bcourses.berkeley.edu/courses/1520116/external_tools/78985) covers all necessary R methods."
   ]
  },
  {
   "cell_type": "markdown",
   "id": "e331e854-673a-4a82-b56a-a9db3b925253",
   "metadata": {},
   "source": [
    "**(a)** To access the Jupyter notebook for this problem set on Datahub, click the following link and navigate to the Problem Set 1 folder.\n",
    "\n",
    "*Skip! You are already here - nice work.*"
   ]
  },
  {
   "cell_type": "markdown",
   "id": "58afad9a-a63b-49f9-9273-824ba07ee674",
   "metadata": {},
   "source": [
    "**(b)** Load the datafile \"dataPset1_2023.csv\" into R (since this is a “.csv” file, you should use the read.csv() function). "
   ]
  },
  {
   "cell_type": "code",
   "execution_count": 2,
   "id": "5ba16919-bd12-43af-a0e5-b460c15ff27b",
   "metadata": {},
   "outputs": [],
   "source": [
    "# insert code here"
   ]
  },
  {
   "cell_type": "markdown",
   "id": "64e0547d-daf5-4b43-8997-e3a47d04e112",
   "metadata": {},
   "source": [
    "**(c)** Provide basic summary statistics on the log of home price (logPrice) in the dataframe. Use the summary() command. This function is part of base R, so you do not need to load any packages before using it. What is the median value of log housing price in cities in the sample?"
   ]
  },
  {
   "cell_type": "code",
   "execution_count": 4,
   "id": "e751bfcf-683d-4cc4-924c-fbb05d77dce0",
   "metadata": {},
   "outputs": [],
   "source": [
    "# insert code here"
   ]
  },
  {
   "cell_type": "markdown",
   "id": "12b43554-ddfe-47bc-a46c-61782f1a7502",
   "metadata": {},
   "source": [
    "➡️ Type your written answer to _Exercise 3 (c)_ here (replacing this text)"
   ]
  },
  {
   "cell_type": "markdown",
   "id": "c1dfbc83-4d3b-4f0b-925c-2893b3547967",
   "metadata": {},
   "source": [
    "**(d)** Next, generate custom summary statistics on the Log of violent crime (logCrime) using the summarise() function provided by dplyr. At minimum, your summary stats should include (a) obs. count, (b) min, mean, median, max, (c) range, and (d) std. deviation. You will need to call the tidyverse package with the library() function to use it (tidyverse is a collection of packages designed for data science. It includes dplyr and several other packages we’ll use this term). "
   ]
  },
  {
   "cell_type": "code",
   "execution_count": 6,
   "id": "9e8c345f-42e6-42b2-bc2f-27f4178835b1",
   "metadata": {},
   "outputs": [],
   "source": [
    "# insert code here"
   ]
  },
  {
   "cell_type": "markdown",
   "id": "b1c35a7b-3321-435f-bf64-d26f67b9e5c0",
   "metadata": {},
   "source": [
    "**(e)** Create a scatter plot of the Price and Crime data in levels. Use \n",
    "\n",
    "`fig1 <- plot(ps1_df$violentcrime, ps1_df$pricesept2021, main=\"Scatter of Y on X\", xlab=\"X = Crime (per 100 thousand People)\", ylab=\"Y = House Price (in USD)\")`\n",
    "\n",
    "\n",
    "Note: Make sure to print the scatterplot in the notebook's codecell."
   ]
  },
  {
   "cell_type": "code",
   "execution_count": null,
   "id": "8c910253-5eb7-429e-8f19-afb25a657762",
   "metadata": {},
   "outputs": [],
   "source": [
    "# insert code here"
   ]
  },
  {
   "cell_type": "markdown",
   "id": "7ef1605e-7e1d-4ec3-a2d5-f170c29d785a",
   "metadata": {},
   "source": [
    "**(f)** Save a pdf to your computer. This can be done by going to `File > Save and Export Notebook As... > PDF`.\n",
    "\n",
    "**Note: Make sure to check your pdf before uploading to ensure all the code cells are run and all text/output is visible, and insert all screenshots from Excel/handwritten work before uploading to Gradescope.** "
   ]
  }
 ],
 "metadata": {
  "kernelspec": {
   "display_name": "R",
   "language": "R",
   "name": "ir"
  },
  "language_info": {
   "codemirror_mode": "r",
   "file_extension": ".r",
   "mimetype": "text/x-r-source",
   "name": "R",
   "pygments_lexer": "r",
   "version": "4.2.1"
  }
 },
 "nbformat": 4,
 "nbformat_minor": 5
}
